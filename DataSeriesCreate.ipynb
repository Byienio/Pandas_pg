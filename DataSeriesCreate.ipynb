{
 "cells": [
  {
   "metadata": {},
   "cell_type": "markdown",
   "source": "# Data Series Creation in Pandas",
   "id": "a01b5f72f8a2033b"
  },
  {
   "cell_type": "code",
   "id": "initial_id",
   "metadata": {
    "collapsed": true,
    "ExecuteTime": {
     "end_time": "2025-06-19T17:34:43.270638Z",
     "start_time": "2025-06-19T17:34:43.266636Z"
    }
   },
   "source": [
    "import pandas as pd\n",
    "import numpy as np\n",
    "import matplotlib.pyplot as plt\n",
    "import math as math\n",
    "import random as rnd"
   ],
   "outputs": [],
   "execution_count": 11
  },
  {
   "metadata": {
    "ExecuteTime": {
     "end_time": "2025-06-19T17:21:08.798748Z",
     "start_time": "2025-06-19T17:21:08.795748Z"
    }
   },
   "cell_type": "code",
   "source": "weekdays = ['Monday', 'Tuesday', 'Wednesday', 'Thursday', 'Friday', 'Saturday', 'Sunday']",
   "id": "721f50e7d07f9acb",
   "outputs": [],
   "execution_count": 2
  },
  {
   "metadata": {
    "ExecuteTime": {
     "end_time": "2025-06-19T17:22:05.736875Z",
     "start_time": "2025-06-19T17:22:05.731367Z"
    }
   },
   "cell_type": "code",
   "source": [
    "weekdaysSeries = pd.Series(weekdays)\n",
    "weekdaysSeries"
   ],
   "id": "67cc6747d65c9212",
   "outputs": [
    {
     "data": {
      "text/plain": [
       "0       Monday\n",
       "1      Tuesday\n",
       "2    Wednesday\n",
       "3     Thursday\n",
       "4       Friday\n",
       "5     Saturday\n",
       "6       Sunday\n",
       "dtype: object"
      ]
     },
     "execution_count": 4,
     "metadata": {},
     "output_type": "execute_result"
    }
   ],
   "execution_count": 4
  },
  {
   "metadata": {
    "ExecuteTime": {
     "end_time": "2025-06-19T17:22:20.759142Z",
     "start_time": "2025-06-19T17:22:20.756110Z"
    }
   },
   "cell_type": "code",
   "source": "freeDays = [False, False, False, False, False, True, True]",
   "id": "32a831132abac51f",
   "outputs": [],
   "execution_count": 5
  },
  {
   "metadata": {
    "ExecuteTime": {
     "end_time": "2025-06-19T17:22:34.993615Z",
     "start_time": "2025-06-19T17:22:34.988627Z"
    }
   },
   "cell_type": "code",
   "source": [
    "freeDaysSeries = pd.Series(freeDays)\n",
    "freeDaysSeries"
   ],
   "id": "ff55db7ce474105f",
   "outputs": [
    {
     "data": {
      "text/plain": [
       "0    False\n",
       "1    False\n",
       "2    False\n",
       "3    False\n",
       "4    False\n",
       "5     True\n",
       "6     True\n",
       "dtype: bool"
      ]
     },
     "execution_count": 6,
     "metadata": {},
     "output_type": "execute_result"
    }
   ],
   "execution_count": 6
  },
  {
   "metadata": {
    "ExecuteTime": {
     "end_time": "2025-06-19T17:23:22.314393Z",
     "start_time": "2025-06-19T17:23:22.310397Z"
    }
   },
   "cell_type": "code",
   "source": [
    "holidays = {'New Year': '01-01',\n",
    "           'Independence Day': '07-04',\n",
    "           'Christmas': '12-25'}"
   ],
   "id": "4c39f85dc9cf9ca6",
   "outputs": [],
   "execution_count": 7
  },
  {
   "metadata": {
    "ExecuteTime": {
     "end_time": "2025-06-19T17:23:29.388454Z",
     "start_time": "2025-06-19T17:23:29.382150Z"
    }
   },
   "cell_type": "code",
   "source": [
    "holidaysSeries = pd.Series(holidays)\n",
    "holidaysSeries"
   ],
   "id": "883d6083498004e0",
   "outputs": [
    {
     "data": {
      "text/plain": [
       "New Year            01-01\n",
       "Independence Day    07-04\n",
       "Christmas           12-25\n",
       "dtype: object"
      ]
     },
     "execution_count": 8,
     "metadata": {},
     "output_type": "execute_result"
    }
   ],
   "execution_count": 8
  },
  {
   "metadata": {},
   "cell_type": "markdown",
   "source": "# Data Series attributes",
   "id": "37c164f518ce21b5"
  },
  {
   "metadata": {
    "ExecuteTime": {
     "end_time": "2025-06-19T17:36:19.578917Z",
     "start_time": "2025-06-19T17:36:19.553465Z"
    }
   },
   "cell_type": "code",
   "source": [
    "dataAsFloatList = [i * rnd.random() for i in range(100001)]\n",
    "dataAsFloatSeries = pd.Series(dataAsFloatList)"
   ],
   "id": "b0e2fc78be73a43a",
   "outputs": [],
   "execution_count": 19
  },
  {
   "metadata": {
    "ExecuteTime": {
     "end_time": "2025-06-19T17:36:48.429999Z",
     "start_time": "2025-06-19T17:36:48.424988Z"
    }
   },
   "cell_type": "code",
   "source": "dataAsFloatSeries.size\n",
   "id": "e3b10ae7951b7e38",
   "outputs": [
    {
     "data": {
      "text/plain": [
       "100001"
      ]
     },
     "execution_count": 21,
     "metadata": {},
     "output_type": "execute_result"
    }
   ],
   "execution_count": 21
  },
  {
   "metadata": {
    "ExecuteTime": {
     "end_time": "2025-06-19T17:36:54.455315Z",
     "start_time": "2025-06-19T17:36:54.451024Z"
    }
   },
   "cell_type": "code",
   "source": "dataAsFloatSeries.nbytes",
   "id": "45d50b679cffe186",
   "outputs": [
    {
     "data": {
      "text/plain": [
       "800008"
      ]
     },
     "execution_count": 22,
     "metadata": {},
     "output_type": "execute_result"
    }
   ],
   "execution_count": 22
  },
  {
   "metadata": {
    "ExecuteTime": {
     "end_time": "2025-06-19T17:36:59.071955Z",
     "start_time": "2025-06-19T17:36:59.067445Z"
    }
   },
   "cell_type": "code",
   "source": "dataAsFloatSeries.shape",
   "id": "e38810780cd3085",
   "outputs": [
    {
     "data": {
      "text/plain": [
       "(100001,)"
      ]
     },
     "execution_count": 23,
     "metadata": {},
     "output_type": "execute_result"
    }
   ],
   "execution_count": 23
  },
  {
   "metadata": {
    "ExecuteTime": {
     "end_time": "2025-06-19T17:39:16.828590Z",
     "start_time": "2025-06-19T17:39:16.824087Z"
    }
   },
   "cell_type": "code",
   "source": "dataAsFloatSeries.dtypes",
   "id": "9e7a4300d623506c",
   "outputs": [
    {
     "data": {
      "text/plain": [
       "dtype('float64')"
      ]
     },
     "execution_count": 34,
     "metadata": {},
     "output_type": "execute_result"
    }
   ],
   "execution_count": 34
  },
  {
   "metadata": {
    "ExecuteTime": {
     "end_time": "2025-06-19T17:37:04.436695Z",
     "start_time": "2025-06-19T17:37:04.432350Z"
    }
   },
   "cell_type": "code",
   "source": "dataAsFloatSeries.axes",
   "id": "2299637d50add4fd",
   "outputs": [
    {
     "data": {
      "text/plain": [
       "[RangeIndex(start=0, stop=100001, step=1)]"
      ]
     },
     "execution_count": 24,
     "metadata": {},
     "output_type": "execute_result"
    }
   ],
   "execution_count": 24
  },
  {
   "metadata": {
    "ExecuteTime": {
     "end_time": "2025-06-19T17:37:08.737681Z",
     "start_time": "2025-06-19T17:37:08.733390Z"
    }
   },
   "cell_type": "code",
   "source": "dataAsFloatSeries.index",
   "id": "c2d0ab71e251c336",
   "outputs": [
    {
     "data": {
      "text/plain": [
       "RangeIndex(start=0, stop=100001, step=1)"
      ]
     },
     "execution_count": 25,
     "metadata": {},
     "output_type": "execute_result"
    }
   ],
   "execution_count": 25
  },
  {
   "metadata": {
    "ExecuteTime": {
     "end_time": "2025-06-19T17:37:18.163392Z",
     "start_time": "2025-06-19T17:37:18.151843Z"
    }
   },
   "cell_type": "code",
   "source": "dataAsFloatSeries.is_unique",
   "id": "4d48b7459c936634",
   "outputs": [
    {
     "data": {
      "text/plain": [
       "True"
      ]
     },
     "execution_count": 26,
     "metadata": {},
     "output_type": "execute_result"
    }
   ],
   "execution_count": 26
  },
  {
   "metadata": {
    "ExecuteTime": {
     "end_time": "2025-06-19T17:37:24.687033Z",
     "start_time": "2025-06-19T17:37:24.681459Z"
    }
   },
   "cell_type": "code",
   "source": "dataAsFloatSeries.is_monotonic_increasing",
   "id": "a9131cb71add6d32",
   "outputs": [
    {
     "data": {
      "text/plain": [
       "False"
      ]
     },
     "execution_count": 27,
     "metadata": {},
     "output_type": "execute_result"
    }
   ],
   "execution_count": 27
  },
  {
   "metadata": {
    "ExecuteTime": {
     "end_time": "2025-06-19T17:37:45.220927Z",
     "start_time": "2025-06-19T17:37:45.216526Z"
    }
   },
   "cell_type": "code",
   "source": "dataAsFloatSeries.is_monotonic_decreasing",
   "id": "bc1c36f8f8fb0bff",
   "outputs": [
    {
     "data": {
      "text/plain": [
       "False"
      ]
     },
     "execution_count": 29,
     "metadata": {},
     "output_type": "execute_result"
    }
   ],
   "execution_count": 29
  },
  {
   "metadata": {
    "ExecuteTime": {
     "end_time": "2025-06-19T17:38:36.481874Z",
     "start_time": "2025-06-19T17:38:36.403065Z"
    }
   },
   "cell_type": "code",
   "source": [
    "dataAsStringList = [str(i* rnd.random()) for i in range(100001)]\n",
    "dataasStringSeries = pd.Series(dataAsStringList)"
   ],
   "id": "657280878988ad15",
   "outputs": [],
   "execution_count": 30
  },
  {
   "metadata": {
    "ExecuteTime": {
     "end_time": "2025-06-19T17:38:40.667843Z",
     "start_time": "2025-06-19T17:38:40.663967Z"
    }
   },
   "cell_type": "code",
   "source": "dataasStringSeries.size",
   "id": "1ad628dcda653de3",
   "outputs": [
    {
     "data": {
      "text/plain": [
       "100001"
      ]
     },
     "execution_count": 31,
     "metadata": {},
     "output_type": "execute_result"
    }
   ],
   "execution_count": 31
  },
  {
   "metadata": {
    "ExecuteTime": {
     "end_time": "2025-06-19T17:38:46.753095Z",
     "start_time": "2025-06-19T17:38:46.749193Z"
    }
   },
   "cell_type": "code",
   "source": "dataasStringSeries.nbytes",
   "id": "22d9eef6cf603bbd",
   "outputs": [
    {
     "data": {
      "text/plain": [
       "800008"
      ]
     },
     "execution_count": 32,
     "metadata": {},
     "output_type": "execute_result"
    }
   ],
   "execution_count": 32
  },
  {
   "metadata": {
    "ExecuteTime": {
     "end_time": "2025-06-19T17:38:58.347257Z",
     "start_time": "2025-06-19T17:38:58.342350Z"
    }
   },
   "cell_type": "code",
   "source": "dataasStringSeries.dtypes",
   "id": "a91a5506e07349c1",
   "outputs": [
    {
     "data": {
      "text/plain": [
       "dtype('O')"
      ]
     },
     "execution_count": 33,
     "metadata": {},
     "output_type": "execute_result"
    }
   ],
   "execution_count": 33
  },
  {
   "metadata": {},
   "cell_type": "markdown",
   "source": "# Data Series methods",
   "id": "1f7eec7e867d39b2"
  },
  {
   "metadata": {
    "ExecuteTime": {
     "end_time": "2025-06-19T18:52:48.879808Z",
     "start_time": "2025-06-19T18:52:48.875296Z"
    }
   },
   "cell_type": "code",
   "source": [
    "cities = ['New York', 'Los Angeles', 'Chicago']\n",
    "population = [8419600, 3980400, 2716000]"
   ],
   "id": "c7cd83e803330c78",
   "outputs": [],
   "execution_count": 37
  },
  {
   "metadata": {
    "ExecuteTime": {
     "end_time": "2025-06-19T18:53:19.986827Z",
     "start_time": "2025-06-19T18:53:19.980314Z"
    }
   },
   "cell_type": "code",
   "source": [
    "citypop = pd.Series(index = cities, data = population)\n",
    "citypop"
   ],
   "id": "fba4735feff7d660",
   "outputs": [
    {
     "data": {
      "text/plain": [
       "New York       8419600\n",
       "Los Angeles    3980400\n",
       "Chicago        2716000\n",
       "dtype: int64"
      ]
     },
     "execution_count": 38,
     "metadata": {},
     "output_type": "execute_result"
    }
   ],
   "execution_count": 38
  },
  {
   "metadata": {
    "ExecuteTime": {
     "end_time": "2025-06-19T18:53:57.757106Z",
     "start_time": "2025-06-19T18:53:57.752195Z"
    }
   },
   "cell_type": "code",
   "source": "round(citypop.mean())",
   "id": "a0ab6817835660ea",
   "outputs": [
    {
     "data": {
      "text/plain": [
       "5038667"
      ]
     },
     "execution_count": 40,
     "metadata": {},
     "output_type": "execute_result"
    }
   ],
   "execution_count": 40
  },
  {
   "metadata": {
    "ExecuteTime": {
     "end_time": "2025-06-19T18:54:20.717445Z",
     "start_time": "2025-06-19T18:54:20.712446Z"
    }
   },
   "cell_type": "code",
   "source": "citypop.sum()",
   "id": "9a7af32ccf40f8a5",
   "outputs": [
    {
     "data": {
      "text/plain": [
       "np.int64(15116000)"
      ]
     },
     "execution_count": 41,
     "metadata": {},
     "output_type": "execute_result"
    }
   ],
   "execution_count": 41
  },
  {
   "metadata": {
    "ExecuteTime": {
     "end_time": "2025-06-19T18:54:33.866667Z",
     "start_time": "2025-06-19T18:54:33.861332Z"
    }
   },
   "cell_type": "code",
   "source": "citypop.index",
   "id": "5c76252dc5f8b943",
   "outputs": [
    {
     "data": {
      "text/plain": [
       "Index(['New York', 'Los Angeles', 'Chicago'], dtype='object')"
      ]
     },
     "execution_count": 42,
     "metadata": {},
     "output_type": "execute_result"
    }
   ],
   "execution_count": 42
  },
  {
   "metadata": {
    "ExecuteTime": {
     "end_time": "2025-06-19T18:55:52.136143Z",
     "start_time": "2025-06-19T18:55:52.131652Z"
    }
   },
   "cell_type": "code",
   "source": "citypop.keys()",
   "id": "5f80e632670d4c86",
   "outputs": [
    {
     "data": {
      "text/plain": [
       "Index(['New York', 'Los Angeles', 'Chicago'], dtype='object')"
      ]
     },
     "execution_count": 43,
     "metadata": {},
     "output_type": "execute_result"
    }
   ],
   "execution_count": 43
  },
  {
   "metadata": {
    "ExecuteTime": {
     "end_time": "2025-06-19T18:57:32.633974Z",
     "start_time": "2025-06-19T18:57:32.629648Z"
    }
   },
   "cell_type": "code",
   "source": "citypop.values",
   "id": "b9d48fd1eb147b38",
   "outputs": [
    {
     "data": {
      "text/plain": [
       "array([8419600, 3980400, 2716000])"
      ]
     },
     "execution_count": 46,
     "metadata": {},
     "output_type": "execute_result"
    }
   ],
   "execution_count": 46
  },
  {
   "metadata": {},
   "cell_type": "markdown",
   "source": "# Data Series filtering",
   "id": "41f183ad620d5f67"
  },
  {
   "metadata": {
    "ExecuteTime": {
     "end_time": "2025-06-19T19:08:56.357095Z",
     "start_time": "2025-06-19T19:08:56.351552Z"
    }
   },
   "cell_type": "code",
   "source": [
    "age = [\"less than 6\", \"7-14\", \"15-17\", \"18-24\", \"25-39\", \"40-59\", \"more than 60\"]\n",
    "values = [14 ,334,312,5823,9491,7486,4343]\n",
    "incidentsSeries = pd.Series(data = values, index = age)\n",
    "incidentsSeries"
   ],
   "id": "5567a36644a733e4",
   "outputs": [
    {
     "data": {
      "text/plain": [
       "less than 6       14\n",
       "7-14             334\n",
       "15-17            312\n",
       "18-24           5823\n",
       "25-39           9491\n",
       "40-59           7486\n",
       "more than 60    4343\n",
       "dtype: int64"
      ]
     },
     "execution_count": 47,
     "metadata": {},
     "output_type": "execute_result"
    }
   ],
   "execution_count": 47
  },
  {
   "metadata": {
    "ExecuteTime": {
     "end_time": "2025-06-19T19:10:57.168686Z",
     "start_time": "2025-06-19T19:10:57.163180Z"
    }
   },
   "cell_type": "code",
   "source": [
    "newIncidentsSeries = incidentsSeries.where(incidentsSeries > 1000).dropna()\n",
    "#original series is not modified\n",
    "print(newIncidentsSeries)\n",
    "print(incidentsSeries)"
   ],
   "id": "f3fcacc68f2e2672",
   "outputs": [
    {
     "name": "stdout",
     "output_type": "stream",
     "text": [
      "18-24           5823.0\n",
      "25-39           9491.0\n",
      "40-59           7486.0\n",
      "more than 60    4343.0\n",
      "dtype: float64\n",
      "less than 6       14\n",
      "7-14             334\n",
      "15-17            312\n",
      "18-24           5823\n",
      "25-39           9491\n",
      "40-59           7486\n",
      "more than 60    4343\n",
      "dtype: int64\n"
     ]
    }
   ],
   "execution_count": 54
  },
  {
   "metadata": {
    "ExecuteTime": {
     "end_time": "2025-06-19T19:11:59.218991Z",
     "start_time": "2025-06-19T19:11:59.208945Z"
    }
   },
   "cell_type": "code",
   "source": "incidentsSeries.filter(items=['18-24', '25-39', '40-59'])",
   "id": "8bdb8d2b1b3027e2",
   "outputs": [
    {
     "data": {
      "text/plain": [
       "18-24    5823\n",
       "25-39    9491\n",
       "40-59    7486\n",
       "dtype: int64"
      ]
     },
     "execution_count": 55,
     "metadata": {},
     "output_type": "execute_result"
    }
   ],
   "execution_count": 55
  },
  {
   "metadata": {
    "ExecuteTime": {
     "end_time": "2025-06-19T19:13:15.029725Z",
     "start_time": "2025-06-19T19:13:15.023690Z"
    }
   },
   "cell_type": "code",
   "source": [
    "incidentsSeries.where(incidentsSeries <= 1000, inplace=True)\n",
    "incidentsSeries.dropna(inplace=True)\n",
    "incidentsSeries"
   ],
   "id": "ea828552559bae5e",
   "outputs": [
    {
     "data": {
      "text/plain": [
       "less than 6     14.0\n",
       "7-14           334.0\n",
       "15-17          312.0\n",
       "dtype: float64"
      ]
     },
     "execution_count": 57,
     "metadata": {},
     "output_type": "execute_result"
    }
   ],
   "execution_count": 57
  },
  {
   "metadata": {
    "ExecuteTime": {
     "end_time": "2025-06-19T19:22:09.223606Z",
     "start_time": "2025-06-19T19:22:09.218606Z"
    }
   },
   "cell_type": "code",
   "source": [
    "namesList = ['Albania','Austria','Belarus',\n",
    "'Belgium','Bulgaria','Croatia','Cyprus','Czech Republic','Denmark','Estonia',\n",
    "'Finland','France','Germany','Greece','Hungary','Iceland','Ireland','Italy',\n",
    "'Latvia','Lithuania','Luxembourg','Macedonia','Malta','Montenegro','Netherlands',\n",
    "'Norway','Poland','Portugal','Romania','Russia','Serbia','Slovenia','Spain', 'Sweden',\n",
    "             'Switzerland','United Kingdom','Turkey','Ukraine']\n",
    "energy2010List = [1947,8347,3564,8369,4560,3814,4623,6348,6328,6506,16483,7736,7264,5318,3876,\n",
    "                  51440,5911,5494,3230,3471,16830,3521,4171,5420,7010,24891,3797,4959,2551,\n",
    "                  6410,4359,6521,5707,14934,8175,2498,3550,5701]\n",
    "energy2012List = [2118,8507,3698,7987,4762,3819,4057,6305,6039,6689,15687,7344,7270,5511,3919,\n",
    "                  53203,5665,5398,3588,3608,14696,3626,4761,5416,6871,23658,3899,4736,2604,\n",
    "                  6617,4387,6778,5573,14290,7886,2794,3641,5452]\n",
    "\n",
    "nameSeries = pd.Series(namesList)\n",
    "energy2010Series = pd.Series(energy2010List)\n",
    "energy2012Series = pd.Series(energy2012List)"
   ],
   "id": "f6e450ea4aff95dc",
   "outputs": [],
   "execution_count": 60
  },
  {
   "metadata": {
    "ExecuteTime": {
     "end_time": "2025-06-19T19:22:34.997398Z",
     "start_time": "2025-06-19T19:22:34.992893Z"
    }
   },
   "cell_type": "code",
   "source": [
    "mean2010 = energy2010Series.mean()\n",
    "mean2010"
   ],
   "id": "59de12edafe9b03a",
   "outputs": [
    {
     "data": {
      "text/plain": [
       "np.float64(7779.8421052631575)"
      ]
     },
     "execution_count": 62,
     "metadata": {},
     "output_type": "execute_result"
    }
   ],
   "execution_count": 62
  },
  {
   "metadata": {
    "ExecuteTime": {
     "end_time": "2025-06-19T19:22:48.940001Z",
     "start_time": "2025-06-19T19:22:48.934871Z"
    }
   },
   "cell_type": "code",
   "source": [
    "mean2012 = energy2012Series.mean()\n",
    "mean2012"
   ],
   "id": "a9b8c1405cf50f55",
   "outputs": [
    {
     "data": {
      "text/plain": [
       "np.float64(7706.815789473684)"
      ]
     },
     "execution_count": 63,
     "metadata": {},
     "output_type": "execute_result"
    }
   ],
   "execution_count": 63
  },
  {
   "metadata": {
    "ExecuteTime": {
     "end_time": "2025-06-19T19:26:35.482632Z",
     "start_time": "2025-06-19T19:26:35.477450Z"
    }
   },
   "cell_type": "code",
   "source": [
    "filterAboveMean2010 = energy2010Series > mean2010\n",
    "filterAboveMean2010"
   ],
   "id": "2865d53e4cb23d37",
   "outputs": [
    {
     "data": {
      "text/plain": [
       "0     False\n",
       "1      True\n",
       "2     False\n",
       "3      True\n",
       "4     False\n",
       "5     False\n",
       "6     False\n",
       "7     False\n",
       "8     False\n",
       "9     False\n",
       "10     True\n",
       "11    False\n",
       "12    False\n",
       "13    False\n",
       "14    False\n",
       "15     True\n",
       "16    False\n",
       "17    False\n",
       "18    False\n",
       "19    False\n",
       "20     True\n",
       "21    False\n",
       "22    False\n",
       "23    False\n",
       "24    False\n",
       "25     True\n",
       "26    False\n",
       "27    False\n",
       "28    False\n",
       "29    False\n",
       "30    False\n",
       "31    False\n",
       "32    False\n",
       "33     True\n",
       "34     True\n",
       "35    False\n",
       "36    False\n",
       "37    False\n",
       "dtype: bool"
      ]
     },
     "execution_count": 69,
     "metadata": {},
     "output_type": "execute_result"
    }
   ],
   "execution_count": 69
  },
  {
   "metadata": {
    "ExecuteTime": {
     "end_time": "2025-06-19T19:26:37.016776Z",
     "start_time": "2025-06-19T19:26:37.011778Z"
    }
   },
   "cell_type": "code",
   "source": [
    "filterAboveMean2012 = energy2012Series > mean2012\n",
    "filterAboveMean2012"
   ],
   "id": "ed40bbb0c4dae6f2",
   "outputs": [
    {
     "data": {
      "text/plain": [
       "0     False\n",
       "1      True\n",
       "2     False\n",
       "3      True\n",
       "4     False\n",
       "5     False\n",
       "6     False\n",
       "7     False\n",
       "8     False\n",
       "9     False\n",
       "10     True\n",
       "11    False\n",
       "12    False\n",
       "13    False\n",
       "14    False\n",
       "15     True\n",
       "16    False\n",
       "17    False\n",
       "18    False\n",
       "19    False\n",
       "20     True\n",
       "21    False\n",
       "22    False\n",
       "23    False\n",
       "24    False\n",
       "25     True\n",
       "26    False\n",
       "27    False\n",
       "28    False\n",
       "29    False\n",
       "30    False\n",
       "31    False\n",
       "32    False\n",
       "33     True\n",
       "34     True\n",
       "35    False\n",
       "36    False\n",
       "37    False\n",
       "dtype: bool"
      ]
     },
     "execution_count": 70,
     "metadata": {},
     "output_type": "execute_result"
    }
   ],
   "execution_count": 70
  },
  {
   "metadata": {
    "ExecuteTime": {
     "end_time": "2025-06-19T19:27:58.204032Z",
     "start_time": "2025-06-19T19:27:58.198820Z"
    }
   },
   "cell_type": "code",
   "source": "nameSeries.where(filterAboveMean2010 & filterAboveMean2012).dropna()",
   "id": "fa1ee47da815ec26",
   "outputs": [
    {
     "data": {
      "text/plain": [
       "1         Austria\n",
       "3         Belgium\n",
       "10        Finland\n",
       "15        Iceland\n",
       "20     Luxembourg\n",
       "25         Norway\n",
       "33         Sweden\n",
       "34    Switzerland\n",
       "dtype: object"
      ]
     },
     "execution_count": 73,
     "metadata": {},
     "output_type": "execute_result"
    }
   ],
   "execution_count": 73
  },
  {
   "metadata": {
    "ExecuteTime": {
     "end_time": "2025-06-19T19:28:59.918160Z",
     "start_time": "2025-06-19T19:28:59.912639Z"
    }
   },
   "cell_type": "code",
   "source": [
    "filterBeloweMean2010 = energy2010Series < mean2010\n",
    "filterBeloweMean2010"
   ],
   "id": "b79122739a1a4442",
   "outputs": [
    {
     "data": {
      "text/plain": [
       "0      True\n",
       "1     False\n",
       "2      True\n",
       "3     False\n",
       "4      True\n",
       "5      True\n",
       "6      True\n",
       "7      True\n",
       "8      True\n",
       "9      True\n",
       "10    False\n",
       "11     True\n",
       "12     True\n",
       "13     True\n",
       "14     True\n",
       "15    False\n",
       "16     True\n",
       "17     True\n",
       "18     True\n",
       "19     True\n",
       "20    False\n",
       "21     True\n",
       "22     True\n",
       "23     True\n",
       "24     True\n",
       "25    False\n",
       "26     True\n",
       "27     True\n",
       "28     True\n",
       "29     True\n",
       "30     True\n",
       "31     True\n",
       "32     True\n",
       "33    False\n",
       "34    False\n",
       "35     True\n",
       "36     True\n",
       "37     True\n",
       "dtype: bool"
      ]
     },
     "execution_count": 75,
     "metadata": {},
     "output_type": "execute_result"
    }
   ],
   "execution_count": 75
  },
  {
   "metadata": {
    "ExecuteTime": {
     "end_time": "2025-06-19T19:29:28.572704Z",
     "start_time": "2025-06-19T19:29:28.567161Z"
    }
   },
   "cell_type": "code",
   "source": "nameSeries.where(filterBeloweMean2010 & filterAboveMean2012).dropna()",
   "id": "18a890066e2f968d",
   "outputs": [
    {
     "data": {
      "text/plain": [
       "Series([], dtype: object)"
      ]
     },
     "execution_count": 76,
     "metadata": {},
     "output_type": "execute_result"
    }
   ],
   "execution_count": 76
  },
  {
   "metadata": {},
   "cell_type": "code",
   "outputs": [],
   "execution_count": null,
   "source": "",
   "id": "c71629c000fbfb86"
  }
 ],
 "metadata": {
  "kernelspec": {
   "display_name": "Python 3",
   "language": "python",
   "name": "python3"
  },
  "language_info": {
   "codemirror_mode": {
    "name": "ipython",
    "version": 2
   },
   "file_extension": ".py",
   "mimetype": "text/x-python",
   "name": "python",
   "nbconvert_exporter": "python",
   "pygments_lexer": "ipython2",
   "version": "2.7.6"
  }
 },
 "nbformat": 4,
 "nbformat_minor": 5
}
