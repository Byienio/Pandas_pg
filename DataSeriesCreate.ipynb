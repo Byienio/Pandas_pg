{
 "cells": [
  {
   "cell_type": "code",
   "id": "initial_id",
   "metadata": {
    "collapsed": true,
    "ExecuteTime": {
     "end_time": "2025-06-19T17:20:55.930996Z",
     "start_time": "2025-06-19T17:20:55.123297Z"
    }
   },
   "source": [
    "import pandas as pd\n",
    "import numpy as np\n",
    "import matplotlib.pyplot as plt\n",
    "import math as math"
   ],
   "outputs": [],
   "execution_count": 1
  },
  {
   "metadata": {
    "ExecuteTime": {
     "end_time": "2025-06-19T17:21:08.798748Z",
     "start_time": "2025-06-19T17:21:08.795748Z"
    }
   },
   "cell_type": "code",
   "source": "weekdays = ['Monday', 'Tuesday', 'Wednesday', 'Thursday', 'Friday', 'Saturday', 'Sunday']",
   "id": "721f50e7d07f9acb",
   "outputs": [],
   "execution_count": 2
  },
  {
   "metadata": {
    "ExecuteTime": {
     "end_time": "2025-06-19T17:22:05.736875Z",
     "start_time": "2025-06-19T17:22:05.731367Z"
    }
   },
   "cell_type": "code",
   "source": [
    "weekdaysSeries = pd.Series(weekdays)\n",
    "weekdaysSeries"
   ],
   "id": "67cc6747d65c9212",
   "outputs": [
    {
     "data": {
      "text/plain": [
       "0       Monday\n",
       "1      Tuesday\n",
       "2    Wednesday\n",
       "3     Thursday\n",
       "4       Friday\n",
       "5     Saturday\n",
       "6       Sunday\n",
       "dtype: object"
      ]
     },
     "execution_count": 4,
     "metadata": {},
     "output_type": "execute_result"
    }
   ],
   "execution_count": 4
  },
  {
   "metadata": {
    "ExecuteTime": {
     "end_time": "2025-06-19T17:22:20.759142Z",
     "start_time": "2025-06-19T17:22:20.756110Z"
    }
   },
   "cell_type": "code",
   "source": "freeDays = [False, False, False, False, False, True, True]",
   "id": "32a831132abac51f",
   "outputs": [],
   "execution_count": 5
  },
  {
   "metadata": {
    "ExecuteTime": {
     "end_time": "2025-06-19T17:22:34.993615Z",
     "start_time": "2025-06-19T17:22:34.988627Z"
    }
   },
   "cell_type": "code",
   "source": [
    "freeDaysSeries = pd.Series(freeDays)\n",
    "freeDaysSeries"
   ],
   "id": "ff55db7ce474105f",
   "outputs": [
    {
     "data": {
      "text/plain": [
       "0    False\n",
       "1    False\n",
       "2    False\n",
       "3    False\n",
       "4    False\n",
       "5     True\n",
       "6     True\n",
       "dtype: bool"
      ]
     },
     "execution_count": 6,
     "metadata": {},
     "output_type": "execute_result"
    }
   ],
   "execution_count": 6
  },
  {
   "metadata": {
    "ExecuteTime": {
     "end_time": "2025-06-19T17:23:22.314393Z",
     "start_time": "2025-06-19T17:23:22.310397Z"
    }
   },
   "cell_type": "code",
   "source": [
    "holidays = {'New Year': '01-01',\n",
    "           'Independence Day': '07-04',\n",
    "           'Christmas': '12-25'}"
   ],
   "id": "4c39f85dc9cf9ca6",
   "outputs": [],
   "execution_count": 7
  },
  {
   "metadata": {
    "ExecuteTime": {
     "end_time": "2025-06-19T17:23:29.388454Z",
     "start_time": "2025-06-19T17:23:29.382150Z"
    }
   },
   "cell_type": "code",
   "source": [
    "holidaysSeries = pd.Series(holidays)\n",
    "holidaysSeries"
   ],
   "id": "883d6083498004e0",
   "outputs": [
    {
     "data": {
      "text/plain": [
       "New Year            01-01\n",
       "Independence Day    07-04\n",
       "Christmas           12-25\n",
       "dtype: object"
      ]
     },
     "execution_count": 8,
     "metadata": {},
     "output_type": "execute_result"
    }
   ],
   "execution_count": 8
  },
  {
   "metadata": {},
   "cell_type": "code",
   "outputs": [],
   "execution_count": null,
   "source": "",
   "id": "2e9d77a94c7c2971"
  }
 ],
 "metadata": {
  "kernelspec": {
   "display_name": "Python 3",
   "language": "python",
   "name": "python3"
  },
  "language_info": {
   "codemirror_mode": {
    "name": "ipython",
    "version": 2
   },
   "file_extension": ".py",
   "mimetype": "text/x-python",
   "name": "python",
   "nbconvert_exporter": "python",
   "pygments_lexer": "ipython2",
   "version": "2.7.6"
  }
 },
 "nbformat": 4,
 "nbformat_minor": 5
}
