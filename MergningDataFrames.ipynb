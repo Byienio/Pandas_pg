{
 "cells": [
  {
   "metadata": {},
   "cell_type": "markdown",
   "source": "# Merging DataFrames",
   "id": "397ac96f9802344"
  },
  {
   "metadata": {
    "ExecuteTime": {
     "end_time": "2025-07-06T11:06:11.914306Z",
     "start_time": "2025-07-06T11:06:11.185901Z"
    }
   },
   "cell_type": "code",
   "source": [
    "import pandas as pd\n",
    "import numpy as np"
   ],
   "id": "c3df971c3ca26b0f",
   "outputs": [],
   "execution_count": 1
  },
  {
   "metadata": {
    "ExecuteTime": {
     "end_time": "2025-07-05T22:11:57.578054Z",
     "start_time": "2025-07-05T22:11:57.553999Z"
    }
   },
   "cell_type": "code",
   "source": "products = pd.read_csv('data/data/northwind-mongo-master/products.csv')",
   "id": "29d053db79d6f1eb",
   "outputs": [],
   "execution_count": 2
  },
  {
   "metadata": {
    "ExecuteTime": {
     "end_time": "2025-07-05T22:13:43.675052Z",
     "start_time": "2025-07-05T22:13:43.661503Z"
    }
   },
   "cell_type": "code",
   "source": "products.where(products['ProductName']=='Ravioli Angelo').dropna()",
   "id": "953d495886350863",
   "outputs": [
    {
     "data": {
      "text/plain": [
       "    ProductID     ProductName  SupplierID  CategoryID   QuantityPerUnit  \\\n",
       "56       57.0  Ravioli Angelo        26.0         5.0  24 - 250 g pkgs.   \n",
       "\n",
       "    UnitPrice  UnitsInStock  UnitsOnOrder  ReorderLevel  Discontinued  \n",
       "56       19.5          36.0           0.0          20.0           0.0  "
      ],
      "text/html": [
       "<div>\n",
       "<style scoped>\n",
       "    .dataframe tbody tr th:only-of-type {\n",
       "        vertical-align: middle;\n",
       "    }\n",
       "\n",
       "    .dataframe tbody tr th {\n",
       "        vertical-align: top;\n",
       "    }\n",
       "\n",
       "    .dataframe thead th {\n",
       "        text-align: right;\n",
       "    }\n",
       "</style>\n",
       "<table border=\"1\" class=\"dataframe\">\n",
       "  <thead>\n",
       "    <tr style=\"text-align: right;\">\n",
       "      <th></th>\n",
       "      <th>ProductID</th>\n",
       "      <th>ProductName</th>\n",
       "      <th>SupplierID</th>\n",
       "      <th>CategoryID</th>\n",
       "      <th>QuantityPerUnit</th>\n",
       "      <th>UnitPrice</th>\n",
       "      <th>UnitsInStock</th>\n",
       "      <th>UnitsOnOrder</th>\n",
       "      <th>ReorderLevel</th>\n",
       "      <th>Discontinued</th>\n",
       "    </tr>\n",
       "  </thead>\n",
       "  <tbody>\n",
       "    <tr>\n",
       "      <th>56</th>\n",
       "      <td>57.0</td>\n",
       "      <td>Ravioli Angelo</td>\n",
       "      <td>26.0</td>\n",
       "      <td>5.0</td>\n",
       "      <td>24 - 250 g pkgs.</td>\n",
       "      <td>19.5</td>\n",
       "      <td>36.0</td>\n",
       "      <td>0.0</td>\n",
       "      <td>20.0</td>\n",
       "      <td>0.0</td>\n",
       "    </tr>\n",
       "  </tbody>\n",
       "</table>\n",
       "</div>"
      ]
     },
     "execution_count": 10,
     "metadata": {},
     "output_type": "execute_result"
    }
   ],
   "execution_count": 10
  },
  {
   "metadata": {
    "ExecuteTime": {
     "end_time": "2025-07-05T22:14:02.207604Z",
     "start_time": "2025-07-05T22:14:02.202097Z"
    }
   },
   "cell_type": "code",
   "source": "categories = pd.read_csv('data/data/northwind-mongo-master/categories1.csv')",
   "id": "effd1a991082005d",
   "outputs": [],
   "execution_count": 11
  },
  {
   "metadata": {
    "ExecuteTime": {
     "end_time": "2025-07-05T22:14:34.911763Z",
     "start_time": "2025-07-05T22:14:34.904253Z"
    }
   },
   "cell_type": "code",
   "source": "categories.loc[categories['CategoryID']==5]",
   "id": "b792764cd5502c90",
   "outputs": [
    {
     "data": {
      "text/plain": [
       "   CategoryID    CategoryName Description\n",
       "4           5  Grains/Cereals      Breads"
      ],
      "text/html": [
       "<div>\n",
       "<style scoped>\n",
       "    .dataframe tbody tr th:only-of-type {\n",
       "        vertical-align: middle;\n",
       "    }\n",
       "\n",
       "    .dataframe tbody tr th {\n",
       "        vertical-align: top;\n",
       "    }\n",
       "\n",
       "    .dataframe thead th {\n",
       "        text-align: right;\n",
       "    }\n",
       "</style>\n",
       "<table border=\"1\" class=\"dataframe\">\n",
       "  <thead>\n",
       "    <tr style=\"text-align: right;\">\n",
       "      <th></th>\n",
       "      <th>CategoryID</th>\n",
       "      <th>CategoryName</th>\n",
       "      <th>Description</th>\n",
       "    </tr>\n",
       "  </thead>\n",
       "  <tbody>\n",
       "    <tr>\n",
       "      <th>4</th>\n",
       "      <td>5</td>\n",
       "      <td>Grains/Cereals</td>\n",
       "      <td>Breads</td>\n",
       "    </tr>\n",
       "  </tbody>\n",
       "</table>\n",
       "</div>"
      ]
     },
     "execution_count": 13,
     "metadata": {},
     "output_type": "execute_result"
    }
   ],
   "execution_count": 13
  },
  {
   "metadata": {
    "ExecuteTime": {
     "end_time": "2025-07-05T22:15:11.625842Z",
     "start_time": "2025-07-05T22:15:11.612330Z"
    }
   },
   "cell_type": "code",
   "source": [
    "suppliers = pd.read_csv('data/data/northwind-mongo-master/suppliers.csv')\n",
    "suppliers.loc[suppliers['SupplierID']==26]"
   ],
   "id": "773c95e997b16647",
   "outputs": [
    {
     "data": {
      "text/plain": [
       "    SupplierID           CompanyName       ContactName         ContactTitle  \\\n",
       "25          26  Pasta Buttini s.r.l.  Giovanni Giudici  Order Administrator   \n",
       "\n",
       "                  Address     City Region PostalCode Country          Phone  \\\n",
       "25  Via dei Gelsomini 153  Salerno    NaN      84100   Italy  (089) 6547665   \n",
       "\n",
       "              Fax HomePage  \n",
       "25  (089) 6547667      NaN  "
      ],
      "text/html": [
       "<div>\n",
       "<style scoped>\n",
       "    .dataframe tbody tr th:only-of-type {\n",
       "        vertical-align: middle;\n",
       "    }\n",
       "\n",
       "    .dataframe tbody tr th {\n",
       "        vertical-align: top;\n",
       "    }\n",
       "\n",
       "    .dataframe thead th {\n",
       "        text-align: right;\n",
       "    }\n",
       "</style>\n",
       "<table border=\"1\" class=\"dataframe\">\n",
       "  <thead>\n",
       "    <tr style=\"text-align: right;\">\n",
       "      <th></th>\n",
       "      <th>SupplierID</th>\n",
       "      <th>CompanyName</th>\n",
       "      <th>ContactName</th>\n",
       "      <th>ContactTitle</th>\n",
       "      <th>Address</th>\n",
       "      <th>City</th>\n",
       "      <th>Region</th>\n",
       "      <th>PostalCode</th>\n",
       "      <th>Country</th>\n",
       "      <th>Phone</th>\n",
       "      <th>Fax</th>\n",
       "      <th>HomePage</th>\n",
       "    </tr>\n",
       "  </thead>\n",
       "  <tbody>\n",
       "    <tr>\n",
       "      <th>25</th>\n",
       "      <td>26</td>\n",
       "      <td>Pasta Buttini s.r.l.</td>\n",
       "      <td>Giovanni Giudici</td>\n",
       "      <td>Order Administrator</td>\n",
       "      <td>Via dei Gelsomini 153</td>\n",
       "      <td>Salerno</td>\n",
       "      <td>NaN</td>\n",
       "      <td>84100</td>\n",
       "      <td>Italy</td>\n",
       "      <td>(089) 6547665</td>\n",
       "      <td>(089) 6547667</td>\n",
       "      <td>NaN</td>\n",
       "    </tr>\n",
       "  </tbody>\n",
       "</table>\n",
       "</div>"
      ]
     },
     "execution_count": 14,
     "metadata": {},
     "output_type": "execute_result"
    }
   ],
   "execution_count": 14
  },
  {
   "metadata": {},
   "cell_type": "markdown",
   "source": "# Concat DataFrames",
   "id": "548128d923cca0a8"
  },
  {
   "metadata": {
    "ExecuteTime": {
     "end_time": "2025-07-05T22:23:51.607966Z",
     "start_time": "2025-07-05T22:23:51.589661Z"
    }
   },
   "cell_type": "code",
   "source": [
    "mrbean = pd.read_csv('data/data/mrbean_facebook_statuses_join.csv',usecols=['status_message_mrbean','status_type','num_likes'])\n",
    "mrbean.head()"
   ],
   "id": "cb804a1295686c98",
   "outputs": [
    {
     "data": {
      "text/plain": [
       "                               status_message_mrbean status_type  num_likes\n",
       "0  It's time for Mr Bean and Teddy to get ready f...       video      16079\n",
       "1                                                NaN       photo     114008\n",
       "2                                                NaN       photo     218579\n",
       "3  Mr Bean is ready to do some shopping but bewar...       video      20338\n",
       "4                                                NaN       photo     215591"
      ],
      "text/html": [
       "<div>\n",
       "<style scoped>\n",
       "    .dataframe tbody tr th:only-of-type {\n",
       "        vertical-align: middle;\n",
       "    }\n",
       "\n",
       "    .dataframe tbody tr th {\n",
       "        vertical-align: top;\n",
       "    }\n",
       "\n",
       "    .dataframe thead th {\n",
       "        text-align: right;\n",
       "    }\n",
       "</style>\n",
       "<table border=\"1\" class=\"dataframe\">\n",
       "  <thead>\n",
       "    <tr style=\"text-align: right;\">\n",
       "      <th></th>\n",
       "      <th>status_message_mrbean</th>\n",
       "      <th>status_type</th>\n",
       "      <th>num_likes</th>\n",
       "    </tr>\n",
       "  </thead>\n",
       "  <tbody>\n",
       "    <tr>\n",
       "      <th>0</th>\n",
       "      <td>It's time for Mr Bean and Teddy to get ready f...</td>\n",
       "      <td>video</td>\n",
       "      <td>16079</td>\n",
       "    </tr>\n",
       "    <tr>\n",
       "      <th>1</th>\n",
       "      <td>NaN</td>\n",
       "      <td>photo</td>\n",
       "      <td>114008</td>\n",
       "    </tr>\n",
       "    <tr>\n",
       "      <th>2</th>\n",
       "      <td>NaN</td>\n",
       "      <td>photo</td>\n",
       "      <td>218579</td>\n",
       "    </tr>\n",
       "    <tr>\n",
       "      <th>3</th>\n",
       "      <td>Mr Bean is ready to do some shopping but bewar...</td>\n",
       "      <td>video</td>\n",
       "      <td>20338</td>\n",
       "    </tr>\n",
       "    <tr>\n",
       "      <th>4</th>\n",
       "      <td>NaN</td>\n",
       "      <td>photo</td>\n",
       "      <td>215591</td>\n",
       "    </tr>\n",
       "  </tbody>\n",
       "</table>\n",
       "</div>"
      ]
     },
     "execution_count": 15,
     "metadata": {},
     "output_type": "execute_result"
    }
   ],
   "execution_count": 15
  },
  {
   "metadata": {
    "ExecuteTime": {
     "end_time": "2025-07-05T22:24:38.368688Z",
     "start_time": "2025-07-05T22:24:38.353943Z"
    }
   },
   "cell_type": "code",
   "source": [
    "nasa = pd.read_csv('data/data/nasa_facebook_statuses_join.csv',usecols=['status_message_nasa','status_type','num_likes'])\n",
    "nasa.head()"
   ],
   "id": "221fe326c5caf097",
   "outputs": [
    {
     "data": {
      "text/plain": [
       "                                 status_message_nasa status_type  num_likes\n",
       "0  This morning, the #RockOn mission with student...       photo       5142\n",
       "1  Pluto's largest moon, Charon, is home to an un...       photo      19074\n",
       "2  Our Restore-L mission is an endeavor to launch...       photo       7551\n",
       "3  A new dark vortex was discovered in the atmosp...       photo      24359\n",
       "4                                                NaN       video       2731"
      ],
      "text/html": [
       "<div>\n",
       "<style scoped>\n",
       "    .dataframe tbody tr th:only-of-type {\n",
       "        vertical-align: middle;\n",
       "    }\n",
       "\n",
       "    .dataframe tbody tr th {\n",
       "        vertical-align: top;\n",
       "    }\n",
       "\n",
       "    .dataframe thead th {\n",
       "        text-align: right;\n",
       "    }\n",
       "</style>\n",
       "<table border=\"1\" class=\"dataframe\">\n",
       "  <thead>\n",
       "    <tr style=\"text-align: right;\">\n",
       "      <th></th>\n",
       "      <th>status_message_nasa</th>\n",
       "      <th>status_type</th>\n",
       "      <th>num_likes</th>\n",
       "    </tr>\n",
       "  </thead>\n",
       "  <tbody>\n",
       "    <tr>\n",
       "      <th>0</th>\n",
       "      <td>This morning, the #RockOn mission with student...</td>\n",
       "      <td>photo</td>\n",
       "      <td>5142</td>\n",
       "    </tr>\n",
       "    <tr>\n",
       "      <th>1</th>\n",
       "      <td>Pluto's largest moon, Charon, is home to an un...</td>\n",
       "      <td>photo</td>\n",
       "      <td>19074</td>\n",
       "    </tr>\n",
       "    <tr>\n",
       "      <th>2</th>\n",
       "      <td>Our Restore-L mission is an endeavor to launch...</td>\n",
       "      <td>photo</td>\n",
       "      <td>7551</td>\n",
       "    </tr>\n",
       "    <tr>\n",
       "      <th>3</th>\n",
       "      <td>A new dark vortex was discovered in the atmosp...</td>\n",
       "      <td>photo</td>\n",
       "      <td>24359</td>\n",
       "    </tr>\n",
       "    <tr>\n",
       "      <th>4</th>\n",
       "      <td>NaN</td>\n",
       "      <td>video</td>\n",
       "      <td>2731</td>\n",
       "    </tr>\n",
       "  </tbody>\n",
       "</table>\n",
       "</div>"
      ]
     },
     "execution_count": 16,
     "metadata": {},
     "output_type": "execute_result"
    }
   ],
   "execution_count": 16
  },
  {
   "metadata": {
    "ExecuteTime": {
     "end_time": "2025-07-05T22:26:40.532141Z",
     "start_time": "2025-07-05T22:26:40.527983Z"
    }
   },
   "cell_type": "code",
   "source": "fb = pd.concat(objs=[mrbean,nasa],sort=True)",
   "id": "f1293ef11607b079",
   "outputs": [],
   "execution_count": 23
  },
  {
   "metadata": {
    "ExecuteTime": {
     "end_time": "2025-07-05T22:26:41.844905Z",
     "start_time": "2025-07-05T22:26:41.838440Z"
    }
   },
   "cell_type": "code",
   "source": "fb.head()",
   "id": "50c63ab8fd8815b1",
   "outputs": [
    {
     "data": {
      "text/plain": [
       "   num_likes                              status_message_mrbean  \\\n",
       "0      16079  It's time for Mr Bean and Teddy to get ready f...   \n",
       "1     114008                                                NaN   \n",
       "2     218579                                                NaN   \n",
       "3      20338  Mr Bean is ready to do some shopping but bewar...   \n",
       "4     215591                                                NaN   \n",
       "\n",
       "  status_message_nasa status_type  \n",
       "0                 NaN       video  \n",
       "1                 NaN       photo  \n",
       "2                 NaN       photo  \n",
       "3                 NaN       video  \n",
       "4                 NaN       photo  "
      ],
      "text/html": [
       "<div>\n",
       "<style scoped>\n",
       "    .dataframe tbody tr th:only-of-type {\n",
       "        vertical-align: middle;\n",
       "    }\n",
       "\n",
       "    .dataframe tbody tr th {\n",
       "        vertical-align: top;\n",
       "    }\n",
       "\n",
       "    .dataframe thead th {\n",
       "        text-align: right;\n",
       "    }\n",
       "</style>\n",
       "<table border=\"1\" class=\"dataframe\">\n",
       "  <thead>\n",
       "    <tr style=\"text-align: right;\">\n",
       "      <th></th>\n",
       "      <th>num_likes</th>\n",
       "      <th>status_message_mrbean</th>\n",
       "      <th>status_message_nasa</th>\n",
       "      <th>status_type</th>\n",
       "    </tr>\n",
       "  </thead>\n",
       "  <tbody>\n",
       "    <tr>\n",
       "      <th>0</th>\n",
       "      <td>16079</td>\n",
       "      <td>It's time for Mr Bean and Teddy to get ready f...</td>\n",
       "      <td>NaN</td>\n",
       "      <td>video</td>\n",
       "    </tr>\n",
       "    <tr>\n",
       "      <th>1</th>\n",
       "      <td>114008</td>\n",
       "      <td>NaN</td>\n",
       "      <td>NaN</td>\n",
       "      <td>photo</td>\n",
       "    </tr>\n",
       "    <tr>\n",
       "      <th>2</th>\n",
       "      <td>218579</td>\n",
       "      <td>NaN</td>\n",
       "      <td>NaN</td>\n",
       "      <td>photo</td>\n",
       "    </tr>\n",
       "    <tr>\n",
       "      <th>3</th>\n",
       "      <td>20338</td>\n",
       "      <td>Mr Bean is ready to do some shopping but bewar...</td>\n",
       "      <td>NaN</td>\n",
       "      <td>video</td>\n",
       "    </tr>\n",
       "    <tr>\n",
       "      <th>4</th>\n",
       "      <td>215591</td>\n",
       "      <td>NaN</td>\n",
       "      <td>NaN</td>\n",
       "      <td>photo</td>\n",
       "    </tr>\n",
       "  </tbody>\n",
       "</table>\n",
       "</div>"
      ]
     },
     "execution_count": 24,
     "metadata": {},
     "output_type": "execute_result"
    }
   ],
   "execution_count": 24
  },
  {
   "metadata": {
    "ExecuteTime": {
     "end_time": "2025-07-05T22:26:42.111763Z",
     "start_time": "2025-07-05T22:26:42.104630Z"
    }
   },
   "cell_type": "code",
   "source": "fb.tail()",
   "id": "44e9fb7e12582b5a",
   "outputs": [
    {
     "data": {
      "text/plain": [
       "     num_likes status_message_mrbean  \\\n",
       "758      39355                   NaN   \n",
       "759      11835                   NaN   \n",
       "760      15567                   NaN   \n",
       "761      41584                   NaN   \n",
       "762      12793                   NaN   \n",
       "\n",
       "                                   status_message_nasa status_type  \n",
       "758  You've never seen Pluto like this before! New ...       photo  \n",
       "759  Our cooperative field study in East Asia advan...       photo  \n",
       "760  After spending a #YearInSpace, astronaut Scott...       photo  \n",
       "761  Gravitational waves, predicted by Einstein and...       photo  \n",
       "762  Have you ever used a GPS to help you get somew...       photo  "
      ],
      "text/html": [
       "<div>\n",
       "<style scoped>\n",
       "    .dataframe tbody tr th:only-of-type {\n",
       "        vertical-align: middle;\n",
       "    }\n",
       "\n",
       "    .dataframe tbody tr th {\n",
       "        vertical-align: top;\n",
       "    }\n",
       "\n",
       "    .dataframe thead th {\n",
       "        text-align: right;\n",
       "    }\n",
       "</style>\n",
       "<table border=\"1\" class=\"dataframe\">\n",
       "  <thead>\n",
       "    <tr style=\"text-align: right;\">\n",
       "      <th></th>\n",
       "      <th>num_likes</th>\n",
       "      <th>status_message_mrbean</th>\n",
       "      <th>status_message_nasa</th>\n",
       "      <th>status_type</th>\n",
       "    </tr>\n",
       "  </thead>\n",
       "  <tbody>\n",
       "    <tr>\n",
       "      <th>758</th>\n",
       "      <td>39355</td>\n",
       "      <td>NaN</td>\n",
       "      <td>You've never seen Pluto like this before! New ...</td>\n",
       "      <td>photo</td>\n",
       "    </tr>\n",
       "    <tr>\n",
       "      <th>759</th>\n",
       "      <td>11835</td>\n",
       "      <td>NaN</td>\n",
       "      <td>Our cooperative field study in East Asia advan...</td>\n",
       "      <td>photo</td>\n",
       "    </tr>\n",
       "    <tr>\n",
       "      <th>760</th>\n",
       "      <td>15567</td>\n",
       "      <td>NaN</td>\n",
       "      <td>After spending a #YearInSpace, astronaut Scott...</td>\n",
       "      <td>photo</td>\n",
       "    </tr>\n",
       "    <tr>\n",
       "      <th>761</th>\n",
       "      <td>41584</td>\n",
       "      <td>NaN</td>\n",
       "      <td>Gravitational waves, predicted by Einstein and...</td>\n",
       "      <td>photo</td>\n",
       "    </tr>\n",
       "    <tr>\n",
       "      <th>762</th>\n",
       "      <td>12793</td>\n",
       "      <td>NaN</td>\n",
       "      <td>Have you ever used a GPS to help you get somew...</td>\n",
       "      <td>photo</td>\n",
       "    </tr>\n",
       "  </tbody>\n",
       "</table>\n",
       "</div>"
      ]
     },
     "execution_count": 25,
     "metadata": {},
     "output_type": "execute_result"
    }
   ],
   "execution_count": 25
  },
  {
   "metadata": {
    "ExecuteTime": {
     "end_time": "2025-07-05T22:26:42.536625Z",
     "start_time": "2025-07-05T22:26:42.528406Z"
    }
   },
   "cell_type": "code",
   "source": [
    "fb = pd.concat(objs=[mrbean,nasa],sort=True,ignore_index=True)\n",
    "fb.head()"
   ],
   "id": "15ec268d84d35663",
   "outputs": [
    {
     "data": {
      "text/plain": [
       "   num_likes                              status_message_mrbean  \\\n",
       "0      16079  It's time for Mr Bean and Teddy to get ready f...   \n",
       "1     114008                                                NaN   \n",
       "2     218579                                                NaN   \n",
       "3      20338  Mr Bean is ready to do some shopping but bewar...   \n",
       "4     215591                                                NaN   \n",
       "\n",
       "  status_message_nasa status_type  \n",
       "0                 NaN       video  \n",
       "1                 NaN       photo  \n",
       "2                 NaN       photo  \n",
       "3                 NaN       video  \n",
       "4                 NaN       photo  "
      ],
      "text/html": [
       "<div>\n",
       "<style scoped>\n",
       "    .dataframe tbody tr th:only-of-type {\n",
       "        vertical-align: middle;\n",
       "    }\n",
       "\n",
       "    .dataframe tbody tr th {\n",
       "        vertical-align: top;\n",
       "    }\n",
       "\n",
       "    .dataframe thead th {\n",
       "        text-align: right;\n",
       "    }\n",
       "</style>\n",
       "<table border=\"1\" class=\"dataframe\">\n",
       "  <thead>\n",
       "    <tr style=\"text-align: right;\">\n",
       "      <th></th>\n",
       "      <th>num_likes</th>\n",
       "      <th>status_message_mrbean</th>\n",
       "      <th>status_message_nasa</th>\n",
       "      <th>status_type</th>\n",
       "    </tr>\n",
       "  </thead>\n",
       "  <tbody>\n",
       "    <tr>\n",
       "      <th>0</th>\n",
       "      <td>16079</td>\n",
       "      <td>It's time for Mr Bean and Teddy to get ready f...</td>\n",
       "      <td>NaN</td>\n",
       "      <td>video</td>\n",
       "    </tr>\n",
       "    <tr>\n",
       "      <th>1</th>\n",
       "      <td>114008</td>\n",
       "      <td>NaN</td>\n",
       "      <td>NaN</td>\n",
       "      <td>photo</td>\n",
       "    </tr>\n",
       "    <tr>\n",
       "      <th>2</th>\n",
       "      <td>218579</td>\n",
       "      <td>NaN</td>\n",
       "      <td>NaN</td>\n",
       "      <td>photo</td>\n",
       "    </tr>\n",
       "    <tr>\n",
       "      <th>3</th>\n",
       "      <td>20338</td>\n",
       "      <td>Mr Bean is ready to do some shopping but bewar...</td>\n",
       "      <td>NaN</td>\n",
       "      <td>video</td>\n",
       "    </tr>\n",
       "    <tr>\n",
       "      <th>4</th>\n",
       "      <td>215591</td>\n",
       "      <td>NaN</td>\n",
       "      <td>NaN</td>\n",
       "      <td>photo</td>\n",
       "    </tr>\n",
       "  </tbody>\n",
       "</table>\n",
       "</div>"
      ]
     },
     "execution_count": 26,
     "metadata": {},
     "output_type": "execute_result"
    }
   ],
   "execution_count": 26
  },
  {
   "metadata": {
    "ExecuteTime": {
     "end_time": "2025-07-05T22:26:43.025883Z",
     "start_time": "2025-07-05T22:26:43.020353Z"
    }
   },
   "cell_type": "code",
   "source": "fb.loc[0]",
   "id": "4752f449727823d6",
   "outputs": [
    {
     "data": {
      "text/plain": [
       "num_likes                                                            16079\n",
       "status_message_mrbean    It's time for Mr Bean and Teddy to get ready f...\n",
       "status_message_nasa                                                    NaN\n",
       "status_type                                                          video\n",
       "Name: 0, dtype: object"
      ]
     },
     "execution_count": 27,
     "metadata": {},
     "output_type": "execute_result"
    }
   ],
   "execution_count": 27
  },
  {
   "metadata": {
    "ExecuteTime": {
     "end_time": "2025-07-05T22:27:42.943239Z",
     "start_time": "2025-07-05T22:27:42.939216Z"
    }
   },
   "cell_type": "code",
   "source": [
    "mrbean.rename({'status_message_mrbean':'status_message'},axis=1,inplace=True)\n",
    "nasa.rename({'status_message_nasa':'status_message'},axis=1,inplace=True)"
   ],
   "id": "73f813f7f4c8867",
   "outputs": [],
   "execution_count": 31
  },
  {
   "metadata": {
    "ExecuteTime": {
     "end_time": "2025-07-05T22:27:43.398048Z",
     "start_time": "2025-07-05T22:27:43.394004Z"
    }
   },
   "cell_type": "code",
   "source": "fb = pd.concat(objs=[mrbean,nasa],sort=True,ignore_index=True)",
   "id": "db069c78e0e29dd4",
   "outputs": [],
   "execution_count": 32
  },
  {
   "metadata": {
    "ExecuteTime": {
     "end_time": "2025-07-05T22:27:43.779076Z",
     "start_time": "2025-07-05T22:27:43.772070Z"
    }
   },
   "cell_type": "code",
   "source": "fb.head()",
   "id": "5763a5eb7927b4c1",
   "outputs": [
    {
     "data": {
      "text/plain": [
       "   num_likes                                     status_message status_type\n",
       "0      16079  It's time for Mr Bean and Teddy to get ready f...       video\n",
       "1     114008                                                NaN       photo\n",
       "2     218579                                                NaN       photo\n",
       "3      20338  Mr Bean is ready to do some shopping but bewar...       video\n",
       "4     215591                                                NaN       photo"
      ],
      "text/html": [
       "<div>\n",
       "<style scoped>\n",
       "    .dataframe tbody tr th:only-of-type {\n",
       "        vertical-align: middle;\n",
       "    }\n",
       "\n",
       "    .dataframe tbody tr th {\n",
       "        vertical-align: top;\n",
       "    }\n",
       "\n",
       "    .dataframe thead th {\n",
       "        text-align: right;\n",
       "    }\n",
       "</style>\n",
       "<table border=\"1\" class=\"dataframe\">\n",
       "  <thead>\n",
       "    <tr style=\"text-align: right;\">\n",
       "      <th></th>\n",
       "      <th>num_likes</th>\n",
       "      <th>status_message</th>\n",
       "      <th>status_type</th>\n",
       "    </tr>\n",
       "  </thead>\n",
       "  <tbody>\n",
       "    <tr>\n",
       "      <th>0</th>\n",
       "      <td>16079</td>\n",
       "      <td>It's time for Mr Bean and Teddy to get ready f...</td>\n",
       "      <td>video</td>\n",
       "    </tr>\n",
       "    <tr>\n",
       "      <th>1</th>\n",
       "      <td>114008</td>\n",
       "      <td>NaN</td>\n",
       "      <td>photo</td>\n",
       "    </tr>\n",
       "    <tr>\n",
       "      <th>2</th>\n",
       "      <td>218579</td>\n",
       "      <td>NaN</td>\n",
       "      <td>photo</td>\n",
       "    </tr>\n",
       "    <tr>\n",
       "      <th>3</th>\n",
       "      <td>20338</td>\n",
       "      <td>Mr Bean is ready to do some shopping but bewar...</td>\n",
       "      <td>video</td>\n",
       "    </tr>\n",
       "    <tr>\n",
       "      <th>4</th>\n",
       "      <td>215591</td>\n",
       "      <td>NaN</td>\n",
       "      <td>photo</td>\n",
       "    </tr>\n",
       "  </tbody>\n",
       "</table>\n",
       "</div>"
      ]
     },
     "execution_count": 33,
     "metadata": {},
     "output_type": "execute_result"
    }
   ],
   "execution_count": 33
  },
  {
   "metadata": {},
   "cell_type": "markdown",
   "source": "# Join method",
   "id": "38b9f160215c970e"
  },
  {
   "metadata": {
    "ExecuteTime": {
     "end_time": "2025-07-05T22:38:09.500276Z",
     "start_time": "2025-07-05T22:38:09.482248Z"
    }
   },
   "cell_type": "code",
   "source": [
    "customer_names = pd.read_csv('data/data/northwind-mongo-master/customers.csv',usecols=['CustomerID','CompanyName'])\n",
    "customer_cities = pd.read_csv('data/data/northwind-mongo-master/customers.csv',usecols=['CustomerID','City','Country'])"
   ],
   "id": "a40a26e90a1fa846",
   "outputs": [],
   "execution_count": 34
  },
  {
   "metadata": {
    "ExecuteTime": {
     "end_time": "2025-07-05T22:38:17.928593Z",
     "start_time": "2025-07-05T22:38:17.923675Z"
    }
   },
   "cell_type": "code",
   "source": "len(customer_cities)",
   "id": "1f2d535bc39bc762",
   "outputs": [
    {
     "data": {
      "text/plain": [
       "91"
      ]
     },
     "execution_count": 35,
     "metadata": {},
     "output_type": "execute_result"
    }
   ],
   "execution_count": 35
  },
  {
   "metadata": {
    "ExecuteTime": {
     "end_time": "2025-07-05T22:38:20.592170Z",
     "start_time": "2025-07-05T22:38:20.586730Z"
    }
   },
   "cell_type": "code",
   "source": "len(customer_names)",
   "id": "8177ac5638998ede",
   "outputs": [
    {
     "data": {
      "text/plain": [
       "91"
      ]
     },
     "execution_count": 36,
     "metadata": {},
     "output_type": "execute_result"
    }
   ],
   "execution_count": 36
  },
  {
   "metadata": {
    "ExecuteTime": {
     "end_time": "2025-07-05T22:38:33.377656Z",
     "start_time": "2025-07-05T22:38:33.374374Z"
    }
   },
   "cell_type": "code",
   "source": "customer_cities.set_index('CustomerID',inplace=True)",
   "id": "91b07d8b47b588c",
   "outputs": [],
   "execution_count": 37
  },
  {
   "metadata": {
    "ExecuteTime": {
     "end_time": "2025-07-05T22:38:41.540731Z",
     "start_time": "2025-07-05T22:38:41.536644Z"
    }
   },
   "cell_type": "code",
   "source": "customer_names.set_index('CustomerID',inplace=True)",
   "id": "9cf63f94d9ba85d6",
   "outputs": [],
   "execution_count": 38
  },
  {
   "metadata": {
    "ExecuteTime": {
     "end_time": "2025-07-05T22:39:13.343025Z",
     "start_time": "2025-07-05T22:39:13.333515Z"
    }
   },
   "cell_type": "code",
   "source": "customer_names.join(customer_cities).head()",
   "id": "9109e29fd65ec289",
   "outputs": [
    {
     "data": {
      "text/plain": [
       "                                   CompanyName          City  Country\n",
       "CustomerID                                                           \n",
       "ALFKI                      Alfreds Futterkiste        Berlin  Germany\n",
       "ANATR       Ana Trujillo Emparedados y helados  M?©xico D.F.   Mexico\n",
       "ANTON                 Antonio Moreno Taquer?­a  M?©xico D.F.   Mexico\n",
       "AROUT                          Around the Horn        London       UK\n",
       "BERGS                      Berglunds snabbk?¶p        Lule??   Sweden"
      ],
      "text/html": [
       "<div>\n",
       "<style scoped>\n",
       "    .dataframe tbody tr th:only-of-type {\n",
       "        vertical-align: middle;\n",
       "    }\n",
       "\n",
       "    .dataframe tbody tr th {\n",
       "        vertical-align: top;\n",
       "    }\n",
       "\n",
       "    .dataframe thead th {\n",
       "        text-align: right;\n",
       "    }\n",
       "</style>\n",
       "<table border=\"1\" class=\"dataframe\">\n",
       "  <thead>\n",
       "    <tr style=\"text-align: right;\">\n",
       "      <th></th>\n",
       "      <th>CompanyName</th>\n",
       "      <th>City</th>\n",
       "      <th>Country</th>\n",
       "    </tr>\n",
       "    <tr>\n",
       "      <th>CustomerID</th>\n",
       "      <th></th>\n",
       "      <th></th>\n",
       "      <th></th>\n",
       "    </tr>\n",
       "  </thead>\n",
       "  <tbody>\n",
       "    <tr>\n",
       "      <th>ALFKI</th>\n",
       "      <td>Alfreds Futterkiste</td>\n",
       "      <td>Berlin</td>\n",
       "      <td>Germany</td>\n",
       "    </tr>\n",
       "    <tr>\n",
       "      <th>ANATR</th>\n",
       "      <td>Ana Trujillo Emparedados y helados</td>\n",
       "      <td>M?©xico D.F.</td>\n",
       "      <td>Mexico</td>\n",
       "    </tr>\n",
       "    <tr>\n",
       "      <th>ANTON</th>\n",
       "      <td>Antonio Moreno Taquer?­a</td>\n",
       "      <td>M?©xico D.F.</td>\n",
       "      <td>Mexico</td>\n",
       "    </tr>\n",
       "    <tr>\n",
       "      <th>AROUT</th>\n",
       "      <td>Around the Horn</td>\n",
       "      <td>London</td>\n",
       "      <td>UK</td>\n",
       "    </tr>\n",
       "    <tr>\n",
       "      <th>BERGS</th>\n",
       "      <td>Berglunds snabbk?¶p</td>\n",
       "      <td>Lule??</td>\n",
       "      <td>Sweden</td>\n",
       "    </tr>\n",
       "  </tbody>\n",
       "</table>\n",
       "</div>"
      ]
     },
     "execution_count": 39,
     "metadata": {},
     "output_type": "execute_result"
    }
   ],
   "execution_count": 39
  },
  {
   "metadata": {
    "ExecuteTime": {
     "end_time": "2025-07-05T22:40:36.223069Z",
     "start_time": "2025-07-05T22:40:36.218664Z"
    }
   },
   "cell_type": "code",
   "source": "customer_city_names = customer_names.join(customer_cities,on='CustomerID')",
   "id": "f25947f703587053",
   "outputs": [],
   "execution_count": 46
  },
  {
   "metadata": {
    "ExecuteTime": {
     "end_time": "2025-07-05T22:40:36.756353Z",
     "start_time": "2025-07-05T22:40:36.749253Z"
    }
   },
   "cell_type": "code",
   "source": "customer_city_names.head()",
   "id": "6c9c50148dd53a5a",
   "outputs": [
    {
     "data": {
      "text/plain": [
       "                                   CompanyName          City  Country\n",
       "CustomerID                                                           \n",
       "ALFKI                      Alfreds Futterkiste        Berlin  Germany\n",
       "ANATR       Ana Trujillo Emparedados y helados  M?©xico D.F.   Mexico\n",
       "ANTON                 Antonio Moreno Taquer?­a  M?©xico D.F.   Mexico\n",
       "AROUT                          Around the Horn        London       UK\n",
       "BERGS                      Berglunds snabbk?¶p        Lule??   Sweden"
      ],
      "text/html": [
       "<div>\n",
       "<style scoped>\n",
       "    .dataframe tbody tr th:only-of-type {\n",
       "        vertical-align: middle;\n",
       "    }\n",
       "\n",
       "    .dataframe tbody tr th {\n",
       "        vertical-align: top;\n",
       "    }\n",
       "\n",
       "    .dataframe thead th {\n",
       "        text-align: right;\n",
       "    }\n",
       "</style>\n",
       "<table border=\"1\" class=\"dataframe\">\n",
       "  <thead>\n",
       "    <tr style=\"text-align: right;\">\n",
       "      <th></th>\n",
       "      <th>CompanyName</th>\n",
       "      <th>City</th>\n",
       "      <th>Country</th>\n",
       "    </tr>\n",
       "    <tr>\n",
       "      <th>CustomerID</th>\n",
       "      <th></th>\n",
       "      <th></th>\n",
       "      <th></th>\n",
       "    </tr>\n",
       "  </thead>\n",
       "  <tbody>\n",
       "    <tr>\n",
       "      <th>ALFKI</th>\n",
       "      <td>Alfreds Futterkiste</td>\n",
       "      <td>Berlin</td>\n",
       "      <td>Germany</td>\n",
       "    </tr>\n",
       "    <tr>\n",
       "      <th>ANATR</th>\n",
       "      <td>Ana Trujillo Emparedados y helados</td>\n",
       "      <td>M?©xico D.F.</td>\n",
       "      <td>Mexico</td>\n",
       "    </tr>\n",
       "    <tr>\n",
       "      <th>ANTON</th>\n",
       "      <td>Antonio Moreno Taquer?­a</td>\n",
       "      <td>M?©xico D.F.</td>\n",
       "      <td>Mexico</td>\n",
       "    </tr>\n",
       "    <tr>\n",
       "      <th>AROUT</th>\n",
       "      <td>Around the Horn</td>\n",
       "      <td>London</td>\n",
       "      <td>UK</td>\n",
       "    </tr>\n",
       "    <tr>\n",
       "      <th>BERGS</th>\n",
       "      <td>Berglunds snabbk?¶p</td>\n",
       "      <td>Lule??</td>\n",
       "      <td>Sweden</td>\n",
       "    </tr>\n",
       "  </tbody>\n",
       "</table>\n",
       "</div>"
      ]
     },
     "execution_count": 47,
     "metadata": {},
     "output_type": "execute_result"
    }
   ],
   "execution_count": 47
  },
  {
   "metadata": {
    "ExecuteTime": {
     "end_time": "2025-07-05T22:40:37.225216Z",
     "start_time": "2025-07-05T22:40:37.220052Z"
    }
   },
   "cell_type": "code",
   "source": "len(customer_city_names)",
   "id": "c2a2597fd8efcd4c",
   "outputs": [
    {
     "data": {
      "text/plain": [
       "91"
      ]
     },
     "execution_count": 48,
     "metadata": {},
     "output_type": "execute_result"
    }
   ],
   "execution_count": 48
  },
  {
   "metadata": {},
   "cell_type": "markdown",
   "source": "# Merge method",
   "id": "6e1b2e1c41caee00"
  },
  {
   "metadata": {
    "ExecuteTime": {
     "end_time": "2025-07-06T11:07:18.129920Z",
     "start_time": "2025-07-06T11:07:18.117896Z"
    }
   },
   "cell_type": "code",
   "source": [
    "f_2015 = pd.read_csv('data/data/Fortune_500_2015.csv',usecols=['rank','company'])\n",
    "f_2016 = pd.read_csv('data/data/Fortune_500_2016.csv',usecols=['rank','company'])"
   ],
   "id": "365dc10fb9af26bb",
   "outputs": [],
   "execution_count": 3
  },
  {
   "metadata": {
    "ExecuteTime": {
     "end_time": "2025-07-06T11:10:41.672130Z",
     "start_time": "2025-07-06T11:10:41.663625Z"
    }
   },
   "cell_type": "code",
   "source": [
    "companies_2015_2016 = f_2015.merge(f_2016,how='inner',on='company',suffixes=['_2015','_2016'])\n",
    "companies_2015_2016.head()"
   ],
   "id": "f2383198af617be2",
   "outputs": [
    {
     "data": {
      "text/plain": [
       "   rank_2015             company  rank_2016\n",
       "0          1             Walmart          1\n",
       "1          2         Exxon Mobil          2\n",
       "2          3             Chevron         14\n",
       "3          4  Berkshire Hathaway          4\n",
       "4          5               Apple          3"
      ],
      "text/html": [
       "<div>\n",
       "<style scoped>\n",
       "    .dataframe tbody tr th:only-of-type {\n",
       "        vertical-align: middle;\n",
       "    }\n",
       "\n",
       "    .dataframe tbody tr th {\n",
       "        vertical-align: top;\n",
       "    }\n",
       "\n",
       "    .dataframe thead th {\n",
       "        text-align: right;\n",
       "    }\n",
       "</style>\n",
       "<table border=\"1\" class=\"dataframe\">\n",
       "  <thead>\n",
       "    <tr style=\"text-align: right;\">\n",
       "      <th></th>\n",
       "      <th>rank_2015</th>\n",
       "      <th>company</th>\n",
       "      <th>rank_2016</th>\n",
       "    </tr>\n",
       "  </thead>\n",
       "  <tbody>\n",
       "    <tr>\n",
       "      <th>0</th>\n",
       "      <td>1</td>\n",
       "      <td>Walmart</td>\n",
       "      <td>1</td>\n",
       "    </tr>\n",
       "    <tr>\n",
       "      <th>1</th>\n",
       "      <td>2</td>\n",
       "      <td>Exxon Mobil</td>\n",
       "      <td>2</td>\n",
       "    </tr>\n",
       "    <tr>\n",
       "      <th>2</th>\n",
       "      <td>3</td>\n",
       "      <td>Chevron</td>\n",
       "      <td>14</td>\n",
       "    </tr>\n",
       "    <tr>\n",
       "      <th>3</th>\n",
       "      <td>4</td>\n",
       "      <td>Berkshire Hathaway</td>\n",
       "      <td>4</td>\n",
       "    </tr>\n",
       "    <tr>\n",
       "      <th>4</th>\n",
       "      <td>5</td>\n",
       "      <td>Apple</td>\n",
       "      <td>3</td>\n",
       "    </tr>\n",
       "  </tbody>\n",
       "</table>\n",
       "</div>"
      ]
     },
     "execution_count": 8,
     "metadata": {},
     "output_type": "execute_result"
    }
   ],
   "execution_count": 8
  },
  {
   "metadata": {
    "ExecuteTime": {
     "end_time": "2025-07-06T11:12:14.585400Z",
     "start_time": "2025-07-06T11:12:14.577998Z"
    }
   },
   "cell_type": "code",
   "source": "companies_2015_2016[companies_2015_2016['company']=='Microsoft']",
   "id": "29b791f8ffd3bf66",
   "outputs": [
    {
     "data": {
      "text/plain": [
       "    rank_2015    company  rank_2016\n",
       "30         31  Microsoft       25.0"
      ],
      "text/html": [
       "<div>\n",
       "<style scoped>\n",
       "    .dataframe tbody tr th:only-of-type {\n",
       "        vertical-align: middle;\n",
       "    }\n",
       "\n",
       "    .dataframe tbody tr th {\n",
       "        vertical-align: top;\n",
       "    }\n",
       "\n",
       "    .dataframe thead th {\n",
       "        text-align: right;\n",
       "    }\n",
       "</style>\n",
       "<table border=\"1\" class=\"dataframe\">\n",
       "  <thead>\n",
       "    <tr style=\"text-align: right;\">\n",
       "      <th></th>\n",
       "      <th>rank_2015</th>\n",
       "      <th>company</th>\n",
       "      <th>rank_2016</th>\n",
       "    </tr>\n",
       "  </thead>\n",
       "  <tbody>\n",
       "    <tr>\n",
       "      <th>30</th>\n",
       "      <td>31</td>\n",
       "      <td>Microsoft</td>\n",
       "      <td>25.0</td>\n",
       "    </tr>\n",
       "  </tbody>\n",
       "</table>\n",
       "</div>"
      ]
     },
     "execution_count": 10,
     "metadata": {},
     "output_type": "execute_result"
    }
   ],
   "execution_count": 10
  },
  {
   "metadata": {
    "ExecuteTime": {
     "end_time": "2025-07-06T11:13:15.152735Z",
     "start_time": "2025-07-06T11:13:15.134589Z"
    }
   },
   "cell_type": "code",
   "source": [
    "companies_2015_2016 = f_2015.merge(f_2016,how='outer',on='company',suffixes=['_2015','_2016'], indicator=True)\n",
    "companies_2015_2016.head()"
   ],
   "id": "9c5cb14158a3f262",
   "outputs": [
    {
     "data": {
      "text/plain": [
       "   rank_2015                 company  rank_2016      _merge\n",
       "0       98.0                      3M       93.0        both\n",
       "1      444.0  A-Mark Precious Metals      426.0        both\n",
       "2        NaN          ABM Industries      485.0  right_only\n",
       "3      251.0                     ADP      248.0        both\n",
       "4      343.0                   AECOM      156.0        both"
      ],
      "text/html": [
       "<div>\n",
       "<style scoped>\n",
       "    .dataframe tbody tr th:only-of-type {\n",
       "        vertical-align: middle;\n",
       "    }\n",
       "\n",
       "    .dataframe tbody tr th {\n",
       "        vertical-align: top;\n",
       "    }\n",
       "\n",
       "    .dataframe thead th {\n",
       "        text-align: right;\n",
       "    }\n",
       "</style>\n",
       "<table border=\"1\" class=\"dataframe\">\n",
       "  <thead>\n",
       "    <tr style=\"text-align: right;\">\n",
       "      <th></th>\n",
       "      <th>rank_2015</th>\n",
       "      <th>company</th>\n",
       "      <th>rank_2016</th>\n",
       "      <th>_merge</th>\n",
       "    </tr>\n",
       "  </thead>\n",
       "  <tbody>\n",
       "    <tr>\n",
       "      <th>0</th>\n",
       "      <td>98.0</td>\n",
       "      <td>3M</td>\n",
       "      <td>93.0</td>\n",
       "      <td>both</td>\n",
       "    </tr>\n",
       "    <tr>\n",
       "      <th>1</th>\n",
       "      <td>444.0</td>\n",
       "      <td>A-Mark Precious Metals</td>\n",
       "      <td>426.0</td>\n",
       "      <td>both</td>\n",
       "    </tr>\n",
       "    <tr>\n",
       "      <th>2</th>\n",
       "      <td>NaN</td>\n",
       "      <td>ABM Industries</td>\n",
       "      <td>485.0</td>\n",
       "      <td>right_only</td>\n",
       "    </tr>\n",
       "    <tr>\n",
       "      <th>3</th>\n",
       "      <td>251.0</td>\n",
       "      <td>ADP</td>\n",
       "      <td>248.0</td>\n",
       "      <td>both</td>\n",
       "    </tr>\n",
       "    <tr>\n",
       "      <th>4</th>\n",
       "      <td>343.0</td>\n",
       "      <td>AECOM</td>\n",
       "      <td>156.0</td>\n",
       "      <td>both</td>\n",
       "    </tr>\n",
       "  </tbody>\n",
       "</table>\n",
       "</div>"
      ]
     },
     "execution_count": 11,
     "metadata": {},
     "output_type": "execute_result"
    }
   ],
   "execution_count": 11
  },
  {
   "metadata": {
    "ExecuteTime": {
     "end_time": "2025-07-06T11:13:40.453188Z",
     "start_time": "2025-07-06T11:13:40.444963Z"
    }
   },
   "cell_type": "code",
   "source": [
    "only_2015 = companies_2015_2016[companies_2015_2016['_merge']=='left_only']\n",
    "only_2015.head()"
   ],
   "id": "de4c6af462b33cf8",
   "outputs": [
    {
     "data": {
      "text/plain": [
       "    rank_2015                 company  rank_2016     _merge\n",
       "7       465.0           AGL Resources        NaN  left_only\n",
       "10      492.0             ARRIS Group        NaN  left_only\n",
       "15      473.0  Advanced Micro Devices        NaN  left_only\n",
       "18      389.0    Agilent Technologies        NaN  left_only\n",
       "22      125.0                   Alcoa        NaN  left_only"
      ],
      "text/html": [
       "<div>\n",
       "<style scoped>\n",
       "    .dataframe tbody tr th:only-of-type {\n",
       "        vertical-align: middle;\n",
       "    }\n",
       "\n",
       "    .dataframe tbody tr th {\n",
       "        vertical-align: top;\n",
       "    }\n",
       "\n",
       "    .dataframe thead th {\n",
       "        text-align: right;\n",
       "    }\n",
       "</style>\n",
       "<table border=\"1\" class=\"dataframe\">\n",
       "  <thead>\n",
       "    <tr style=\"text-align: right;\">\n",
       "      <th></th>\n",
       "      <th>rank_2015</th>\n",
       "      <th>company</th>\n",
       "      <th>rank_2016</th>\n",
       "      <th>_merge</th>\n",
       "    </tr>\n",
       "  </thead>\n",
       "  <tbody>\n",
       "    <tr>\n",
       "      <th>7</th>\n",
       "      <td>465.0</td>\n",
       "      <td>AGL Resources</td>\n",
       "      <td>NaN</td>\n",
       "      <td>left_only</td>\n",
       "    </tr>\n",
       "    <tr>\n",
       "      <th>10</th>\n",
       "      <td>492.0</td>\n",
       "      <td>ARRIS Group</td>\n",
       "      <td>NaN</td>\n",
       "      <td>left_only</td>\n",
       "    </tr>\n",
       "    <tr>\n",
       "      <th>15</th>\n",
       "      <td>473.0</td>\n",
       "      <td>Advanced Micro Devices</td>\n",
       "      <td>NaN</td>\n",
       "      <td>left_only</td>\n",
       "    </tr>\n",
       "    <tr>\n",
       "      <th>18</th>\n",
       "      <td>389.0</td>\n",
       "      <td>Agilent Technologies</td>\n",
       "      <td>NaN</td>\n",
       "      <td>left_only</td>\n",
       "    </tr>\n",
       "    <tr>\n",
       "      <th>22</th>\n",
       "      <td>125.0</td>\n",
       "      <td>Alcoa</td>\n",
       "      <td>NaN</td>\n",
       "      <td>left_only</td>\n",
       "    </tr>\n",
       "  </tbody>\n",
       "</table>\n",
       "</div>"
      ]
     },
     "execution_count": 13,
     "metadata": {},
     "output_type": "execute_result"
    }
   ],
   "execution_count": 13
  },
  {
   "metadata": {
    "ExecuteTime": {
     "end_time": "2025-07-06T11:14:00.195045Z",
     "start_time": "2025-07-06T11:14:00.187359Z"
    }
   },
   "cell_type": "code",
   "source": [
    "only_2016 = companies_2015_2016[companies_2015_2016['_merge']=='right_only']\n",
    "only_2016.head()"
   ],
   "id": "6ed004b6b82a00ee",
   "outputs": [
    {
     "data": {
      "text/plain": [
       "    rank_2015              company  rank_2016      _merge\n",
       "2         NaN       ABM Industries      485.0  right_only\n",
       "20        NaN               Airgas      484.0  right_only\n",
       "49        NaN              Arconic      126.0  right_only\n",
       "51        NaN  Arthur J. Gallagher      471.0  right_only\n",
       "69        NaN              Baxalta      420.0  right_only"
      ],
      "text/html": [
       "<div>\n",
       "<style scoped>\n",
       "    .dataframe tbody tr th:only-of-type {\n",
       "        vertical-align: middle;\n",
       "    }\n",
       "\n",
       "    .dataframe tbody tr th {\n",
       "        vertical-align: top;\n",
       "    }\n",
       "\n",
       "    .dataframe thead th {\n",
       "        text-align: right;\n",
       "    }\n",
       "</style>\n",
       "<table border=\"1\" class=\"dataframe\">\n",
       "  <thead>\n",
       "    <tr style=\"text-align: right;\">\n",
       "      <th></th>\n",
       "      <th>rank_2015</th>\n",
       "      <th>company</th>\n",
       "      <th>rank_2016</th>\n",
       "      <th>_merge</th>\n",
       "    </tr>\n",
       "  </thead>\n",
       "  <tbody>\n",
       "    <tr>\n",
       "      <th>2</th>\n",
       "      <td>NaN</td>\n",
       "      <td>ABM Industries</td>\n",
       "      <td>485.0</td>\n",
       "      <td>right_only</td>\n",
       "    </tr>\n",
       "    <tr>\n",
       "      <th>20</th>\n",
       "      <td>NaN</td>\n",
       "      <td>Airgas</td>\n",
       "      <td>484.0</td>\n",
       "      <td>right_only</td>\n",
       "    </tr>\n",
       "    <tr>\n",
       "      <th>49</th>\n",
       "      <td>NaN</td>\n",
       "      <td>Arconic</td>\n",
       "      <td>126.0</td>\n",
       "      <td>right_only</td>\n",
       "    </tr>\n",
       "    <tr>\n",
       "      <th>51</th>\n",
       "      <td>NaN</td>\n",
       "      <td>Arthur J. Gallagher</td>\n",
       "      <td>471.0</td>\n",
       "      <td>right_only</td>\n",
       "    </tr>\n",
       "    <tr>\n",
       "      <th>69</th>\n",
       "      <td>NaN</td>\n",
       "      <td>Baxalta</td>\n",
       "      <td>420.0</td>\n",
       "      <td>right_only</td>\n",
       "    </tr>\n",
       "  </tbody>\n",
       "</table>\n",
       "</div>"
      ]
     },
     "execution_count": 14,
     "metadata": {},
     "output_type": "execute_result"
    }
   ],
   "execution_count": 14
  },
  {
   "metadata": {
    "ExecuteTime": {
     "end_time": "2025-07-06T11:19:29.394165Z",
     "start_time": "2025-07-06T11:19:29.388144Z"
    }
   },
   "cell_type": "code",
   "source": "suppliers = pd.read_csv('data/data/northwind-mongo-master/suppliers_del_1.csv',usecols=['SupplierID','CompanyName','City'])",
   "id": "ace57ddf11783904",
   "outputs": [],
   "execution_count": 15
  },
  {
   "metadata": {
    "ExecuteTime": {
     "end_time": "2025-07-06T11:19:51.308291Z",
     "start_time": "2025-07-06T11:19:51.302290Z"
    }
   },
   "cell_type": "code",
   "source": "products = pd.read_csv('data/data/northwind-mongo-master/products_del_1.csv',usecols=['ProductID','ProductName','SupplierID'])",
   "id": "c28015ea872fc8e",
   "outputs": [],
   "execution_count": 16
  },
  {
   "metadata": {
    "ExecuteTime": {
     "end_time": "2025-07-06T11:20:38.169732Z",
     "start_time": "2025-07-06T11:20:38.165114Z"
    }
   },
   "cell_type": "code",
   "source": "prod_and_sup = pd.merge(left=products, right=suppliers,how='inner',on='SupplierID')",
   "id": "10bea4878c551310",
   "outputs": [],
   "execution_count": 17
  },
  {
   "metadata": {
    "ExecuteTime": {
     "end_time": "2025-07-06T11:20:45.116595Z",
     "start_time": "2025-07-06T11:20:45.111593Z"
    }
   },
   "cell_type": "code",
   "source": "len(prod_and_sup)",
   "id": "d9643348794781df",
   "outputs": [
    {
     "data": {
      "text/plain": [
       "70"
      ]
     },
     "execution_count": 18,
     "metadata": {},
     "output_type": "execute_result"
    }
   ],
   "execution_count": 18
  },
  {
   "metadata": {
    "ExecuteTime": {
     "end_time": "2025-07-06T11:20:47.141190Z",
     "start_time": "2025-07-06T11:20:47.136197Z"
    }
   },
   "cell_type": "code",
   "source": "len(suppliers)",
   "id": "6b3d3f595bf3c8f6",
   "outputs": [
    {
     "data": {
      "text/plain": [
       "27"
      ]
     },
     "execution_count": 19,
     "metadata": {},
     "output_type": "execute_result"
    }
   ],
   "execution_count": 19
  },
  {
   "metadata": {
    "ExecuteTime": {
     "end_time": "2025-07-06T11:20:52.979528Z",
     "start_time": "2025-07-06T11:20:52.974528Z"
    }
   },
   "cell_type": "code",
   "source": "len(products)",
   "id": "4ef5702339f6c0bb",
   "outputs": [
    {
     "data": {
      "text/plain": [
       "75"
      ]
     },
     "execution_count": 20,
     "metadata": {},
     "output_type": "execute_result"
    }
   ],
   "execution_count": 20
  },
  {
   "metadata": {
    "ExecuteTime": {
     "end_time": "2025-07-06T11:25:19.019524Z",
     "start_time": "2025-07-06T11:25:19.006884Z"
    }
   },
   "cell_type": "code",
   "source": [
    "prod_and_sup_outer = pd.merge(left=products, right=suppliers, how='outer', on='SupplierID', indicator=True)\n",
    "left_check = prod_and_sup_outer['_merge']=='left_only'\n",
    "prod_and_sup_outer[left_check]"
   ],
   "id": "66a296a07bc8942b",
   "outputs": [
    {
     "data": {
      "text/plain": [
       "    ProductID          ProductName  SupplierID CompanyName City     _merge\n",
       "27       22.0  Gustaf's Knäckebröd           9         NaN  NaN  left_only\n",
       "28       23.0             Tunnbröd           9         NaN  NaN  left_only\n",
       "48       36.0          Inlagd Sill          17         NaN  NaN  left_only\n",
       "49       37.0           Gravad lax          17         NaN  NaN  left_only\n",
       "50       73.0           Röd Kaviar          17         NaN  NaN  left_only"
      ],
      "text/html": [
       "<div>\n",
       "<style scoped>\n",
       "    .dataframe tbody tr th:only-of-type {\n",
       "        vertical-align: middle;\n",
       "    }\n",
       "\n",
       "    .dataframe tbody tr th {\n",
       "        vertical-align: top;\n",
       "    }\n",
       "\n",
       "    .dataframe thead th {\n",
       "        text-align: right;\n",
       "    }\n",
       "</style>\n",
       "<table border=\"1\" class=\"dataframe\">\n",
       "  <thead>\n",
       "    <tr style=\"text-align: right;\">\n",
       "      <th></th>\n",
       "      <th>ProductID</th>\n",
       "      <th>ProductName</th>\n",
       "      <th>SupplierID</th>\n",
       "      <th>CompanyName</th>\n",
       "      <th>City</th>\n",
       "      <th>_merge</th>\n",
       "    </tr>\n",
       "  </thead>\n",
       "  <tbody>\n",
       "    <tr>\n",
       "      <th>27</th>\n",
       "      <td>22.0</td>\n",
       "      <td>Gustaf's Knäckebröd</td>\n",
       "      <td>9</td>\n",
       "      <td>NaN</td>\n",
       "      <td>NaN</td>\n",
       "      <td>left_only</td>\n",
       "    </tr>\n",
       "    <tr>\n",
       "      <th>28</th>\n",
       "      <td>23.0</td>\n",
       "      <td>Tunnbröd</td>\n",
       "      <td>9</td>\n",
       "      <td>NaN</td>\n",
       "      <td>NaN</td>\n",
       "      <td>left_only</td>\n",
       "    </tr>\n",
       "    <tr>\n",
       "      <th>48</th>\n",
       "      <td>36.0</td>\n",
       "      <td>Inlagd Sill</td>\n",
       "      <td>17</td>\n",
       "      <td>NaN</td>\n",
       "      <td>NaN</td>\n",
       "      <td>left_only</td>\n",
       "    </tr>\n",
       "    <tr>\n",
       "      <th>49</th>\n",
       "      <td>37.0</td>\n",
       "      <td>Gravad lax</td>\n",
       "      <td>17</td>\n",
       "      <td>NaN</td>\n",
       "      <td>NaN</td>\n",
       "      <td>left_only</td>\n",
       "    </tr>\n",
       "    <tr>\n",
       "      <th>50</th>\n",
       "      <td>73.0</td>\n",
       "      <td>Röd Kaviar</td>\n",
       "      <td>17</td>\n",
       "      <td>NaN</td>\n",
       "      <td>NaN</td>\n",
       "      <td>left_only</td>\n",
       "    </tr>\n",
       "  </tbody>\n",
       "</table>\n",
       "</div>"
      ]
     },
     "execution_count": 23,
     "metadata": {},
     "output_type": "execute_result"
    }
   ],
   "execution_count": 23
  },
  {
   "metadata": {
    "ExecuteTime": {
     "end_time": "2025-07-06T11:24:12.839518Z",
     "start_time": "2025-07-06T11:24:12.831991Z"
    }
   },
   "cell_type": "code",
   "source": [
    "right_check = prod_and_sup_outer['_merge']=='right_only'\n",
    "prod_and_sup_outer[right_check].head()"
   ],
   "id": "c72d44a8b6cec1f3",
   "outputs": [
    {
     "data": {
      "text/plain": [
       "    ProductID ProductName  SupplierID         CompanyName      City  \\\n",
       "72        NaN         NaN          27  Escargots Nouveaux  Montceau   \n",
       "\n",
       "        _merge  \n",
       "72  right_only  "
      ],
      "text/html": [
       "<div>\n",
       "<style scoped>\n",
       "    .dataframe tbody tr th:only-of-type {\n",
       "        vertical-align: middle;\n",
       "    }\n",
       "\n",
       "    .dataframe tbody tr th {\n",
       "        vertical-align: top;\n",
       "    }\n",
       "\n",
       "    .dataframe thead th {\n",
       "        text-align: right;\n",
       "    }\n",
       "</style>\n",
       "<table border=\"1\" class=\"dataframe\">\n",
       "  <thead>\n",
       "    <tr style=\"text-align: right;\">\n",
       "      <th></th>\n",
       "      <th>ProductID</th>\n",
       "      <th>ProductName</th>\n",
       "      <th>SupplierID</th>\n",
       "      <th>CompanyName</th>\n",
       "      <th>City</th>\n",
       "      <th>_merge</th>\n",
       "    </tr>\n",
       "  </thead>\n",
       "  <tbody>\n",
       "    <tr>\n",
       "      <th>72</th>\n",
       "      <td>NaN</td>\n",
       "      <td>NaN</td>\n",
       "      <td>27</td>\n",
       "      <td>Escargots Nouveaux</td>\n",
       "      <td>Montceau</td>\n",
       "      <td>right_only</td>\n",
       "    </tr>\n",
       "  </tbody>\n",
       "</table>\n",
       "</div>"
      ]
     },
     "execution_count": 22,
     "metadata": {},
     "output_type": "execute_result"
    }
   ],
   "execution_count": 22
  },
  {
   "metadata": {
    "ExecuteTime": {
     "end_time": "2025-07-06T11:33:34.323190Z",
     "start_time": "2025-07-06T11:33:34.318192Z"
    }
   },
   "cell_type": "code",
   "source": "suppliers = pd.read_csv('data/data/northwind-mongo-master/suppliers.csv',usecols=['SupplierID','CompanyName','City'])",
   "id": "98e3df8de90b0f59",
   "outputs": [],
   "execution_count": 26
  },
  {
   "metadata": {
    "ExecuteTime": {
     "end_time": "2025-07-06T11:33:49.881720Z",
     "start_time": "2025-07-06T11:33:49.875207Z"
    }
   },
   "cell_type": "code",
   "source": "products = pd.read_csv('data/data/northwind-mongo-master/products_del_2.csv',usecols=['ProductID','ProductName','SupplierID'])",
   "id": "b12cc9058ff871c8",
   "outputs": [],
   "execution_count": 27
  },
  {
   "metadata": {
    "ExecuteTime": {
     "end_time": "2025-07-06T11:35:14.768353Z",
     "start_time": "2025-07-06T11:35:14.760511Z"
    }
   },
   "cell_type": "code",
   "source": "sup_prod = pd.merge(left=products, right=suppliers, how='inner', on='SupplierID',indicator=True)",
   "id": "7871cfab6fa769f9",
   "outputs": [],
   "execution_count": 28
  },
  {
   "metadata": {
    "ExecuteTime": {
     "end_time": "2025-07-06T11:35:31.914594Z",
     "start_time": "2025-07-06T11:35:31.910290Z"
    }
   },
   "cell_type": "code",
   "source": "len(suppliers)",
   "id": "f6b8b7c27e324ceb",
   "outputs": [
    {
     "data": {
      "text/plain": [
       "29"
      ]
     },
     "execution_count": 31,
     "metadata": {},
     "output_type": "execute_result"
    }
   ],
   "execution_count": 31
  },
  {
   "metadata": {
    "ExecuteTime": {
     "end_time": "2025-07-06T11:35:42.343578Z",
     "start_time": "2025-07-06T11:35:42.338498Z"
    }
   },
   "cell_type": "code",
   "source": "len(products)",
   "id": "63e41ffcc1748439",
   "outputs": [
    {
     "data": {
      "text/plain": [
       "68"
      ]
     },
     "execution_count": 33,
     "metadata": {},
     "output_type": "execute_result"
    }
   ],
   "execution_count": 33
  },
  {
   "metadata": {
    "ExecuteTime": {
     "end_time": "2025-07-06T11:35:45.007313Z",
     "start_time": "2025-07-06T11:35:45.003154Z"
    }
   },
   "cell_type": "code",
   "source": "len(sup_prod)",
   "id": "824afeba4b9a255f",
   "outputs": [
    {
     "data": {
      "text/plain": [
       "68"
      ]
     },
     "execution_count": 34,
     "metadata": {},
     "output_type": "execute_result"
    }
   ],
   "execution_count": 34
  },
  {
   "metadata": {
    "ExecuteTime": {
     "end_time": "2025-07-06T11:36:24.348288Z",
     "start_time": "2025-07-06T11:36:24.340783Z"
    }
   },
   "cell_type": "code",
   "source": "sup_prod_left = suppliers.merge(products, how='left', on='SupplierID',indicator=True)",
   "id": "9b796ddaa3c660f0",
   "outputs": [],
   "execution_count": 35
  },
  {
   "metadata": {
    "ExecuteTime": {
     "end_time": "2025-07-06T11:36:31.236510Z",
     "start_time": "2025-07-06T11:36:31.232018Z"
    }
   },
   "cell_type": "code",
   "source": "len(sup_prod_left)",
   "id": "3361db96c2fcb5f7",
   "outputs": [
    {
     "data": {
      "text/plain": [
       "70"
      ]
     },
     "execution_count": 36,
     "metadata": {},
     "output_type": "execute_result"
    }
   ],
   "execution_count": 36
  },
  {
   "metadata": {
    "ExecuteTime": {
     "end_time": "2025-07-06T11:37:33.397754Z",
     "start_time": "2025-07-06T11:37:33.389629Z"
    }
   },
   "cell_type": "code",
   "source": "sup_prod_left[sup_prod_left['_merge']=='left_only']",
   "id": "16d08ba785f15fd5",
   "outputs": [
    {
     "data": {
      "text/plain": [
       "    SupplierID                 CompanyName         City  ProductID  \\\n",
       "2            2  New Orleans Cajun Delights  New Orleans        NaN   \n",
       "67          27          Escargots Nouveaux     Montceau        NaN   \n",
       "\n",
       "   ProductName     _merge  \n",
       "2          NaN  left_only  \n",
       "67         NaN  left_only  "
      ],
      "text/html": [
       "<div>\n",
       "<style scoped>\n",
       "    .dataframe tbody tr th:only-of-type {\n",
       "        vertical-align: middle;\n",
       "    }\n",
       "\n",
       "    .dataframe tbody tr th {\n",
       "        vertical-align: top;\n",
       "    }\n",
       "\n",
       "    .dataframe thead th {\n",
       "        text-align: right;\n",
       "    }\n",
       "</style>\n",
       "<table border=\"1\" class=\"dataframe\">\n",
       "  <thead>\n",
       "    <tr style=\"text-align: right;\">\n",
       "      <th></th>\n",
       "      <th>SupplierID</th>\n",
       "      <th>CompanyName</th>\n",
       "      <th>City</th>\n",
       "      <th>ProductID</th>\n",
       "      <th>ProductName</th>\n",
       "      <th>_merge</th>\n",
       "    </tr>\n",
       "  </thead>\n",
       "  <tbody>\n",
       "    <tr>\n",
       "      <th>2</th>\n",
       "      <td>2</td>\n",
       "      <td>New Orleans Cajun Delights</td>\n",
       "      <td>New Orleans</td>\n",
       "      <td>NaN</td>\n",
       "      <td>NaN</td>\n",
       "      <td>left_only</td>\n",
       "    </tr>\n",
       "    <tr>\n",
       "      <th>67</th>\n",
       "      <td>27</td>\n",
       "      <td>Escargots Nouveaux</td>\n",
       "      <td>Montceau</td>\n",
       "      <td>NaN</td>\n",
       "      <td>NaN</td>\n",
       "      <td>left_only</td>\n",
       "    </tr>\n",
       "  </tbody>\n",
       "</table>\n",
       "</div>"
      ]
     },
     "execution_count": 37,
     "metadata": {},
     "output_type": "execute_result"
    }
   ],
   "execution_count": 37
  },
  {
   "metadata": {},
   "cell_type": "markdown",
   "source": "# merge options",
   "id": "9bac90fedb2526a5"
  },
  {
   "metadata": {
    "ExecuteTime": {
     "end_time": "2025-07-06T11:47:44.353315Z",
     "start_time": "2025-07-06T11:47:44.349159Z"
    }
   },
   "cell_type": "code",
   "source": "suppliers = pd.read_csv('data/data/northwind-mongo-master/suppliers.csv',usecols=['SupplierID','CompanyName','City'])",
   "id": "d364309a100987bd",
   "outputs": [],
   "execution_count": 38
  },
  {
   "metadata": {
    "ExecuteTime": {
     "end_time": "2025-07-06T11:47:54.087830Z",
     "start_time": "2025-07-06T11:47:54.082304Z"
    }
   },
   "cell_type": "code",
   "source": "products = pd.read_csv('data/data/northwind-mongo-master/products.csv',usecols=['ProductID','ProductName','SupplierID'])",
   "id": "e41321bdfae84243",
   "outputs": [],
   "execution_count": 39
  },
  {
   "metadata": {
    "ExecuteTime": {
     "end_time": "2025-07-06T11:49:00.657498Z",
     "start_time": "2025-07-06T11:49:00.647954Z"
    }
   },
   "cell_type": "code",
   "source": "suppliers.merge(products,how='inner',on='SupplierID').head()",
   "id": "c1a048dbf1e35e38",
   "outputs": [
    {
     "data": {
      "text/plain": [
       "   SupplierID                 CompanyName         City  ProductID  \\\n",
       "0           1              Exotic Liquids       London          1   \n",
       "1           1              Exotic Liquids       London          2   \n",
       "2           1              Exotic Liquids       London          3   \n",
       "3           2  New Orleans Cajun Delights  New Orleans          4   \n",
       "4           2  New Orleans Cajun Delights  New Orleans          5   \n",
       "\n",
       "                    ProductName  \n",
       "0                          Chai  \n",
       "1                         Chang  \n",
       "2                 Aniseed Syrup  \n",
       "3  Chef Anton's Cajun Seasoning  \n",
       "4        Chef Anton's Gumbo Mix  "
      ],
      "text/html": [
       "<div>\n",
       "<style scoped>\n",
       "    .dataframe tbody tr th:only-of-type {\n",
       "        vertical-align: middle;\n",
       "    }\n",
       "\n",
       "    .dataframe tbody tr th {\n",
       "        vertical-align: top;\n",
       "    }\n",
       "\n",
       "    .dataframe thead th {\n",
       "        text-align: right;\n",
       "    }\n",
       "</style>\n",
       "<table border=\"1\" class=\"dataframe\">\n",
       "  <thead>\n",
       "    <tr style=\"text-align: right;\">\n",
       "      <th></th>\n",
       "      <th>SupplierID</th>\n",
       "      <th>CompanyName</th>\n",
       "      <th>City</th>\n",
       "      <th>ProductID</th>\n",
       "      <th>ProductName</th>\n",
       "    </tr>\n",
       "  </thead>\n",
       "  <tbody>\n",
       "    <tr>\n",
       "      <th>0</th>\n",
       "      <td>1</td>\n",
       "      <td>Exotic Liquids</td>\n",
       "      <td>London</td>\n",
       "      <td>1</td>\n",
       "      <td>Chai</td>\n",
       "    </tr>\n",
       "    <tr>\n",
       "      <th>1</th>\n",
       "      <td>1</td>\n",
       "      <td>Exotic Liquids</td>\n",
       "      <td>London</td>\n",
       "      <td>2</td>\n",
       "      <td>Chang</td>\n",
       "    </tr>\n",
       "    <tr>\n",
       "      <th>2</th>\n",
       "      <td>1</td>\n",
       "      <td>Exotic Liquids</td>\n",
       "      <td>London</td>\n",
       "      <td>3</td>\n",
       "      <td>Aniseed Syrup</td>\n",
       "    </tr>\n",
       "    <tr>\n",
       "      <th>3</th>\n",
       "      <td>2</td>\n",
       "      <td>New Orleans Cajun Delights</td>\n",
       "      <td>New Orleans</td>\n",
       "      <td>4</td>\n",
       "      <td>Chef Anton's Cajun Seasoning</td>\n",
       "    </tr>\n",
       "    <tr>\n",
       "      <th>4</th>\n",
       "      <td>2</td>\n",
       "      <td>New Orleans Cajun Delights</td>\n",
       "      <td>New Orleans</td>\n",
       "      <td>5</td>\n",
       "      <td>Chef Anton's Gumbo Mix</td>\n",
       "    </tr>\n",
       "  </tbody>\n",
       "</table>\n",
       "</div>"
      ]
     },
     "execution_count": 40,
     "metadata": {},
     "output_type": "execute_result"
    }
   ],
   "execution_count": 40
  },
  {
   "metadata": {
    "ExecuteTime": {
     "end_time": "2025-07-06T11:49:21.188707Z",
     "start_time": "2025-07-06T11:49:21.185418Z"
    }
   },
   "cell_type": "code",
   "source": "suppliers.set_index('SupplierID',inplace=True)",
   "id": "9d8027ae4e275768",
   "outputs": [],
   "execution_count": 41
  },
  {
   "metadata": {
    "ExecuteTime": {
     "end_time": "2025-07-06T11:50:11.813812Z",
     "start_time": "2025-07-06T11:50:11.806293Z"
    }
   },
   "cell_type": "code",
   "source": "suppliers.merge(products,how='inner',left_index=True, right_on='SupplierID').head()",
   "id": "a61bb90968878fa0",
   "outputs": [
    {
     "data": {
      "text/plain": [
       "                  CompanyName         City  ProductID  \\\n",
       "0              Exotic Liquids       London          1   \n",
       "1              Exotic Liquids       London          2   \n",
       "2              Exotic Liquids       London          3   \n",
       "3  New Orleans Cajun Delights  New Orleans          4   \n",
       "4  New Orleans Cajun Delights  New Orleans          5   \n",
       "\n",
       "                    ProductName  SupplierID  \n",
       "0                          Chai           1  \n",
       "1                         Chang           1  \n",
       "2                 Aniseed Syrup           1  \n",
       "3  Chef Anton's Cajun Seasoning           2  \n",
       "4        Chef Anton's Gumbo Mix           2  "
      ],
      "text/html": [
       "<div>\n",
       "<style scoped>\n",
       "    .dataframe tbody tr th:only-of-type {\n",
       "        vertical-align: middle;\n",
       "    }\n",
       "\n",
       "    .dataframe tbody tr th {\n",
       "        vertical-align: top;\n",
       "    }\n",
       "\n",
       "    .dataframe thead th {\n",
       "        text-align: right;\n",
       "    }\n",
       "</style>\n",
       "<table border=\"1\" class=\"dataframe\">\n",
       "  <thead>\n",
       "    <tr style=\"text-align: right;\">\n",
       "      <th></th>\n",
       "      <th>CompanyName</th>\n",
       "      <th>City</th>\n",
       "      <th>ProductID</th>\n",
       "      <th>ProductName</th>\n",
       "      <th>SupplierID</th>\n",
       "    </tr>\n",
       "  </thead>\n",
       "  <tbody>\n",
       "    <tr>\n",
       "      <th>0</th>\n",
       "      <td>Exotic Liquids</td>\n",
       "      <td>London</td>\n",
       "      <td>1</td>\n",
       "      <td>Chai</td>\n",
       "      <td>1</td>\n",
       "    </tr>\n",
       "    <tr>\n",
       "      <th>1</th>\n",
       "      <td>Exotic Liquids</td>\n",
       "      <td>London</td>\n",
       "      <td>2</td>\n",
       "      <td>Chang</td>\n",
       "      <td>1</td>\n",
       "    </tr>\n",
       "    <tr>\n",
       "      <th>2</th>\n",
       "      <td>Exotic Liquids</td>\n",
       "      <td>London</td>\n",
       "      <td>3</td>\n",
       "      <td>Aniseed Syrup</td>\n",
       "      <td>1</td>\n",
       "    </tr>\n",
       "    <tr>\n",
       "      <th>3</th>\n",
       "      <td>New Orleans Cajun Delights</td>\n",
       "      <td>New Orleans</td>\n",
       "      <td>4</td>\n",
       "      <td>Chef Anton's Cajun Seasoning</td>\n",
       "      <td>2</td>\n",
       "    </tr>\n",
       "    <tr>\n",
       "      <th>4</th>\n",
       "      <td>New Orleans Cajun Delights</td>\n",
       "      <td>New Orleans</td>\n",
       "      <td>5</td>\n",
       "      <td>Chef Anton's Gumbo Mix</td>\n",
       "      <td>2</td>\n",
       "    </tr>\n",
       "  </tbody>\n",
       "</table>\n",
       "</div>"
      ]
     },
     "execution_count": 44,
     "metadata": {},
     "output_type": "execute_result"
    }
   ],
   "execution_count": 44
  },
  {
   "metadata": {
    "ExecuteTime": {
     "end_time": "2025-07-06T11:50:22.080110Z",
     "start_time": "2025-07-06T11:50:22.076126Z"
    }
   },
   "cell_type": "code",
   "source": "products.set_index('ProductID',inplace=True)",
   "id": "2e4e9cdac5f0ee96",
   "outputs": [],
   "execution_count": 45
  },
  {
   "metadata": {
    "ExecuteTime": {
     "end_time": "2025-07-06T11:51:47.062711Z",
     "start_time": "2025-07-06T11:51:47.055194Z"
    }
   },
   "cell_type": "code",
   "source": "suppliers.merge(products,how='inner',left_index=True, right_index=True).head()",
   "id": "b6fcad32465ab5cb",
   "outputs": [
    {
     "data": {
      "text/plain": [
       "                          CompanyName         City  \\\n",
       "1                      Exotic Liquids       London   \n",
       "2          New Orleans Cajun Delights  New Orleans   \n",
       "3           Grandma Kelly's Homestead    Ann Arbor   \n",
       "4                       Tokyo Traders        Tokyo   \n",
       "5  Cooperativa de Quesos 'Las Cabras'       Oviedo   \n",
       "\n",
       "                    ProductName  SupplierID  \n",
       "1                          Chai           1  \n",
       "2                         Chang           1  \n",
       "3                 Aniseed Syrup           1  \n",
       "4  Chef Anton's Cajun Seasoning           2  \n",
       "5        Chef Anton's Gumbo Mix           2  "
      ],
      "text/html": [
       "<div>\n",
       "<style scoped>\n",
       "    .dataframe tbody tr th:only-of-type {\n",
       "        vertical-align: middle;\n",
       "    }\n",
       "\n",
       "    .dataframe tbody tr th {\n",
       "        vertical-align: top;\n",
       "    }\n",
       "\n",
       "    .dataframe thead th {\n",
       "        text-align: right;\n",
       "    }\n",
       "</style>\n",
       "<table border=\"1\" class=\"dataframe\">\n",
       "  <thead>\n",
       "    <tr style=\"text-align: right;\">\n",
       "      <th></th>\n",
       "      <th>CompanyName</th>\n",
       "      <th>City</th>\n",
       "      <th>ProductName</th>\n",
       "      <th>SupplierID</th>\n",
       "    </tr>\n",
       "  </thead>\n",
       "  <tbody>\n",
       "    <tr>\n",
       "      <th>1</th>\n",
       "      <td>Exotic Liquids</td>\n",
       "      <td>London</td>\n",
       "      <td>Chai</td>\n",
       "      <td>1</td>\n",
       "    </tr>\n",
       "    <tr>\n",
       "      <th>2</th>\n",
       "      <td>New Orleans Cajun Delights</td>\n",
       "      <td>New Orleans</td>\n",
       "      <td>Chang</td>\n",
       "      <td>1</td>\n",
       "    </tr>\n",
       "    <tr>\n",
       "      <th>3</th>\n",
       "      <td>Grandma Kelly's Homestead</td>\n",
       "      <td>Ann Arbor</td>\n",
       "      <td>Aniseed Syrup</td>\n",
       "      <td>1</td>\n",
       "    </tr>\n",
       "    <tr>\n",
       "      <th>4</th>\n",
       "      <td>Tokyo Traders</td>\n",
       "      <td>Tokyo</td>\n",
       "      <td>Chef Anton's Cajun Seasoning</td>\n",
       "      <td>2</td>\n",
       "    </tr>\n",
       "    <tr>\n",
       "      <th>5</th>\n",
       "      <td>Cooperativa de Quesos 'Las Cabras'</td>\n",
       "      <td>Oviedo</td>\n",
       "      <td>Chef Anton's Gumbo Mix</td>\n",
       "      <td>2</td>\n",
       "    </tr>\n",
       "  </tbody>\n",
       "</table>\n",
       "</div>"
      ]
     },
     "execution_count": 49,
     "metadata": {},
     "output_type": "execute_result"
    }
   ],
   "execution_count": 49
  },
  {
   "metadata": {
    "ExecuteTime": {
     "end_time": "2025-07-06T11:52:05.708410Z",
     "start_time": "2025-07-06T11:52:05.704581Z"
    }
   },
   "cell_type": "code",
   "source": "suppliers.reset_index(inplace=True)",
   "id": "c729eb5a68dfb854",
   "outputs": [],
   "execution_count": 50
  },
  {
   "metadata": {
    "ExecuteTime": {
     "end_time": "2025-07-06T11:52:43.017444Z",
     "start_time": "2025-07-06T11:52:43.009944Z"
    }
   },
   "cell_type": "code",
   "source": "suppliers.merge(products,how='inner',left_on='SupplierID',right_index=True).head()",
   "id": "b6ca4344154adc11",
   "outputs": [
    {
     "data": {
      "text/plain": [
       "   SupplierID  SupplierID_x                         CompanyName         City  \\\n",
       "0           1             1                      Exotic Liquids       London   \n",
       "1           2             2          New Orleans Cajun Delights  New Orleans   \n",
       "2           3             3           Grandma Kelly's Homestead    Ann Arbor   \n",
       "3           4             4                       Tokyo Traders        Tokyo   \n",
       "4           5             5  Cooperativa de Quesos 'Las Cabras'       Oviedo   \n",
       "\n",
       "                    ProductName  SupplierID_y  \n",
       "0                          Chai             1  \n",
       "1                         Chang             1  \n",
       "2                 Aniseed Syrup             1  \n",
       "3  Chef Anton's Cajun Seasoning             2  \n",
       "4        Chef Anton's Gumbo Mix             2  "
      ],
      "text/html": [
       "<div>\n",
       "<style scoped>\n",
       "    .dataframe tbody tr th:only-of-type {\n",
       "        vertical-align: middle;\n",
       "    }\n",
       "\n",
       "    .dataframe tbody tr th {\n",
       "        vertical-align: top;\n",
       "    }\n",
       "\n",
       "    .dataframe thead th {\n",
       "        text-align: right;\n",
       "    }\n",
       "</style>\n",
       "<table border=\"1\" class=\"dataframe\">\n",
       "  <thead>\n",
       "    <tr style=\"text-align: right;\">\n",
       "      <th></th>\n",
       "      <th>SupplierID</th>\n",
       "      <th>SupplierID_x</th>\n",
       "      <th>CompanyName</th>\n",
       "      <th>City</th>\n",
       "      <th>ProductName</th>\n",
       "      <th>SupplierID_y</th>\n",
       "    </tr>\n",
       "  </thead>\n",
       "  <tbody>\n",
       "    <tr>\n",
       "      <th>0</th>\n",
       "      <td>1</td>\n",
       "      <td>1</td>\n",
       "      <td>Exotic Liquids</td>\n",
       "      <td>London</td>\n",
       "      <td>Chai</td>\n",
       "      <td>1</td>\n",
       "    </tr>\n",
       "    <tr>\n",
       "      <th>1</th>\n",
       "      <td>2</td>\n",
       "      <td>2</td>\n",
       "      <td>New Orleans Cajun Delights</td>\n",
       "      <td>New Orleans</td>\n",
       "      <td>Chang</td>\n",
       "      <td>1</td>\n",
       "    </tr>\n",
       "    <tr>\n",
       "      <th>2</th>\n",
       "      <td>3</td>\n",
       "      <td>3</td>\n",
       "      <td>Grandma Kelly's Homestead</td>\n",
       "      <td>Ann Arbor</td>\n",
       "      <td>Aniseed Syrup</td>\n",
       "      <td>1</td>\n",
       "    </tr>\n",
       "    <tr>\n",
       "      <th>3</th>\n",
       "      <td>4</td>\n",
       "      <td>4</td>\n",
       "      <td>Tokyo Traders</td>\n",
       "      <td>Tokyo</td>\n",
       "      <td>Chef Anton's Cajun Seasoning</td>\n",
       "      <td>2</td>\n",
       "    </tr>\n",
       "    <tr>\n",
       "      <th>4</th>\n",
       "      <td>5</td>\n",
       "      <td>5</td>\n",
       "      <td>Cooperativa de Quesos 'Las Cabras'</td>\n",
       "      <td>Oviedo</td>\n",
       "      <td>Chef Anton's Gumbo Mix</td>\n",
       "      <td>2</td>\n",
       "    </tr>\n",
       "  </tbody>\n",
       "</table>\n",
       "</div>"
      ]
     },
     "execution_count": 51,
     "metadata": {},
     "output_type": "execute_result"
    }
   ],
   "execution_count": 51
  },
  {
   "metadata": {
    "ExecuteTime": {
     "end_time": "2025-07-06T12:16:49.990384Z",
     "start_time": "2025-07-06T12:16:49.986086Z"
    }
   },
   "cell_type": "code",
   "source": "products.reset_index(inplace=True)",
   "id": "57d498fca2808026",
   "outputs": [],
   "execution_count": 52
  },
  {
   "metadata": {
    "ExecuteTime": {
     "end_time": "2025-07-06T12:17:19.596290Z",
     "start_time": "2025-07-06T12:17:19.592875Z"
    }
   },
   "cell_type": "code",
   "source": "products.rename({'SupplierID':'supplier_id'},axis=1,inplace=True)",
   "id": "64532b6e46bc5874",
   "outputs": [],
   "execution_count": 53
  },
  {
   "metadata": {
    "ExecuteTime": {
     "end_time": "2025-07-06T12:17:27.311354Z",
     "start_time": "2025-07-06T12:17:27.304849Z"
    }
   },
   "cell_type": "code",
   "source": "products.head()",
   "id": "1a7ff1b1c8e3373d",
   "outputs": [
    {
     "data": {
      "text/plain": [
       "   ProductID                   ProductName  supplier_id\n",
       "0          1                          Chai            1\n",
       "1          2                         Chang            1\n",
       "2          3                 Aniseed Syrup            1\n",
       "3          4  Chef Anton's Cajun Seasoning            2\n",
       "4          5        Chef Anton's Gumbo Mix            2"
      ],
      "text/html": [
       "<div>\n",
       "<style scoped>\n",
       "    .dataframe tbody tr th:only-of-type {\n",
       "        vertical-align: middle;\n",
       "    }\n",
       "\n",
       "    .dataframe tbody tr th {\n",
       "        vertical-align: top;\n",
       "    }\n",
       "\n",
       "    .dataframe thead th {\n",
       "        text-align: right;\n",
       "    }\n",
       "</style>\n",
       "<table border=\"1\" class=\"dataframe\">\n",
       "  <thead>\n",
       "    <tr style=\"text-align: right;\">\n",
       "      <th></th>\n",
       "      <th>ProductID</th>\n",
       "      <th>ProductName</th>\n",
       "      <th>supplier_id</th>\n",
       "    </tr>\n",
       "  </thead>\n",
       "  <tbody>\n",
       "    <tr>\n",
       "      <th>0</th>\n",
       "      <td>1</td>\n",
       "      <td>Chai</td>\n",
       "      <td>1</td>\n",
       "    </tr>\n",
       "    <tr>\n",
       "      <th>1</th>\n",
       "      <td>2</td>\n",
       "      <td>Chang</td>\n",
       "      <td>1</td>\n",
       "    </tr>\n",
       "    <tr>\n",
       "      <th>2</th>\n",
       "      <td>3</td>\n",
       "      <td>Aniseed Syrup</td>\n",
       "      <td>1</td>\n",
       "    </tr>\n",
       "    <tr>\n",
       "      <th>3</th>\n",
       "      <td>4</td>\n",
       "      <td>Chef Anton's Cajun Seasoning</td>\n",
       "      <td>2</td>\n",
       "    </tr>\n",
       "    <tr>\n",
       "      <th>4</th>\n",
       "      <td>5</td>\n",
       "      <td>Chef Anton's Gumbo Mix</td>\n",
       "      <td>2</td>\n",
       "    </tr>\n",
       "  </tbody>\n",
       "</table>\n",
       "</div>"
      ]
     },
     "execution_count": 54,
     "metadata": {},
     "output_type": "execute_result"
    }
   ],
   "execution_count": 54
  },
  {
   "metadata": {
    "ExecuteTime": {
     "end_time": "2025-07-06T12:18:02.322162Z",
     "start_time": "2025-07-06T12:18:02.313379Z"
    }
   },
   "cell_type": "code",
   "source": "suppliers.merge(products,how='inner',left_on='SupplierID',right_on='supplier_id').head()",
   "id": "d4f9ddd1382522af",
   "outputs": [
    {
     "data": {
      "text/plain": [
       "   SupplierID                 CompanyName         City  ProductID  \\\n",
       "0           1              Exotic Liquids       London          1   \n",
       "1           1              Exotic Liquids       London          2   \n",
       "2           1              Exotic Liquids       London          3   \n",
       "3           2  New Orleans Cajun Delights  New Orleans          4   \n",
       "4           2  New Orleans Cajun Delights  New Orleans          5   \n",
       "\n",
       "                    ProductName  supplier_id  \n",
       "0                          Chai            1  \n",
       "1                         Chang            1  \n",
       "2                 Aniseed Syrup            1  \n",
       "3  Chef Anton's Cajun Seasoning            2  \n",
       "4        Chef Anton's Gumbo Mix            2  "
      ],
      "text/html": [
       "<div>\n",
       "<style scoped>\n",
       "    .dataframe tbody tr th:only-of-type {\n",
       "        vertical-align: middle;\n",
       "    }\n",
       "\n",
       "    .dataframe tbody tr th {\n",
       "        vertical-align: top;\n",
       "    }\n",
       "\n",
       "    .dataframe thead th {\n",
       "        text-align: right;\n",
       "    }\n",
       "</style>\n",
       "<table border=\"1\" class=\"dataframe\">\n",
       "  <thead>\n",
       "    <tr style=\"text-align: right;\">\n",
       "      <th></th>\n",
       "      <th>SupplierID</th>\n",
       "      <th>CompanyName</th>\n",
       "      <th>City</th>\n",
       "      <th>ProductID</th>\n",
       "      <th>ProductName</th>\n",
       "      <th>supplier_id</th>\n",
       "    </tr>\n",
       "  </thead>\n",
       "  <tbody>\n",
       "    <tr>\n",
       "      <th>0</th>\n",
       "      <td>1</td>\n",
       "      <td>Exotic Liquids</td>\n",
       "      <td>London</td>\n",
       "      <td>1</td>\n",
       "      <td>Chai</td>\n",
       "      <td>1</td>\n",
       "    </tr>\n",
       "    <tr>\n",
       "      <th>1</th>\n",
       "      <td>1</td>\n",
       "      <td>Exotic Liquids</td>\n",
       "      <td>London</td>\n",
       "      <td>2</td>\n",
       "      <td>Chang</td>\n",
       "      <td>1</td>\n",
       "    </tr>\n",
       "    <tr>\n",
       "      <th>2</th>\n",
       "      <td>1</td>\n",
       "      <td>Exotic Liquids</td>\n",
       "      <td>London</td>\n",
       "      <td>3</td>\n",
       "      <td>Aniseed Syrup</td>\n",
       "      <td>1</td>\n",
       "    </tr>\n",
       "    <tr>\n",
       "      <th>3</th>\n",
       "      <td>2</td>\n",
       "      <td>New Orleans Cajun Delights</td>\n",
       "      <td>New Orleans</td>\n",
       "      <td>4</td>\n",
       "      <td>Chef Anton's Cajun Seasoning</td>\n",
       "      <td>2</td>\n",
       "    </tr>\n",
       "    <tr>\n",
       "      <th>4</th>\n",
       "      <td>2</td>\n",
       "      <td>New Orleans Cajun Delights</td>\n",
       "      <td>New Orleans</td>\n",
       "      <td>5</td>\n",
       "      <td>Chef Anton's Gumbo Mix</td>\n",
       "      <td>2</td>\n",
       "    </tr>\n",
       "  </tbody>\n",
       "</table>\n",
       "</div>"
      ]
     },
     "execution_count": 55,
     "metadata": {},
     "output_type": "execute_result"
    }
   ],
   "execution_count": 55
  },
  {
   "metadata": {},
   "cell_type": "code",
   "outputs": [],
   "execution_count": null,
   "source": "",
   "id": "d30514de511acf56"
  }
 ],
 "metadata": {
  "kernelspec": {
   "display_name": "Python 3",
   "language": "python",
   "name": "python3"
  },
  "language_info": {
   "codemirror_mode": {
    "name": "ipython",
    "version": 2
   },
   "file_extension": ".py",
   "mimetype": "text/x-python",
   "name": "python",
   "nbconvert_exporter": "python",
   "pygments_lexer": "ipython2",
   "version": "2.7.6"
  }
 },
 "nbformat": 4,
 "nbformat_minor": 5
}
