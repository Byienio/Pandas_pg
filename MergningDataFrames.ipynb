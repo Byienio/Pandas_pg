{
 "cells": [
  {
   "metadata": {},
   "cell_type": "markdown",
   "source": "# Merging DataFrames",
   "id": "397ac96f9802344"
  },
  {
   "metadata": {
    "ExecuteTime": {
     "end_time": "2025-07-05T22:05:41.040970Z",
     "start_time": "2025-07-05T22:05:40.168331Z"
    }
   },
   "cell_type": "code",
   "source": [
    "import pandas as pd\n",
    "import numpy as np"
   ],
   "id": "c3df971c3ca26b0f",
   "outputs": [],
   "execution_count": 1
  },
  {
   "metadata": {
    "ExecuteTime": {
     "end_time": "2025-07-05T22:11:57.578054Z",
     "start_time": "2025-07-05T22:11:57.553999Z"
    }
   },
   "cell_type": "code",
   "source": "products = pd.read_csv('data/data/northwind-mongo-master/products.csv')",
   "id": "29d053db79d6f1eb",
   "outputs": [],
   "execution_count": 2
  },
  {
   "metadata": {
    "ExecuteTime": {
     "end_time": "2025-07-05T22:13:43.675052Z",
     "start_time": "2025-07-05T22:13:43.661503Z"
    }
   },
   "cell_type": "code",
   "source": "products.where(products['ProductName']=='Ravioli Angelo').dropna()",
   "id": "953d495886350863",
   "outputs": [
    {
     "data": {
      "text/plain": [
       "    ProductID     ProductName  SupplierID  CategoryID   QuantityPerUnit  \\\n",
       "56       57.0  Ravioli Angelo        26.0         5.0  24 - 250 g pkgs.   \n",
       "\n",
       "    UnitPrice  UnitsInStock  UnitsOnOrder  ReorderLevel  Discontinued  \n",
       "56       19.5          36.0           0.0          20.0           0.0  "
      ],
      "text/html": [
       "<div>\n",
       "<style scoped>\n",
       "    .dataframe tbody tr th:only-of-type {\n",
       "        vertical-align: middle;\n",
       "    }\n",
       "\n",
       "    .dataframe tbody tr th {\n",
       "        vertical-align: top;\n",
       "    }\n",
       "\n",
       "    .dataframe thead th {\n",
       "        text-align: right;\n",
       "    }\n",
       "</style>\n",
       "<table border=\"1\" class=\"dataframe\">\n",
       "  <thead>\n",
       "    <tr style=\"text-align: right;\">\n",
       "      <th></th>\n",
       "      <th>ProductID</th>\n",
       "      <th>ProductName</th>\n",
       "      <th>SupplierID</th>\n",
       "      <th>CategoryID</th>\n",
       "      <th>QuantityPerUnit</th>\n",
       "      <th>UnitPrice</th>\n",
       "      <th>UnitsInStock</th>\n",
       "      <th>UnitsOnOrder</th>\n",
       "      <th>ReorderLevel</th>\n",
       "      <th>Discontinued</th>\n",
       "    </tr>\n",
       "  </thead>\n",
       "  <tbody>\n",
       "    <tr>\n",
       "      <th>56</th>\n",
       "      <td>57.0</td>\n",
       "      <td>Ravioli Angelo</td>\n",
       "      <td>26.0</td>\n",
       "      <td>5.0</td>\n",
       "      <td>24 - 250 g pkgs.</td>\n",
       "      <td>19.5</td>\n",
       "      <td>36.0</td>\n",
       "      <td>0.0</td>\n",
       "      <td>20.0</td>\n",
       "      <td>0.0</td>\n",
       "    </tr>\n",
       "  </tbody>\n",
       "</table>\n",
       "</div>"
      ]
     },
     "execution_count": 10,
     "metadata": {},
     "output_type": "execute_result"
    }
   ],
   "execution_count": 10
  },
  {
   "metadata": {
    "ExecuteTime": {
     "end_time": "2025-07-05T22:14:02.207604Z",
     "start_time": "2025-07-05T22:14:02.202097Z"
    }
   },
   "cell_type": "code",
   "source": "categories = pd.read_csv('data/data/northwind-mongo-master/categories1.csv')",
   "id": "effd1a991082005d",
   "outputs": [],
   "execution_count": 11
  },
  {
   "metadata": {
    "ExecuteTime": {
     "end_time": "2025-07-05T22:14:34.911763Z",
     "start_time": "2025-07-05T22:14:34.904253Z"
    }
   },
   "cell_type": "code",
   "source": "categories.loc[categories['CategoryID']==5]",
   "id": "b792764cd5502c90",
   "outputs": [
    {
     "data": {
      "text/plain": [
       "   CategoryID    CategoryName Description\n",
       "4           5  Grains/Cereals      Breads"
      ],
      "text/html": [
       "<div>\n",
       "<style scoped>\n",
       "    .dataframe tbody tr th:only-of-type {\n",
       "        vertical-align: middle;\n",
       "    }\n",
       "\n",
       "    .dataframe tbody tr th {\n",
       "        vertical-align: top;\n",
       "    }\n",
       "\n",
       "    .dataframe thead th {\n",
       "        text-align: right;\n",
       "    }\n",
       "</style>\n",
       "<table border=\"1\" class=\"dataframe\">\n",
       "  <thead>\n",
       "    <tr style=\"text-align: right;\">\n",
       "      <th></th>\n",
       "      <th>CategoryID</th>\n",
       "      <th>CategoryName</th>\n",
       "      <th>Description</th>\n",
       "    </tr>\n",
       "  </thead>\n",
       "  <tbody>\n",
       "    <tr>\n",
       "      <th>4</th>\n",
       "      <td>5</td>\n",
       "      <td>Grains/Cereals</td>\n",
       "      <td>Breads</td>\n",
       "    </tr>\n",
       "  </tbody>\n",
       "</table>\n",
       "</div>"
      ]
     },
     "execution_count": 13,
     "metadata": {},
     "output_type": "execute_result"
    }
   ],
   "execution_count": 13
  },
  {
   "metadata": {
    "ExecuteTime": {
     "end_time": "2025-07-05T22:15:11.625842Z",
     "start_time": "2025-07-05T22:15:11.612330Z"
    }
   },
   "cell_type": "code",
   "source": [
    "suppliers = pd.read_csv('data/data/northwind-mongo-master/suppliers.csv')\n",
    "suppliers.loc[suppliers['SupplierID']==26]"
   ],
   "id": "773c95e997b16647",
   "outputs": [
    {
     "data": {
      "text/plain": [
       "    SupplierID           CompanyName       ContactName         ContactTitle  \\\n",
       "25          26  Pasta Buttini s.r.l.  Giovanni Giudici  Order Administrator   \n",
       "\n",
       "                  Address     City Region PostalCode Country          Phone  \\\n",
       "25  Via dei Gelsomini 153  Salerno    NaN      84100   Italy  (089) 6547665   \n",
       "\n",
       "              Fax HomePage  \n",
       "25  (089) 6547667      NaN  "
      ],
      "text/html": [
       "<div>\n",
       "<style scoped>\n",
       "    .dataframe tbody tr th:only-of-type {\n",
       "        vertical-align: middle;\n",
       "    }\n",
       "\n",
       "    .dataframe tbody tr th {\n",
       "        vertical-align: top;\n",
       "    }\n",
       "\n",
       "    .dataframe thead th {\n",
       "        text-align: right;\n",
       "    }\n",
       "</style>\n",
       "<table border=\"1\" class=\"dataframe\">\n",
       "  <thead>\n",
       "    <tr style=\"text-align: right;\">\n",
       "      <th></th>\n",
       "      <th>SupplierID</th>\n",
       "      <th>CompanyName</th>\n",
       "      <th>ContactName</th>\n",
       "      <th>ContactTitle</th>\n",
       "      <th>Address</th>\n",
       "      <th>City</th>\n",
       "      <th>Region</th>\n",
       "      <th>PostalCode</th>\n",
       "      <th>Country</th>\n",
       "      <th>Phone</th>\n",
       "      <th>Fax</th>\n",
       "      <th>HomePage</th>\n",
       "    </tr>\n",
       "  </thead>\n",
       "  <tbody>\n",
       "    <tr>\n",
       "      <th>25</th>\n",
       "      <td>26</td>\n",
       "      <td>Pasta Buttini s.r.l.</td>\n",
       "      <td>Giovanni Giudici</td>\n",
       "      <td>Order Administrator</td>\n",
       "      <td>Via dei Gelsomini 153</td>\n",
       "      <td>Salerno</td>\n",
       "      <td>NaN</td>\n",
       "      <td>84100</td>\n",
       "      <td>Italy</td>\n",
       "      <td>(089) 6547665</td>\n",
       "      <td>(089) 6547667</td>\n",
       "      <td>NaN</td>\n",
       "    </tr>\n",
       "  </tbody>\n",
       "</table>\n",
       "</div>"
      ]
     },
     "execution_count": 14,
     "metadata": {},
     "output_type": "execute_result"
    }
   ],
   "execution_count": 14
  },
  {
   "metadata": {},
   "cell_type": "markdown",
   "source": "# Concat DataFrames",
   "id": "548128d923cca0a8"
  },
  {
   "metadata": {
    "ExecuteTime": {
     "end_time": "2025-07-05T22:23:51.607966Z",
     "start_time": "2025-07-05T22:23:51.589661Z"
    }
   },
   "cell_type": "code",
   "source": [
    "mrbean = pd.read_csv('data/data/mrbean_facebook_statuses_join.csv',usecols=['status_message_mrbean','status_type','num_likes'])\n",
    "mrbean.head()"
   ],
   "id": "cb804a1295686c98",
   "outputs": [
    {
     "data": {
      "text/plain": [
       "                               status_message_mrbean status_type  num_likes\n",
       "0  It's time for Mr Bean and Teddy to get ready f...       video      16079\n",
       "1                                                NaN       photo     114008\n",
       "2                                                NaN       photo     218579\n",
       "3  Mr Bean is ready to do some shopping but bewar...       video      20338\n",
       "4                                                NaN       photo     215591"
      ],
      "text/html": [
       "<div>\n",
       "<style scoped>\n",
       "    .dataframe tbody tr th:only-of-type {\n",
       "        vertical-align: middle;\n",
       "    }\n",
       "\n",
       "    .dataframe tbody tr th {\n",
       "        vertical-align: top;\n",
       "    }\n",
       "\n",
       "    .dataframe thead th {\n",
       "        text-align: right;\n",
       "    }\n",
       "</style>\n",
       "<table border=\"1\" class=\"dataframe\">\n",
       "  <thead>\n",
       "    <tr style=\"text-align: right;\">\n",
       "      <th></th>\n",
       "      <th>status_message_mrbean</th>\n",
       "      <th>status_type</th>\n",
       "      <th>num_likes</th>\n",
       "    </tr>\n",
       "  </thead>\n",
       "  <tbody>\n",
       "    <tr>\n",
       "      <th>0</th>\n",
       "      <td>It's time for Mr Bean and Teddy to get ready f...</td>\n",
       "      <td>video</td>\n",
       "      <td>16079</td>\n",
       "    </tr>\n",
       "    <tr>\n",
       "      <th>1</th>\n",
       "      <td>NaN</td>\n",
       "      <td>photo</td>\n",
       "      <td>114008</td>\n",
       "    </tr>\n",
       "    <tr>\n",
       "      <th>2</th>\n",
       "      <td>NaN</td>\n",
       "      <td>photo</td>\n",
       "      <td>218579</td>\n",
       "    </tr>\n",
       "    <tr>\n",
       "      <th>3</th>\n",
       "      <td>Mr Bean is ready to do some shopping but bewar...</td>\n",
       "      <td>video</td>\n",
       "      <td>20338</td>\n",
       "    </tr>\n",
       "    <tr>\n",
       "      <th>4</th>\n",
       "      <td>NaN</td>\n",
       "      <td>photo</td>\n",
       "      <td>215591</td>\n",
       "    </tr>\n",
       "  </tbody>\n",
       "</table>\n",
       "</div>"
      ]
     },
     "execution_count": 15,
     "metadata": {},
     "output_type": "execute_result"
    }
   ],
   "execution_count": 15
  },
  {
   "metadata": {
    "ExecuteTime": {
     "end_time": "2025-07-05T22:24:38.368688Z",
     "start_time": "2025-07-05T22:24:38.353943Z"
    }
   },
   "cell_type": "code",
   "source": [
    "nasa = pd.read_csv('data/data/nasa_facebook_statuses_join.csv',usecols=['status_message_nasa','status_type','num_likes'])\n",
    "nasa.head()"
   ],
   "id": "221fe326c5caf097",
   "outputs": [
    {
     "data": {
      "text/plain": [
       "                                 status_message_nasa status_type  num_likes\n",
       "0  This morning, the #RockOn mission with student...       photo       5142\n",
       "1  Pluto's largest moon, Charon, is home to an un...       photo      19074\n",
       "2  Our Restore-L mission is an endeavor to launch...       photo       7551\n",
       "3  A new dark vortex was discovered in the atmosp...       photo      24359\n",
       "4                                                NaN       video       2731"
      ],
      "text/html": [
       "<div>\n",
       "<style scoped>\n",
       "    .dataframe tbody tr th:only-of-type {\n",
       "        vertical-align: middle;\n",
       "    }\n",
       "\n",
       "    .dataframe tbody tr th {\n",
       "        vertical-align: top;\n",
       "    }\n",
       "\n",
       "    .dataframe thead th {\n",
       "        text-align: right;\n",
       "    }\n",
       "</style>\n",
       "<table border=\"1\" class=\"dataframe\">\n",
       "  <thead>\n",
       "    <tr style=\"text-align: right;\">\n",
       "      <th></th>\n",
       "      <th>status_message_nasa</th>\n",
       "      <th>status_type</th>\n",
       "      <th>num_likes</th>\n",
       "    </tr>\n",
       "  </thead>\n",
       "  <tbody>\n",
       "    <tr>\n",
       "      <th>0</th>\n",
       "      <td>This morning, the #RockOn mission with student...</td>\n",
       "      <td>photo</td>\n",
       "      <td>5142</td>\n",
       "    </tr>\n",
       "    <tr>\n",
       "      <th>1</th>\n",
       "      <td>Pluto's largest moon, Charon, is home to an un...</td>\n",
       "      <td>photo</td>\n",
       "      <td>19074</td>\n",
       "    </tr>\n",
       "    <tr>\n",
       "      <th>2</th>\n",
       "      <td>Our Restore-L mission is an endeavor to launch...</td>\n",
       "      <td>photo</td>\n",
       "      <td>7551</td>\n",
       "    </tr>\n",
       "    <tr>\n",
       "      <th>3</th>\n",
       "      <td>A new dark vortex was discovered in the atmosp...</td>\n",
       "      <td>photo</td>\n",
       "      <td>24359</td>\n",
       "    </tr>\n",
       "    <tr>\n",
       "      <th>4</th>\n",
       "      <td>NaN</td>\n",
       "      <td>video</td>\n",
       "      <td>2731</td>\n",
       "    </tr>\n",
       "  </tbody>\n",
       "</table>\n",
       "</div>"
      ]
     },
     "execution_count": 16,
     "metadata": {},
     "output_type": "execute_result"
    }
   ],
   "execution_count": 16
  },
  {
   "metadata": {
    "ExecuteTime": {
     "end_time": "2025-07-05T22:26:40.532141Z",
     "start_time": "2025-07-05T22:26:40.527983Z"
    }
   },
   "cell_type": "code",
   "source": "fb = pd.concat(objs=[mrbean,nasa],sort=True)",
   "id": "f1293ef11607b079",
   "outputs": [],
   "execution_count": 23
  },
  {
   "metadata": {
    "ExecuteTime": {
     "end_time": "2025-07-05T22:26:41.844905Z",
     "start_time": "2025-07-05T22:26:41.838440Z"
    }
   },
   "cell_type": "code",
   "source": "fb.head()",
   "id": "50c63ab8fd8815b1",
   "outputs": [
    {
     "data": {
      "text/plain": [
       "   num_likes                              status_message_mrbean  \\\n",
       "0      16079  It's time for Mr Bean and Teddy to get ready f...   \n",
       "1     114008                                                NaN   \n",
       "2     218579                                                NaN   \n",
       "3      20338  Mr Bean is ready to do some shopping but bewar...   \n",
       "4     215591                                                NaN   \n",
       "\n",
       "  status_message_nasa status_type  \n",
       "0                 NaN       video  \n",
       "1                 NaN       photo  \n",
       "2                 NaN       photo  \n",
       "3                 NaN       video  \n",
       "4                 NaN       photo  "
      ],
      "text/html": [
       "<div>\n",
       "<style scoped>\n",
       "    .dataframe tbody tr th:only-of-type {\n",
       "        vertical-align: middle;\n",
       "    }\n",
       "\n",
       "    .dataframe tbody tr th {\n",
       "        vertical-align: top;\n",
       "    }\n",
       "\n",
       "    .dataframe thead th {\n",
       "        text-align: right;\n",
       "    }\n",
       "</style>\n",
       "<table border=\"1\" class=\"dataframe\">\n",
       "  <thead>\n",
       "    <tr style=\"text-align: right;\">\n",
       "      <th></th>\n",
       "      <th>num_likes</th>\n",
       "      <th>status_message_mrbean</th>\n",
       "      <th>status_message_nasa</th>\n",
       "      <th>status_type</th>\n",
       "    </tr>\n",
       "  </thead>\n",
       "  <tbody>\n",
       "    <tr>\n",
       "      <th>0</th>\n",
       "      <td>16079</td>\n",
       "      <td>It's time for Mr Bean and Teddy to get ready f...</td>\n",
       "      <td>NaN</td>\n",
       "      <td>video</td>\n",
       "    </tr>\n",
       "    <tr>\n",
       "      <th>1</th>\n",
       "      <td>114008</td>\n",
       "      <td>NaN</td>\n",
       "      <td>NaN</td>\n",
       "      <td>photo</td>\n",
       "    </tr>\n",
       "    <tr>\n",
       "      <th>2</th>\n",
       "      <td>218579</td>\n",
       "      <td>NaN</td>\n",
       "      <td>NaN</td>\n",
       "      <td>photo</td>\n",
       "    </tr>\n",
       "    <tr>\n",
       "      <th>3</th>\n",
       "      <td>20338</td>\n",
       "      <td>Mr Bean is ready to do some shopping but bewar...</td>\n",
       "      <td>NaN</td>\n",
       "      <td>video</td>\n",
       "    </tr>\n",
       "    <tr>\n",
       "      <th>4</th>\n",
       "      <td>215591</td>\n",
       "      <td>NaN</td>\n",
       "      <td>NaN</td>\n",
       "      <td>photo</td>\n",
       "    </tr>\n",
       "  </tbody>\n",
       "</table>\n",
       "</div>"
      ]
     },
     "execution_count": 24,
     "metadata": {},
     "output_type": "execute_result"
    }
   ],
   "execution_count": 24
  },
  {
   "metadata": {
    "ExecuteTime": {
     "end_time": "2025-07-05T22:26:42.111763Z",
     "start_time": "2025-07-05T22:26:42.104630Z"
    }
   },
   "cell_type": "code",
   "source": "fb.tail()",
   "id": "44e9fb7e12582b5a",
   "outputs": [
    {
     "data": {
      "text/plain": [
       "     num_likes status_message_mrbean  \\\n",
       "758      39355                   NaN   \n",
       "759      11835                   NaN   \n",
       "760      15567                   NaN   \n",
       "761      41584                   NaN   \n",
       "762      12793                   NaN   \n",
       "\n",
       "                                   status_message_nasa status_type  \n",
       "758  You've never seen Pluto like this before! New ...       photo  \n",
       "759  Our cooperative field study in East Asia advan...       photo  \n",
       "760  After spending a #YearInSpace, astronaut Scott...       photo  \n",
       "761  Gravitational waves, predicted by Einstein and...       photo  \n",
       "762  Have you ever used a GPS to help you get somew...       photo  "
      ],
      "text/html": [
       "<div>\n",
       "<style scoped>\n",
       "    .dataframe tbody tr th:only-of-type {\n",
       "        vertical-align: middle;\n",
       "    }\n",
       "\n",
       "    .dataframe tbody tr th {\n",
       "        vertical-align: top;\n",
       "    }\n",
       "\n",
       "    .dataframe thead th {\n",
       "        text-align: right;\n",
       "    }\n",
       "</style>\n",
       "<table border=\"1\" class=\"dataframe\">\n",
       "  <thead>\n",
       "    <tr style=\"text-align: right;\">\n",
       "      <th></th>\n",
       "      <th>num_likes</th>\n",
       "      <th>status_message_mrbean</th>\n",
       "      <th>status_message_nasa</th>\n",
       "      <th>status_type</th>\n",
       "    </tr>\n",
       "  </thead>\n",
       "  <tbody>\n",
       "    <tr>\n",
       "      <th>758</th>\n",
       "      <td>39355</td>\n",
       "      <td>NaN</td>\n",
       "      <td>You've never seen Pluto like this before! New ...</td>\n",
       "      <td>photo</td>\n",
       "    </tr>\n",
       "    <tr>\n",
       "      <th>759</th>\n",
       "      <td>11835</td>\n",
       "      <td>NaN</td>\n",
       "      <td>Our cooperative field study in East Asia advan...</td>\n",
       "      <td>photo</td>\n",
       "    </tr>\n",
       "    <tr>\n",
       "      <th>760</th>\n",
       "      <td>15567</td>\n",
       "      <td>NaN</td>\n",
       "      <td>After spending a #YearInSpace, astronaut Scott...</td>\n",
       "      <td>photo</td>\n",
       "    </tr>\n",
       "    <tr>\n",
       "      <th>761</th>\n",
       "      <td>41584</td>\n",
       "      <td>NaN</td>\n",
       "      <td>Gravitational waves, predicted by Einstein and...</td>\n",
       "      <td>photo</td>\n",
       "    </tr>\n",
       "    <tr>\n",
       "      <th>762</th>\n",
       "      <td>12793</td>\n",
       "      <td>NaN</td>\n",
       "      <td>Have you ever used a GPS to help you get somew...</td>\n",
       "      <td>photo</td>\n",
       "    </tr>\n",
       "  </tbody>\n",
       "</table>\n",
       "</div>"
      ]
     },
     "execution_count": 25,
     "metadata": {},
     "output_type": "execute_result"
    }
   ],
   "execution_count": 25
  },
  {
   "metadata": {
    "ExecuteTime": {
     "end_time": "2025-07-05T22:26:42.536625Z",
     "start_time": "2025-07-05T22:26:42.528406Z"
    }
   },
   "cell_type": "code",
   "source": [
    "fb = pd.concat(objs=[mrbean,nasa],sort=True,ignore_index=True)\n",
    "fb.head()"
   ],
   "id": "15ec268d84d35663",
   "outputs": [
    {
     "data": {
      "text/plain": [
       "   num_likes                              status_message_mrbean  \\\n",
       "0      16079  It's time for Mr Bean and Teddy to get ready f...   \n",
       "1     114008                                                NaN   \n",
       "2     218579                                                NaN   \n",
       "3      20338  Mr Bean is ready to do some shopping but bewar...   \n",
       "4     215591                                                NaN   \n",
       "\n",
       "  status_message_nasa status_type  \n",
       "0                 NaN       video  \n",
       "1                 NaN       photo  \n",
       "2                 NaN       photo  \n",
       "3                 NaN       video  \n",
       "4                 NaN       photo  "
      ],
      "text/html": [
       "<div>\n",
       "<style scoped>\n",
       "    .dataframe tbody tr th:only-of-type {\n",
       "        vertical-align: middle;\n",
       "    }\n",
       "\n",
       "    .dataframe tbody tr th {\n",
       "        vertical-align: top;\n",
       "    }\n",
       "\n",
       "    .dataframe thead th {\n",
       "        text-align: right;\n",
       "    }\n",
       "</style>\n",
       "<table border=\"1\" class=\"dataframe\">\n",
       "  <thead>\n",
       "    <tr style=\"text-align: right;\">\n",
       "      <th></th>\n",
       "      <th>num_likes</th>\n",
       "      <th>status_message_mrbean</th>\n",
       "      <th>status_message_nasa</th>\n",
       "      <th>status_type</th>\n",
       "    </tr>\n",
       "  </thead>\n",
       "  <tbody>\n",
       "    <tr>\n",
       "      <th>0</th>\n",
       "      <td>16079</td>\n",
       "      <td>It's time for Mr Bean and Teddy to get ready f...</td>\n",
       "      <td>NaN</td>\n",
       "      <td>video</td>\n",
       "    </tr>\n",
       "    <tr>\n",
       "      <th>1</th>\n",
       "      <td>114008</td>\n",
       "      <td>NaN</td>\n",
       "      <td>NaN</td>\n",
       "      <td>photo</td>\n",
       "    </tr>\n",
       "    <tr>\n",
       "      <th>2</th>\n",
       "      <td>218579</td>\n",
       "      <td>NaN</td>\n",
       "      <td>NaN</td>\n",
       "      <td>photo</td>\n",
       "    </tr>\n",
       "    <tr>\n",
       "      <th>3</th>\n",
       "      <td>20338</td>\n",
       "      <td>Mr Bean is ready to do some shopping but bewar...</td>\n",
       "      <td>NaN</td>\n",
       "      <td>video</td>\n",
       "    </tr>\n",
       "    <tr>\n",
       "      <th>4</th>\n",
       "      <td>215591</td>\n",
       "      <td>NaN</td>\n",
       "      <td>NaN</td>\n",
       "      <td>photo</td>\n",
       "    </tr>\n",
       "  </tbody>\n",
       "</table>\n",
       "</div>"
      ]
     },
     "execution_count": 26,
     "metadata": {},
     "output_type": "execute_result"
    }
   ],
   "execution_count": 26
  },
  {
   "metadata": {
    "ExecuteTime": {
     "end_time": "2025-07-05T22:26:43.025883Z",
     "start_time": "2025-07-05T22:26:43.020353Z"
    }
   },
   "cell_type": "code",
   "source": "fb.loc[0]",
   "id": "4752f449727823d6",
   "outputs": [
    {
     "data": {
      "text/plain": [
       "num_likes                                                            16079\n",
       "status_message_mrbean    It's time for Mr Bean and Teddy to get ready f...\n",
       "status_message_nasa                                                    NaN\n",
       "status_type                                                          video\n",
       "Name: 0, dtype: object"
      ]
     },
     "execution_count": 27,
     "metadata": {},
     "output_type": "execute_result"
    }
   ],
   "execution_count": 27
  },
  {
   "metadata": {
    "ExecuteTime": {
     "end_time": "2025-07-05T22:27:42.943239Z",
     "start_time": "2025-07-05T22:27:42.939216Z"
    }
   },
   "cell_type": "code",
   "source": [
    "mrbean.rename({'status_message_mrbean':'status_message'},axis=1,inplace=True)\n",
    "nasa.rename({'status_message_nasa':'status_message'},axis=1,inplace=True)"
   ],
   "id": "73f813f7f4c8867",
   "outputs": [],
   "execution_count": 31
  },
  {
   "metadata": {
    "ExecuteTime": {
     "end_time": "2025-07-05T22:27:43.398048Z",
     "start_time": "2025-07-05T22:27:43.394004Z"
    }
   },
   "cell_type": "code",
   "source": "fb = pd.concat(objs=[mrbean,nasa],sort=True,ignore_index=True)",
   "id": "db069c78e0e29dd4",
   "outputs": [],
   "execution_count": 32
  },
  {
   "metadata": {
    "ExecuteTime": {
     "end_time": "2025-07-05T22:27:43.779076Z",
     "start_time": "2025-07-05T22:27:43.772070Z"
    }
   },
   "cell_type": "code",
   "source": "fb.head()",
   "id": "5763a5eb7927b4c1",
   "outputs": [
    {
     "data": {
      "text/plain": [
       "   num_likes                                     status_message status_type\n",
       "0      16079  It's time for Mr Bean and Teddy to get ready f...       video\n",
       "1     114008                                                NaN       photo\n",
       "2     218579                                                NaN       photo\n",
       "3      20338  Mr Bean is ready to do some shopping but bewar...       video\n",
       "4     215591                                                NaN       photo"
      ],
      "text/html": [
       "<div>\n",
       "<style scoped>\n",
       "    .dataframe tbody tr th:only-of-type {\n",
       "        vertical-align: middle;\n",
       "    }\n",
       "\n",
       "    .dataframe tbody tr th {\n",
       "        vertical-align: top;\n",
       "    }\n",
       "\n",
       "    .dataframe thead th {\n",
       "        text-align: right;\n",
       "    }\n",
       "</style>\n",
       "<table border=\"1\" class=\"dataframe\">\n",
       "  <thead>\n",
       "    <tr style=\"text-align: right;\">\n",
       "      <th></th>\n",
       "      <th>num_likes</th>\n",
       "      <th>status_message</th>\n",
       "      <th>status_type</th>\n",
       "    </tr>\n",
       "  </thead>\n",
       "  <tbody>\n",
       "    <tr>\n",
       "      <th>0</th>\n",
       "      <td>16079</td>\n",
       "      <td>It's time for Mr Bean and Teddy to get ready f...</td>\n",
       "      <td>video</td>\n",
       "    </tr>\n",
       "    <tr>\n",
       "      <th>1</th>\n",
       "      <td>114008</td>\n",
       "      <td>NaN</td>\n",
       "      <td>photo</td>\n",
       "    </tr>\n",
       "    <tr>\n",
       "      <th>2</th>\n",
       "      <td>218579</td>\n",
       "      <td>NaN</td>\n",
       "      <td>photo</td>\n",
       "    </tr>\n",
       "    <tr>\n",
       "      <th>3</th>\n",
       "      <td>20338</td>\n",
       "      <td>Mr Bean is ready to do some shopping but bewar...</td>\n",
       "      <td>video</td>\n",
       "    </tr>\n",
       "    <tr>\n",
       "      <th>4</th>\n",
       "      <td>215591</td>\n",
       "      <td>NaN</td>\n",
       "      <td>photo</td>\n",
       "    </tr>\n",
       "  </tbody>\n",
       "</table>\n",
       "</div>"
      ]
     },
     "execution_count": 33,
     "metadata": {},
     "output_type": "execute_result"
    }
   ],
   "execution_count": 33
  },
  {
   "metadata": {},
   "cell_type": "markdown",
   "source": "# Join method",
   "id": "38b9f160215c970e"
  },
  {
   "metadata": {
    "ExecuteTime": {
     "end_time": "2025-07-05T22:38:09.500276Z",
     "start_time": "2025-07-05T22:38:09.482248Z"
    }
   },
   "cell_type": "code",
   "source": [
    "customer_names = pd.read_csv('data/data/northwind-mongo-master/customers.csv',usecols=['CustomerID','CompanyName'])\n",
    "customer_cities = pd.read_csv('data/data/northwind-mongo-master/customers.csv',usecols=['CustomerID','City','Country'])"
   ],
   "id": "a40a26e90a1fa846",
   "outputs": [],
   "execution_count": 34
  },
  {
   "metadata": {
    "ExecuteTime": {
     "end_time": "2025-07-05T22:38:17.928593Z",
     "start_time": "2025-07-05T22:38:17.923675Z"
    }
   },
   "cell_type": "code",
   "source": "len(customer_cities)",
   "id": "1f2d535bc39bc762",
   "outputs": [
    {
     "data": {
      "text/plain": [
       "91"
      ]
     },
     "execution_count": 35,
     "metadata": {},
     "output_type": "execute_result"
    }
   ],
   "execution_count": 35
  },
  {
   "metadata": {
    "ExecuteTime": {
     "end_time": "2025-07-05T22:38:20.592170Z",
     "start_time": "2025-07-05T22:38:20.586730Z"
    }
   },
   "cell_type": "code",
   "source": "len(customer_names)",
   "id": "8177ac5638998ede",
   "outputs": [
    {
     "data": {
      "text/plain": [
       "91"
      ]
     },
     "execution_count": 36,
     "metadata": {},
     "output_type": "execute_result"
    }
   ],
   "execution_count": 36
  },
  {
   "metadata": {
    "ExecuteTime": {
     "end_time": "2025-07-05T22:38:33.377656Z",
     "start_time": "2025-07-05T22:38:33.374374Z"
    }
   },
   "cell_type": "code",
   "source": "customer_cities.set_index('CustomerID',inplace=True)",
   "id": "91b07d8b47b588c",
   "outputs": [],
   "execution_count": 37
  },
  {
   "metadata": {
    "ExecuteTime": {
     "end_time": "2025-07-05T22:38:41.540731Z",
     "start_time": "2025-07-05T22:38:41.536644Z"
    }
   },
   "cell_type": "code",
   "source": "customer_names.set_index('CustomerID',inplace=True)",
   "id": "9cf63f94d9ba85d6",
   "outputs": [],
   "execution_count": 38
  },
  {
   "metadata": {
    "ExecuteTime": {
     "end_time": "2025-07-05T22:39:13.343025Z",
     "start_time": "2025-07-05T22:39:13.333515Z"
    }
   },
   "cell_type": "code",
   "source": "customer_names.join(customer_cities).head()",
   "id": "9109e29fd65ec289",
   "outputs": [
    {
     "data": {
      "text/plain": [
       "                                   CompanyName          City  Country\n",
       "CustomerID                                                           \n",
       "ALFKI                      Alfreds Futterkiste        Berlin  Germany\n",
       "ANATR       Ana Trujillo Emparedados y helados  M?©xico D.F.   Mexico\n",
       "ANTON                 Antonio Moreno Taquer?­a  M?©xico D.F.   Mexico\n",
       "AROUT                          Around the Horn        London       UK\n",
       "BERGS                      Berglunds snabbk?¶p        Lule??   Sweden"
      ],
      "text/html": [
       "<div>\n",
       "<style scoped>\n",
       "    .dataframe tbody tr th:only-of-type {\n",
       "        vertical-align: middle;\n",
       "    }\n",
       "\n",
       "    .dataframe tbody tr th {\n",
       "        vertical-align: top;\n",
       "    }\n",
       "\n",
       "    .dataframe thead th {\n",
       "        text-align: right;\n",
       "    }\n",
       "</style>\n",
       "<table border=\"1\" class=\"dataframe\">\n",
       "  <thead>\n",
       "    <tr style=\"text-align: right;\">\n",
       "      <th></th>\n",
       "      <th>CompanyName</th>\n",
       "      <th>City</th>\n",
       "      <th>Country</th>\n",
       "    </tr>\n",
       "    <tr>\n",
       "      <th>CustomerID</th>\n",
       "      <th></th>\n",
       "      <th></th>\n",
       "      <th></th>\n",
       "    </tr>\n",
       "  </thead>\n",
       "  <tbody>\n",
       "    <tr>\n",
       "      <th>ALFKI</th>\n",
       "      <td>Alfreds Futterkiste</td>\n",
       "      <td>Berlin</td>\n",
       "      <td>Germany</td>\n",
       "    </tr>\n",
       "    <tr>\n",
       "      <th>ANATR</th>\n",
       "      <td>Ana Trujillo Emparedados y helados</td>\n",
       "      <td>M?©xico D.F.</td>\n",
       "      <td>Mexico</td>\n",
       "    </tr>\n",
       "    <tr>\n",
       "      <th>ANTON</th>\n",
       "      <td>Antonio Moreno Taquer?­a</td>\n",
       "      <td>M?©xico D.F.</td>\n",
       "      <td>Mexico</td>\n",
       "    </tr>\n",
       "    <tr>\n",
       "      <th>AROUT</th>\n",
       "      <td>Around the Horn</td>\n",
       "      <td>London</td>\n",
       "      <td>UK</td>\n",
       "    </tr>\n",
       "    <tr>\n",
       "      <th>BERGS</th>\n",
       "      <td>Berglunds snabbk?¶p</td>\n",
       "      <td>Lule??</td>\n",
       "      <td>Sweden</td>\n",
       "    </tr>\n",
       "  </tbody>\n",
       "</table>\n",
       "</div>"
      ]
     },
     "execution_count": 39,
     "metadata": {},
     "output_type": "execute_result"
    }
   ],
   "execution_count": 39
  },
  {
   "metadata": {
    "ExecuteTime": {
     "end_time": "2025-07-05T22:40:36.223069Z",
     "start_time": "2025-07-05T22:40:36.218664Z"
    }
   },
   "cell_type": "code",
   "source": "customer_city_names = customer_names.join(customer_cities,on='CustomerID')",
   "id": "f25947f703587053",
   "outputs": [],
   "execution_count": 46
  },
  {
   "metadata": {
    "ExecuteTime": {
     "end_time": "2025-07-05T22:40:36.756353Z",
     "start_time": "2025-07-05T22:40:36.749253Z"
    }
   },
   "cell_type": "code",
   "source": "customer_city_names.head()",
   "id": "6c9c50148dd53a5a",
   "outputs": [
    {
     "data": {
      "text/plain": [
       "                                   CompanyName          City  Country\n",
       "CustomerID                                                           \n",
       "ALFKI                      Alfreds Futterkiste        Berlin  Germany\n",
       "ANATR       Ana Trujillo Emparedados y helados  M?©xico D.F.   Mexico\n",
       "ANTON                 Antonio Moreno Taquer?­a  M?©xico D.F.   Mexico\n",
       "AROUT                          Around the Horn        London       UK\n",
       "BERGS                      Berglunds snabbk?¶p        Lule??   Sweden"
      ],
      "text/html": [
       "<div>\n",
       "<style scoped>\n",
       "    .dataframe tbody tr th:only-of-type {\n",
       "        vertical-align: middle;\n",
       "    }\n",
       "\n",
       "    .dataframe tbody tr th {\n",
       "        vertical-align: top;\n",
       "    }\n",
       "\n",
       "    .dataframe thead th {\n",
       "        text-align: right;\n",
       "    }\n",
       "</style>\n",
       "<table border=\"1\" class=\"dataframe\">\n",
       "  <thead>\n",
       "    <tr style=\"text-align: right;\">\n",
       "      <th></th>\n",
       "      <th>CompanyName</th>\n",
       "      <th>City</th>\n",
       "      <th>Country</th>\n",
       "    </tr>\n",
       "    <tr>\n",
       "      <th>CustomerID</th>\n",
       "      <th></th>\n",
       "      <th></th>\n",
       "      <th></th>\n",
       "    </tr>\n",
       "  </thead>\n",
       "  <tbody>\n",
       "    <tr>\n",
       "      <th>ALFKI</th>\n",
       "      <td>Alfreds Futterkiste</td>\n",
       "      <td>Berlin</td>\n",
       "      <td>Germany</td>\n",
       "    </tr>\n",
       "    <tr>\n",
       "      <th>ANATR</th>\n",
       "      <td>Ana Trujillo Emparedados y helados</td>\n",
       "      <td>M?©xico D.F.</td>\n",
       "      <td>Mexico</td>\n",
       "    </tr>\n",
       "    <tr>\n",
       "      <th>ANTON</th>\n",
       "      <td>Antonio Moreno Taquer?­a</td>\n",
       "      <td>M?©xico D.F.</td>\n",
       "      <td>Mexico</td>\n",
       "    </tr>\n",
       "    <tr>\n",
       "      <th>AROUT</th>\n",
       "      <td>Around the Horn</td>\n",
       "      <td>London</td>\n",
       "      <td>UK</td>\n",
       "    </tr>\n",
       "    <tr>\n",
       "      <th>BERGS</th>\n",
       "      <td>Berglunds snabbk?¶p</td>\n",
       "      <td>Lule??</td>\n",
       "      <td>Sweden</td>\n",
       "    </tr>\n",
       "  </tbody>\n",
       "</table>\n",
       "</div>"
      ]
     },
     "execution_count": 47,
     "metadata": {},
     "output_type": "execute_result"
    }
   ],
   "execution_count": 47
  },
  {
   "metadata": {
    "ExecuteTime": {
     "end_time": "2025-07-05T22:40:37.225216Z",
     "start_time": "2025-07-05T22:40:37.220052Z"
    }
   },
   "cell_type": "code",
   "source": "len(customer_city_names)",
   "id": "c2a2597fd8efcd4c",
   "outputs": [
    {
     "data": {
      "text/plain": [
       "91"
      ]
     },
     "execution_count": 48,
     "metadata": {},
     "output_type": "execute_result"
    }
   ],
   "execution_count": 48
  }
 ],
 "metadata": {
  "kernelspec": {
   "display_name": "Python 3",
   "language": "python",
   "name": "python3"
  },
  "language_info": {
   "codemirror_mode": {
    "name": "ipython",
    "version": 2
   },
   "file_extension": ".py",
   "mimetype": "text/x-python",
   "name": "python",
   "nbconvert_exporter": "python",
   "pygments_lexer": "ipython2",
   "version": "2.7.6"
  }
 },
 "nbformat": 4,
 "nbformat_minor": 5
}
