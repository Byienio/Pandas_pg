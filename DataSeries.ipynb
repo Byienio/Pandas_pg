{
 "cells": [
  {
   "metadata": {},
   "cell_type": "markdown",
   "source": "# Data Series Creation in Pandas",
   "id": "a01b5f72f8a2033b"
  },
  {
   "cell_type": "code",
   "id": "initial_id",
   "metadata": {
    "collapsed": true,
    "ExecuteTime": {
     "end_time": "2025-06-21T12:21:37.322220Z",
     "start_time": "2025-06-21T12:21:36.025991Z"
    }
   },
   "source": [
    "import pandas as pd\n",
    "import numpy as np\n",
    "import matplotlib.pyplot as plt\n",
    "import math as math\n",
    "import random as rnd"
   ],
   "outputs": [],
   "execution_count": 1
  },
  {
   "metadata": {
    "ExecuteTime": {
     "end_time": "2025-06-19T17:21:08.798748Z",
     "start_time": "2025-06-19T17:21:08.795748Z"
    }
   },
   "cell_type": "code",
   "source": "weekdays = ['Monday', 'Tuesday', 'Wednesday', 'Thursday', 'Friday', 'Saturday', 'Sunday']",
   "id": "721f50e7d07f9acb",
   "outputs": [],
   "execution_count": 2
  },
  {
   "metadata": {
    "ExecuteTime": {
     "end_time": "2025-06-19T17:22:05.736875Z",
     "start_time": "2025-06-19T17:22:05.731367Z"
    }
   },
   "cell_type": "code",
   "source": [
    "weekdaysSeries = pd.Series(weekdays)\n",
    "weekdaysSeries"
   ],
   "id": "67cc6747d65c9212",
   "outputs": [
    {
     "data": {
      "text/plain": [
       "0       Monday\n",
       "1      Tuesday\n",
       "2    Wednesday\n",
       "3     Thursday\n",
       "4       Friday\n",
       "5     Saturday\n",
       "6       Sunday\n",
       "dtype: object"
      ]
     },
     "execution_count": 4,
     "metadata": {},
     "output_type": "execute_result"
    }
   ],
   "execution_count": 4
  },
  {
   "metadata": {
    "ExecuteTime": {
     "end_time": "2025-06-19T17:22:20.759142Z",
     "start_time": "2025-06-19T17:22:20.756110Z"
    }
   },
   "cell_type": "code",
   "source": "freeDays = [False, False, False, False, False, True, True]",
   "id": "32a831132abac51f",
   "outputs": [],
   "execution_count": 5
  },
  {
   "metadata": {
    "ExecuteTime": {
     "end_time": "2025-06-19T17:22:34.993615Z",
     "start_time": "2025-06-19T17:22:34.988627Z"
    }
   },
   "cell_type": "code",
   "source": [
    "freeDaysSeries = pd.Series(freeDays)\n",
    "freeDaysSeries"
   ],
   "id": "ff55db7ce474105f",
   "outputs": [
    {
     "data": {
      "text/plain": [
       "0    False\n",
       "1    False\n",
       "2    False\n",
       "3    False\n",
       "4    False\n",
       "5     True\n",
       "6     True\n",
       "dtype: bool"
      ]
     },
     "execution_count": 6,
     "metadata": {},
     "output_type": "execute_result"
    }
   ],
   "execution_count": 6
  },
  {
   "metadata": {
    "ExecuteTime": {
     "end_time": "2025-06-19T17:23:22.314393Z",
     "start_time": "2025-06-19T17:23:22.310397Z"
    }
   },
   "cell_type": "code",
   "source": [
    "holidays = {'New Year': '01-01',\n",
    "           'Independence Day': '07-04',\n",
    "           'Christmas': '12-25'}"
   ],
   "id": "4c39f85dc9cf9ca6",
   "outputs": [],
   "execution_count": 7
  },
  {
   "metadata": {
    "ExecuteTime": {
     "end_time": "2025-06-19T17:23:29.388454Z",
     "start_time": "2025-06-19T17:23:29.382150Z"
    }
   },
   "cell_type": "code",
   "source": [
    "holidaysSeries = pd.Series(holidays)\n",
    "holidaysSeries"
   ],
   "id": "883d6083498004e0",
   "outputs": [
    {
     "data": {
      "text/plain": [
       "New Year            01-01\n",
       "Independence Day    07-04\n",
       "Christmas           12-25\n",
       "dtype: object"
      ]
     },
     "execution_count": 8,
     "metadata": {},
     "output_type": "execute_result"
    }
   ],
   "execution_count": 8
  },
  {
   "metadata": {},
   "cell_type": "markdown",
   "source": "# Data Series attributes",
   "id": "37c164f518ce21b5"
  },
  {
   "metadata": {
    "ExecuteTime": {
     "end_time": "2025-06-19T17:36:19.578917Z",
     "start_time": "2025-06-19T17:36:19.553465Z"
    }
   },
   "cell_type": "code",
   "source": [
    "dataAsFloatList = [i * rnd.random() for i in range(100001)]\n",
    "dataAsFloatSeries = pd.Series(dataAsFloatList)"
   ],
   "id": "b0e2fc78be73a43a",
   "outputs": [],
   "execution_count": 19
  },
  {
   "metadata": {
    "ExecuteTime": {
     "end_time": "2025-06-19T17:36:48.429999Z",
     "start_time": "2025-06-19T17:36:48.424988Z"
    }
   },
   "cell_type": "code",
   "source": "dataAsFloatSeries.size\n",
   "id": "e3b10ae7951b7e38",
   "outputs": [
    {
     "data": {
      "text/plain": [
       "100001"
      ]
     },
     "execution_count": 21,
     "metadata": {},
     "output_type": "execute_result"
    }
   ],
   "execution_count": 21
  },
  {
   "metadata": {
    "ExecuteTime": {
     "end_time": "2025-06-19T17:36:54.455315Z",
     "start_time": "2025-06-19T17:36:54.451024Z"
    }
   },
   "cell_type": "code",
   "source": "dataAsFloatSeries.nbytes",
   "id": "45d50b679cffe186",
   "outputs": [
    {
     "data": {
      "text/plain": [
       "800008"
      ]
     },
     "execution_count": 22,
     "metadata": {},
     "output_type": "execute_result"
    }
   ],
   "execution_count": 22
  },
  {
   "metadata": {
    "ExecuteTime": {
     "end_time": "2025-06-19T17:36:59.071955Z",
     "start_time": "2025-06-19T17:36:59.067445Z"
    }
   },
   "cell_type": "code",
   "source": "dataAsFloatSeries.shape",
   "id": "e38810780cd3085",
   "outputs": [
    {
     "data": {
      "text/plain": [
       "(100001,)"
      ]
     },
     "execution_count": 23,
     "metadata": {},
     "output_type": "execute_result"
    }
   ],
   "execution_count": 23
  },
  {
   "metadata": {
    "ExecuteTime": {
     "end_time": "2025-06-19T17:39:16.828590Z",
     "start_time": "2025-06-19T17:39:16.824087Z"
    }
   },
   "cell_type": "code",
   "source": "dataAsFloatSeries.dtypes",
   "id": "9e7a4300d623506c",
   "outputs": [
    {
     "data": {
      "text/plain": [
       "dtype('float64')"
      ]
     },
     "execution_count": 34,
     "metadata": {},
     "output_type": "execute_result"
    }
   ],
   "execution_count": 34
  },
  {
   "metadata": {
    "ExecuteTime": {
     "end_time": "2025-06-19T17:37:04.436695Z",
     "start_time": "2025-06-19T17:37:04.432350Z"
    }
   },
   "cell_type": "code",
   "source": "dataAsFloatSeries.axes",
   "id": "2299637d50add4fd",
   "outputs": [
    {
     "data": {
      "text/plain": [
       "[RangeIndex(start=0, stop=100001, step=1)]"
      ]
     },
     "execution_count": 24,
     "metadata": {},
     "output_type": "execute_result"
    }
   ],
   "execution_count": 24
  },
  {
   "metadata": {
    "ExecuteTime": {
     "end_time": "2025-06-19T17:37:08.737681Z",
     "start_time": "2025-06-19T17:37:08.733390Z"
    }
   },
   "cell_type": "code",
   "source": "dataAsFloatSeries.index",
   "id": "c2d0ab71e251c336",
   "outputs": [
    {
     "data": {
      "text/plain": [
       "RangeIndex(start=0, stop=100001, step=1)"
      ]
     },
     "execution_count": 25,
     "metadata": {},
     "output_type": "execute_result"
    }
   ],
   "execution_count": 25
  },
  {
   "metadata": {
    "ExecuteTime": {
     "end_time": "2025-06-19T17:37:18.163392Z",
     "start_time": "2025-06-19T17:37:18.151843Z"
    }
   },
   "cell_type": "code",
   "source": "dataAsFloatSeries.is_unique",
   "id": "4d48b7459c936634",
   "outputs": [
    {
     "data": {
      "text/plain": [
       "True"
      ]
     },
     "execution_count": 26,
     "metadata": {},
     "output_type": "execute_result"
    }
   ],
   "execution_count": 26
  },
  {
   "metadata": {
    "ExecuteTime": {
     "end_time": "2025-06-19T17:37:24.687033Z",
     "start_time": "2025-06-19T17:37:24.681459Z"
    }
   },
   "cell_type": "code",
   "source": "dataAsFloatSeries.is_monotonic_increasing",
   "id": "a9131cb71add6d32",
   "outputs": [
    {
     "data": {
      "text/plain": [
       "False"
      ]
     },
     "execution_count": 27,
     "metadata": {},
     "output_type": "execute_result"
    }
   ],
   "execution_count": 27
  },
  {
   "metadata": {
    "ExecuteTime": {
     "end_time": "2025-06-19T17:37:45.220927Z",
     "start_time": "2025-06-19T17:37:45.216526Z"
    }
   },
   "cell_type": "code",
   "source": "dataAsFloatSeries.is_monotonic_decreasing",
   "id": "bc1c36f8f8fb0bff",
   "outputs": [
    {
     "data": {
      "text/plain": [
       "False"
      ]
     },
     "execution_count": 29,
     "metadata": {},
     "output_type": "execute_result"
    }
   ],
   "execution_count": 29
  },
  {
   "metadata": {
    "ExecuteTime": {
     "end_time": "2025-06-19T17:38:36.481874Z",
     "start_time": "2025-06-19T17:38:36.403065Z"
    }
   },
   "cell_type": "code",
   "source": [
    "dataAsStringList = [str(i* rnd.random()) for i in range(100001)]\n",
    "dataasStringSeries = pd.Series(dataAsStringList)"
   ],
   "id": "657280878988ad15",
   "outputs": [],
   "execution_count": 30
  },
  {
   "metadata": {
    "ExecuteTime": {
     "end_time": "2025-06-19T17:38:40.667843Z",
     "start_time": "2025-06-19T17:38:40.663967Z"
    }
   },
   "cell_type": "code",
   "source": "dataasStringSeries.size",
   "id": "1ad628dcda653de3",
   "outputs": [
    {
     "data": {
      "text/plain": [
       "100001"
      ]
     },
     "execution_count": 31,
     "metadata": {},
     "output_type": "execute_result"
    }
   ],
   "execution_count": 31
  },
  {
   "metadata": {
    "ExecuteTime": {
     "end_time": "2025-06-19T17:38:46.753095Z",
     "start_time": "2025-06-19T17:38:46.749193Z"
    }
   },
   "cell_type": "code",
   "source": "dataasStringSeries.nbytes",
   "id": "22d9eef6cf603bbd",
   "outputs": [
    {
     "data": {
      "text/plain": [
       "800008"
      ]
     },
     "execution_count": 32,
     "metadata": {},
     "output_type": "execute_result"
    }
   ],
   "execution_count": 32
  },
  {
   "metadata": {
    "ExecuteTime": {
     "end_time": "2025-06-19T17:38:58.347257Z",
     "start_time": "2025-06-19T17:38:58.342350Z"
    }
   },
   "cell_type": "code",
   "source": "dataasStringSeries.dtypes",
   "id": "a91a5506e07349c1",
   "outputs": [
    {
     "data": {
      "text/plain": [
       "dtype('O')"
      ]
     },
     "execution_count": 33,
     "metadata": {},
     "output_type": "execute_result"
    }
   ],
   "execution_count": 33
  },
  {
   "metadata": {},
   "cell_type": "markdown",
   "source": "# Data Series methods",
   "id": "1f7eec7e867d39b2"
  },
  {
   "metadata": {
    "ExecuteTime": {
     "end_time": "2025-06-21T14:33:43.498238Z",
     "start_time": "2025-06-21T14:33:43.494130Z"
    }
   },
   "cell_type": "code",
   "source": [
    "cities = ['New York', 'Los Angeles', 'Chicago']\n",
    "population = [8419600, 3980400, 2716000]"
   ],
   "id": "c7cd83e803330c78",
   "outputs": [],
   "execution_count": 63
  },
  {
   "metadata": {
    "ExecuteTime": {
     "end_time": "2025-06-21T14:33:44.251787Z",
     "start_time": "2025-06-21T14:33:44.243771Z"
    }
   },
   "cell_type": "code",
   "source": [
    "citypop = pd.Series(index = cities, data = population)\n",
    "citypop"
   ],
   "id": "fba4735feff7d660",
   "outputs": [
    {
     "data": {
      "text/plain": [
       "New York       8419600\n",
       "Los Angeles    3980400\n",
       "Chicago        2716000\n",
       "dtype: int64"
      ]
     },
     "execution_count": 64,
     "metadata": {},
     "output_type": "execute_result"
    }
   ],
   "execution_count": 64
  },
  {
   "metadata": {
    "ExecuteTime": {
     "end_time": "2025-06-19T18:53:57.757106Z",
     "start_time": "2025-06-19T18:53:57.752195Z"
    }
   },
   "cell_type": "code",
   "source": "round(citypop.mean())",
   "id": "a0ab6817835660ea",
   "outputs": [
    {
     "data": {
      "text/plain": [
       "5038667"
      ]
     },
     "execution_count": 40,
     "metadata": {},
     "output_type": "execute_result"
    }
   ],
   "execution_count": 40
  },
  {
   "metadata": {
    "ExecuteTime": {
     "end_time": "2025-06-19T18:54:20.717445Z",
     "start_time": "2025-06-19T18:54:20.712446Z"
    }
   },
   "cell_type": "code",
   "source": "citypop.sum()",
   "id": "9a7af32ccf40f8a5",
   "outputs": [
    {
     "data": {
      "text/plain": [
       "np.int64(15116000)"
      ]
     },
     "execution_count": 41,
     "metadata": {},
     "output_type": "execute_result"
    }
   ],
   "execution_count": 41
  },
  {
   "metadata": {
    "ExecuteTime": {
     "end_time": "2025-06-19T18:54:33.866667Z",
     "start_time": "2025-06-19T18:54:33.861332Z"
    }
   },
   "cell_type": "code",
   "source": "citypop.index",
   "id": "5c76252dc5f8b943",
   "outputs": [
    {
     "data": {
      "text/plain": [
       "Index(['New York', 'Los Angeles', 'Chicago'], dtype='object')"
      ]
     },
     "execution_count": 42,
     "metadata": {},
     "output_type": "execute_result"
    }
   ],
   "execution_count": 42
  },
  {
   "metadata": {
    "ExecuteTime": {
     "end_time": "2025-06-21T14:33:46.359096Z",
     "start_time": "2025-06-21T14:33:46.353043Z"
    }
   },
   "cell_type": "code",
   "source": "citypop.keys()",
   "id": "5f80e632670d4c86",
   "outputs": [
    {
     "data": {
      "text/plain": [
       "Index(['New York', 'Los Angeles', 'Chicago'], dtype='object')"
      ]
     },
     "execution_count": 65,
     "metadata": {},
     "output_type": "execute_result"
    }
   ],
   "execution_count": 65
  },
  {
   "metadata": {
    "ExecuteTime": {
     "end_time": "2025-06-21T14:34:01.973260Z",
     "start_time": "2025-06-21T14:34:01.968190Z"
    }
   },
   "cell_type": "code",
   "source": "citypop.values",
   "id": "b9d48fd1eb147b38",
   "outputs": [
    {
     "data": {
      "text/plain": [
       "array([8419600, 3980400, 2716000])"
      ]
     },
     "execution_count": 67,
     "metadata": {},
     "output_type": "execute_result"
    }
   ],
   "execution_count": 67
  },
  {
   "metadata": {},
   "cell_type": "markdown",
   "source": "# Data Series filtering",
   "id": "41f183ad620d5f67"
  },
  {
   "metadata": {
    "ExecuteTime": {
     "end_time": "2025-06-19T19:08:56.357095Z",
     "start_time": "2025-06-19T19:08:56.351552Z"
    }
   },
   "cell_type": "code",
   "source": [
    "age = [\"less than 6\", \"7-14\", \"15-17\", \"18-24\", \"25-39\", \"40-59\", \"more than 60\"]\n",
    "values = [14 ,334,312,5823,9491,7486,4343]\n",
    "incidentsSeries = pd.Series(data = values, index = age)\n",
    "incidentsSeries"
   ],
   "id": "5567a36644a733e4",
   "outputs": [
    {
     "data": {
      "text/plain": [
       "less than 6       14\n",
       "7-14             334\n",
       "15-17            312\n",
       "18-24           5823\n",
       "25-39           9491\n",
       "40-59           7486\n",
       "more than 60    4343\n",
       "dtype: int64"
      ]
     },
     "execution_count": 47,
     "metadata": {},
     "output_type": "execute_result"
    }
   ],
   "execution_count": 47
  },
  {
   "metadata": {
    "ExecuteTime": {
     "end_time": "2025-06-19T19:10:57.168686Z",
     "start_time": "2025-06-19T19:10:57.163180Z"
    }
   },
   "cell_type": "code",
   "source": [
    "newIncidentsSeries = incidentsSeries.where(incidentsSeries > 1000).dropna()\n",
    "#original series is not modified\n",
    "print(newIncidentsSeries)\n",
    "print(incidentsSeries)"
   ],
   "id": "f3fcacc68f2e2672",
   "outputs": [
    {
     "name": "stdout",
     "output_type": "stream",
     "text": [
      "18-24           5823.0\n",
      "25-39           9491.0\n",
      "40-59           7486.0\n",
      "more than 60    4343.0\n",
      "dtype: float64\n",
      "less than 6       14\n",
      "7-14             334\n",
      "15-17            312\n",
      "18-24           5823\n",
      "25-39           9491\n",
      "40-59           7486\n",
      "more than 60    4343\n",
      "dtype: int64\n"
     ]
    }
   ],
   "execution_count": 54
  },
  {
   "metadata": {
    "ExecuteTime": {
     "end_time": "2025-06-19T19:11:59.218991Z",
     "start_time": "2025-06-19T19:11:59.208945Z"
    }
   },
   "cell_type": "code",
   "source": "incidentsSeries.filter(items=['18-24', '25-39', '40-59'])",
   "id": "8bdb8d2b1b3027e2",
   "outputs": [
    {
     "data": {
      "text/plain": [
       "18-24    5823\n",
       "25-39    9491\n",
       "40-59    7486\n",
       "dtype: int64"
      ]
     },
     "execution_count": 55,
     "metadata": {},
     "output_type": "execute_result"
    }
   ],
   "execution_count": 55
  },
  {
   "metadata": {
    "ExecuteTime": {
     "end_time": "2025-06-19T19:13:15.029725Z",
     "start_time": "2025-06-19T19:13:15.023690Z"
    }
   },
   "cell_type": "code",
   "source": [
    "incidentsSeries.where(incidentsSeries <= 1000, inplace=True)\n",
    "incidentsSeries.dropna(inplace=True)\n",
    "incidentsSeries"
   ],
   "id": "ea828552559bae5e",
   "outputs": [
    {
     "data": {
      "text/plain": [
       "less than 6     14.0\n",
       "7-14           334.0\n",
       "15-17          312.0\n",
       "dtype: float64"
      ]
     },
     "execution_count": 57,
     "metadata": {},
     "output_type": "execute_result"
    }
   ],
   "execution_count": 57
  },
  {
   "metadata": {
    "ExecuteTime": {
     "end_time": "2025-06-19T19:22:09.223606Z",
     "start_time": "2025-06-19T19:22:09.218606Z"
    }
   },
   "cell_type": "code",
   "source": [
    "namesList = ['Albania','Austria','Belarus',\n",
    "'Belgium','Bulgaria','Croatia','Cyprus','Czech Republic','Denmark','Estonia',\n",
    "'Finland','France','Germany','Greece','Hungary','Iceland','Ireland','Italy',\n",
    "'Latvia','Lithuania','Luxembourg','Macedonia','Malta','Montenegro','Netherlands',\n",
    "'Norway','Poland','Portugal','Romania','Russia','Serbia','Slovenia','Spain', 'Sweden',\n",
    "             'Switzerland','United Kingdom','Turkey','Ukraine']\n",
    "energy2010List = [1947,8347,3564,8369,4560,3814,4623,6348,6328,6506,16483,7736,7264,5318,3876,\n",
    "                  51440,5911,5494,3230,3471,16830,3521,4171,5420,7010,24891,3797,4959,2551,\n",
    "                  6410,4359,6521,5707,14934,8175,2498,3550,5701]\n",
    "energy2012List = [2118,8507,3698,7987,4762,3819,4057,6305,6039,6689,15687,7344,7270,5511,3919,\n",
    "                  53203,5665,5398,3588,3608,14696,3626,4761,5416,6871,23658,3899,4736,2604,\n",
    "                  6617,4387,6778,5573,14290,7886,2794,3641,5452]\n",
    "\n",
    "nameSeries = pd.Series(namesList)\n",
    "energy2010Series = pd.Series(energy2010List)\n",
    "energy2012Series = pd.Series(energy2012List)"
   ],
   "id": "f6e450ea4aff95dc",
   "outputs": [],
   "execution_count": 60
  },
  {
   "metadata": {
    "ExecuteTime": {
     "end_time": "2025-06-19T19:22:34.997398Z",
     "start_time": "2025-06-19T19:22:34.992893Z"
    }
   },
   "cell_type": "code",
   "source": [
    "mean2010 = energy2010Series.mean()\n",
    "mean2010"
   ],
   "id": "59de12edafe9b03a",
   "outputs": [
    {
     "data": {
      "text/plain": [
       "np.float64(7779.8421052631575)"
      ]
     },
     "execution_count": 62,
     "metadata": {},
     "output_type": "execute_result"
    }
   ],
   "execution_count": 62
  },
  {
   "metadata": {
    "ExecuteTime": {
     "end_time": "2025-06-19T19:22:48.940001Z",
     "start_time": "2025-06-19T19:22:48.934871Z"
    }
   },
   "cell_type": "code",
   "source": [
    "mean2012 = energy2012Series.mean()\n",
    "mean2012"
   ],
   "id": "a9b8c1405cf50f55",
   "outputs": [
    {
     "data": {
      "text/plain": [
       "np.float64(7706.815789473684)"
      ]
     },
     "execution_count": 63,
     "metadata": {},
     "output_type": "execute_result"
    }
   ],
   "execution_count": 63
  },
  {
   "metadata": {
    "ExecuteTime": {
     "end_time": "2025-06-19T19:26:35.482632Z",
     "start_time": "2025-06-19T19:26:35.477450Z"
    }
   },
   "cell_type": "code",
   "source": [
    "filterAboveMean2010 = energy2010Series > mean2010\n",
    "filterAboveMean2010"
   ],
   "id": "2865d53e4cb23d37",
   "outputs": [
    {
     "data": {
      "text/plain": [
       "0     False\n",
       "1      True\n",
       "2     False\n",
       "3      True\n",
       "4     False\n",
       "5     False\n",
       "6     False\n",
       "7     False\n",
       "8     False\n",
       "9     False\n",
       "10     True\n",
       "11    False\n",
       "12    False\n",
       "13    False\n",
       "14    False\n",
       "15     True\n",
       "16    False\n",
       "17    False\n",
       "18    False\n",
       "19    False\n",
       "20     True\n",
       "21    False\n",
       "22    False\n",
       "23    False\n",
       "24    False\n",
       "25     True\n",
       "26    False\n",
       "27    False\n",
       "28    False\n",
       "29    False\n",
       "30    False\n",
       "31    False\n",
       "32    False\n",
       "33     True\n",
       "34     True\n",
       "35    False\n",
       "36    False\n",
       "37    False\n",
       "dtype: bool"
      ]
     },
     "execution_count": 69,
     "metadata": {},
     "output_type": "execute_result"
    }
   ],
   "execution_count": 69
  },
  {
   "metadata": {
    "ExecuteTime": {
     "end_time": "2025-06-19T19:26:37.016776Z",
     "start_time": "2025-06-19T19:26:37.011778Z"
    }
   },
   "cell_type": "code",
   "source": [
    "filterAboveMean2012 = energy2012Series > mean2012\n",
    "filterAboveMean2012"
   ],
   "id": "ed40bbb0c4dae6f2",
   "outputs": [
    {
     "data": {
      "text/plain": [
       "0     False\n",
       "1      True\n",
       "2     False\n",
       "3      True\n",
       "4     False\n",
       "5     False\n",
       "6     False\n",
       "7     False\n",
       "8     False\n",
       "9     False\n",
       "10     True\n",
       "11    False\n",
       "12    False\n",
       "13    False\n",
       "14    False\n",
       "15     True\n",
       "16    False\n",
       "17    False\n",
       "18    False\n",
       "19    False\n",
       "20     True\n",
       "21    False\n",
       "22    False\n",
       "23    False\n",
       "24    False\n",
       "25     True\n",
       "26    False\n",
       "27    False\n",
       "28    False\n",
       "29    False\n",
       "30    False\n",
       "31    False\n",
       "32    False\n",
       "33     True\n",
       "34     True\n",
       "35    False\n",
       "36    False\n",
       "37    False\n",
       "dtype: bool"
      ]
     },
     "execution_count": 70,
     "metadata": {},
     "output_type": "execute_result"
    }
   ],
   "execution_count": 70
  },
  {
   "metadata": {
    "ExecuteTime": {
     "end_time": "2025-06-19T19:27:58.204032Z",
     "start_time": "2025-06-19T19:27:58.198820Z"
    }
   },
   "cell_type": "code",
   "source": "nameSeries.where(filterAboveMean2010 & filterAboveMean2012).dropna()",
   "id": "fa1ee47da815ec26",
   "outputs": [
    {
     "data": {
      "text/plain": [
       "1         Austria\n",
       "3         Belgium\n",
       "10        Finland\n",
       "15        Iceland\n",
       "20     Luxembourg\n",
       "25         Norway\n",
       "33         Sweden\n",
       "34    Switzerland\n",
       "dtype: object"
      ]
     },
     "execution_count": 73,
     "metadata": {},
     "output_type": "execute_result"
    }
   ],
   "execution_count": 73
  },
  {
   "metadata": {
    "ExecuteTime": {
     "end_time": "2025-06-19T19:28:59.918160Z",
     "start_time": "2025-06-19T19:28:59.912639Z"
    }
   },
   "cell_type": "code",
   "source": [
    "filterBeloweMean2010 = energy2010Series < mean2010\n",
    "filterBeloweMean2010"
   ],
   "id": "b79122739a1a4442",
   "outputs": [
    {
     "data": {
      "text/plain": [
       "0      True\n",
       "1     False\n",
       "2      True\n",
       "3     False\n",
       "4      True\n",
       "5      True\n",
       "6      True\n",
       "7      True\n",
       "8      True\n",
       "9      True\n",
       "10    False\n",
       "11     True\n",
       "12     True\n",
       "13     True\n",
       "14     True\n",
       "15    False\n",
       "16     True\n",
       "17     True\n",
       "18     True\n",
       "19     True\n",
       "20    False\n",
       "21     True\n",
       "22     True\n",
       "23     True\n",
       "24     True\n",
       "25    False\n",
       "26     True\n",
       "27     True\n",
       "28     True\n",
       "29     True\n",
       "30     True\n",
       "31     True\n",
       "32     True\n",
       "33    False\n",
       "34    False\n",
       "35     True\n",
       "36     True\n",
       "37     True\n",
       "dtype: bool"
      ]
     },
     "execution_count": 75,
     "metadata": {},
     "output_type": "execute_result"
    }
   ],
   "execution_count": 75
  },
  {
   "metadata": {
    "ExecuteTime": {
     "end_time": "2025-06-19T19:29:28.572704Z",
     "start_time": "2025-06-19T19:29:28.567161Z"
    }
   },
   "cell_type": "code",
   "source": "nameSeries.where(filterBeloweMean2010 & filterAboveMean2012).dropna()",
   "id": "18a890066e2f968d",
   "outputs": [
    {
     "data": {
      "text/plain": [
       "Series([], dtype: object)"
      ]
     },
     "execution_count": 76,
     "metadata": {},
     "output_type": "execute_result"
    }
   ],
   "execution_count": 76
  },
  {
   "metadata": {},
   "cell_type": "markdown",
   "source": "# Importing data from CSV file",
   "id": "9d4336105e187eee"
  },
  {
   "metadata": {
    "ExecuteTime": {
     "end_time": "2025-06-20T17:42:22.959553Z",
     "start_time": "2025-06-20T17:42:22.436064Z"
    }
   },
   "cell_type": "code",
   "source": [
    "education = pd.read_csv('data/data/StackOverflowDeveloperSurvey.csv', usecols=['FormalEducation']).squeeze()\n",
    "education"
   ],
   "id": "91f38a106f6121b9",
   "outputs": [
    {
     "data": {
      "text/plain": [
       "0                                         Secondary school\n",
       "1        Some college/university study without earning ...\n",
       "2                                        Bachelor's degree\n",
       "3                                          Doctoral degree\n",
       "4                                          Master's degree\n",
       "                               ...                        \n",
       "51387                                    Bachelor's degree\n",
       "51388                                      Master's degree\n",
       "51389    Some college/university study without earning ...\n",
       "51390                                    Bachelor's degree\n",
       "51391                                    Bachelor's degree\n",
       "Name: FormalEducation, Length: 51392, dtype: object"
      ]
     },
     "execution_count": 5,
     "metadata": {},
     "output_type": "execute_result"
    }
   ],
   "execution_count": 5
  },
  {
   "metadata": {
    "ExecuteTime": {
     "end_time": "2025-06-20T17:42:34.678082Z",
     "start_time": "2025-06-20T17:42:34.674005Z"
    }
   },
   "cell_type": "code",
   "source": "type(education)",
   "id": "e1fe097608dcdaa",
   "outputs": [
    {
     "data": {
      "text/plain": [
       "pandas.core.series.Series"
      ]
     },
     "execution_count": 6,
     "metadata": {},
     "output_type": "execute_result"
    }
   ],
   "execution_count": 6
  },
  {
   "metadata": {
    "ExecuteTime": {
     "end_time": "2025-06-20T17:42:42.239396Z",
     "start_time": "2025-06-20T17:42:42.234483Z"
    }
   },
   "cell_type": "code",
   "source": "education.head()",
   "id": "19584804b94fd27",
   "outputs": [
    {
     "data": {
      "text/plain": [
       "0                                     Secondary school\n",
       "1    Some college/university study without earning ...\n",
       "2                                    Bachelor's degree\n",
       "3                                      Doctoral degree\n",
       "4                                      Master's degree\n",
       "Name: FormalEducation, dtype: object"
      ]
     },
     "execution_count": 7,
     "metadata": {},
     "output_type": "execute_result"
    }
   ],
   "execution_count": 7
  },
  {
   "metadata": {
    "ExecuteTime": {
     "end_time": "2025-06-20T17:43:03.887177Z",
     "start_time": "2025-06-20T17:43:02.732127Z"
    }
   },
   "cell_type": "code",
   "source": "allinfo = pd.read_csv('data/data/StackOverflowDeveloperSurvey.csv')",
   "id": "b04b0c9cc01c2b1a",
   "outputs": [],
   "execution_count": 8
  },
  {
   "metadata": {
    "ExecuteTime": {
     "end_time": "2025-06-20T17:43:28.894290Z",
     "start_time": "2025-06-20T17:43:28.888308Z"
    }
   },
   "cell_type": "code",
   "source": [
    "country = allinfo['Country'].squeeze()\n",
    "country"
   ],
   "id": "a4b2b53876499ca7",
   "outputs": [
    {
     "data": {
      "text/plain": [
       "0         United States\n",
       "1        United Kingdom\n",
       "2        United Kingdom\n",
       "3         United States\n",
       "4           Switzerland\n",
       "              ...      \n",
       "51387     United States\n",
       "51388         Venezuela\n",
       "51389            Canada\n",
       "51390     United States\n",
       "51391           Ireland\n",
       "Name: Country, Length: 51392, dtype: object"
      ]
     },
     "execution_count": 9,
     "metadata": {},
     "output_type": "execute_result"
    }
   ],
   "execution_count": 9
  },
  {
   "metadata": {
    "ExecuteTime": {
     "end_time": "2025-06-20T17:43:34.835918Z",
     "start_time": "2025-06-20T17:43:34.831919Z"
    }
   },
   "cell_type": "code",
   "source": "type(country)",
   "id": "9ea3bb13e68c68d1",
   "outputs": [
    {
     "data": {
      "text/plain": [
       "pandas.core.series.Series"
      ]
     },
     "execution_count": 10,
     "metadata": {},
     "output_type": "execute_result"
    }
   ],
   "execution_count": 10
  },
  {
   "metadata": {
    "ExecuteTime": {
     "end_time": "2025-06-20T17:43:40.548720Z",
     "start_time": "2025-06-20T17:43:40.543510Z"
    }
   },
   "cell_type": "code",
   "source": "country.head()",
   "id": "5db941eacb9a0c7",
   "outputs": [
    {
     "data": {
      "text/plain": [
       "0     United States\n",
       "1    United Kingdom\n",
       "2    United Kingdom\n",
       "3     United States\n",
       "4       Switzerland\n",
       "Name: Country, dtype: object"
      ]
     },
     "execution_count": 11,
     "metadata": {},
     "output_type": "execute_result"
    }
   ],
   "execution_count": 11
  },
  {
   "metadata": {
    "ExecuteTime": {
     "end_time": "2025-06-20T17:44:03.447015Z",
     "start_time": "2025-06-20T17:44:03.440107Z"
    }
   },
   "cell_type": "code",
   "source": "filterOnlyUSA = country == 'United States'",
   "id": "fc4ebb4619253c99",
   "outputs": [],
   "execution_count": 12
  },
  {
   "metadata": {
    "ExecuteTime": {
     "end_time": "2025-06-20T17:44:04.979718Z",
     "start_time": "2025-06-20T17:44:04.973719Z"
    }
   },
   "cell_type": "code",
   "source": "filterOnlyUSA",
   "id": "1e1f4d9bfc23cf71",
   "outputs": [
    {
     "data": {
      "text/plain": [
       "0         True\n",
       "1        False\n",
       "2        False\n",
       "3         True\n",
       "4        False\n",
       "         ...  \n",
       "51387     True\n",
       "51388    False\n",
       "51389    False\n",
       "51390     True\n",
       "51391    False\n",
       "Name: Country, Length: 51392, dtype: bool"
      ]
     },
     "execution_count": 13,
     "metadata": {},
     "output_type": "execute_result"
    }
   ],
   "execution_count": 13
  },
  {
   "metadata": {
    "ExecuteTime": {
     "end_time": "2025-06-20T17:44:22.804947Z",
     "start_time": "2025-06-20T17:44:22.800250Z"
    }
   },
   "cell_type": "code",
   "source": "filterOnlyUSA.head()",
   "id": "60bb399713be3b97",
   "outputs": [
    {
     "data": {
      "text/plain": [
       "0     True\n",
       "1    False\n",
       "2    False\n",
       "3     True\n",
       "4    False\n",
       "Name: Country, dtype: bool"
      ]
     },
     "execution_count": 15,
     "metadata": {},
     "output_type": "execute_result"
    }
   ],
   "execution_count": 15
  },
  {
   "metadata": {
    "ExecuteTime": {
     "end_time": "2025-06-20T17:44:59.248307Z",
     "start_time": "2025-06-20T17:44:59.239335Z"
    }
   },
   "cell_type": "code",
   "source": "education.where(filterOnlyUSA).dropna().head(n=10)",
   "id": "82efe1ca471f92b0",
   "outputs": [
    {
     "data": {
      "text/plain": [
       "0              Secondary school\n",
       "3               Doctoral degree\n",
       "6               Master's degree\n",
       "10            Bachelor's degree\n",
       "15    Primary/elementary school\n",
       "17            Bachelor's degree\n",
       "18            Bachelor's degree\n",
       "25              Master's degree\n",
       "27            Bachelor's degree\n",
       "29            Bachelor's degree\n",
       "Name: FormalEducation, dtype: object"
      ]
     },
     "execution_count": 16,
     "metadata": {},
     "output_type": "execute_result"
    }
   ],
   "execution_count": 16
  },
  {
   "metadata": {
    "ExecuteTime": {
     "end_time": "2025-06-20T17:52:16.753580Z",
     "start_time": "2025-06-20T17:52:16.141053Z"
    }
   },
   "cell_type": "code",
   "source": [
    "salary = pd.read_csv('data/data/StackOverflowDeveloperSurvey.csv', usecols=['Salary']).squeeze().dropna()\n",
    "salary.head()\n"
   ],
   "id": "6c7e230174ee57e9",
   "outputs": [
    {
     "data": {
      "text/plain": [
       "2     113750.0\n",
       "14    100000.0\n",
       "17    130000.0\n",
       "18     82500.0\n",
       "22    100764.0\n",
       "Name: Salary, dtype: float64"
      ]
     },
     "execution_count": 19,
     "metadata": {},
     "output_type": "execute_result"
    }
   ],
   "execution_count": 19
  },
  {
   "metadata": {
    "ExecuteTime": {
     "end_time": "2025-06-20T17:52:25.553397Z",
     "start_time": "2025-06-20T17:52:25.548400Z"
    }
   },
   "cell_type": "code",
   "source": "len(salary)",
   "id": "948268b8e3f63fac",
   "outputs": [
    {
     "data": {
      "text/plain": [
       "12891"
      ]
     },
     "execution_count": 20,
     "metadata": {},
     "output_type": "execute_result"
    }
   ],
   "execution_count": 20
  },
  {
   "metadata": {
    "ExecuteTime": {
     "end_time": "2025-06-20T17:52:32.564173Z",
     "start_time": "2025-06-20T17:52:32.559795Z"
    }
   },
   "cell_type": "code",
   "source": "min(salary)",
   "id": "26b962613a5d27b6",
   "outputs": [
    {
     "data": {
      "text/plain": [
       "0.0"
      ]
     },
     "execution_count": 21,
     "metadata": {},
     "output_type": "execute_result"
    }
   ],
   "execution_count": 21
  },
  {
   "metadata": {
    "ExecuteTime": {
     "end_time": "2025-06-20T17:52:53.719672Z",
     "start_time": "2025-06-20T17:52:53.714776Z"
    }
   },
   "cell_type": "code",
   "source": "list(salary.head())",
   "id": "6e6a928e6c1a430a",
   "outputs": [
    {
     "data": {
      "text/plain": [
       "[113750.0, 100000.0, 130000.0, 82500.0, 100764.0]"
      ]
     },
     "execution_count": 23,
     "metadata": {},
     "output_type": "execute_result"
    }
   ],
   "execution_count": 23
  },
  {
   "metadata": {
    "ExecuteTime": {
     "end_time": "2025-06-20T17:52:59.128264Z",
     "start_time": "2025-06-20T17:52:59.122761Z"
    }
   },
   "cell_type": "code",
   "source": "dict(salary.head())",
   "id": "343531ff456cb9ad",
   "outputs": [
    {
     "data": {
      "text/plain": [
       "{2: np.float64(113750.0),\n",
       " 14: np.float64(100000.0),\n",
       " 17: np.float64(130000.0),\n",
       " 18: np.float64(82500.0),\n",
       " 22: np.float64(100764.0)}"
      ]
     },
     "execution_count": 24,
     "metadata": {},
     "output_type": "execute_result"
    }
   ],
   "execution_count": 24
  },
  {
   "metadata": {
    "ExecuteTime": {
     "end_time": "2025-06-20T17:53:20.918003Z",
     "start_time": "2025-06-20T17:53:20.913002Z"
    }
   },
   "cell_type": "code",
   "source": "listSalarySorted = sorted(salary,reverse=True)",
   "id": "9f0ade25659dec6f",
   "outputs": [],
   "execution_count": 25
  },
  {
   "metadata": {
    "ExecuteTime": {
     "end_time": "2025-06-20T17:54:01.658119Z",
     "start_time": "2025-06-20T17:54:01.654914Z"
    }
   },
   "cell_type": "code",
   "source": [
    "for i in listSalarySorted[:5]:\n",
    "    print(i)"
   ],
   "id": "cc309f3072f7e6c1",
   "outputs": [
    {
     "name": "stdout",
     "output_type": "stream",
     "text": [
      "197000.0\n",
      "195000.0\n",
      "195000.0\n",
      "195000.0\n",
      "195000.0\n"
     ]
    }
   ],
   "execution_count": 28
  },
  {
   "metadata": {
    "ExecuteTime": {
     "end_time": "2025-06-20T17:54:13.017733Z",
     "start_time": "2025-06-20T17:54:13.013211Z"
    }
   },
   "cell_type": "code",
   "source": "salary.name = 'Salary of person'",
   "id": "7ac2916c88e3bd64",
   "outputs": [],
   "execution_count": 29
  },
  {
   "metadata": {
    "ExecuteTime": {
     "end_time": "2025-06-20T17:54:18.263438Z",
     "start_time": "2025-06-20T17:54:18.258035Z"
    }
   },
   "cell_type": "code",
   "source": "salary.head()",
   "id": "d8d36f4ed9d3515e",
   "outputs": [
    {
     "data": {
      "text/plain": [
       "2     113750.0\n",
       "14    100000.0\n",
       "17    130000.0\n",
       "18     82500.0\n",
       "22    100764.0\n",
       "Name: Salary of person, dtype: float64"
      ]
     },
     "execution_count": 30,
     "metadata": {},
     "output_type": "execute_result"
    }
   ],
   "execution_count": 30
  },
  {
   "metadata": {},
   "cell_type": "markdown",
   "source": "# Sorting data in Data Series using Data Series methods",
   "id": "ed411110ce0dea1e"
  },
  {
   "metadata": {
    "ExecuteTime": {
     "end_time": "2025-06-20T18:02:02.193522Z",
     "start_time": "2025-06-20T18:02:01.489302Z"
    }
   },
   "cell_type": "code",
   "source": [
    "salary = pd.read_csv('data/data/StackOverflowDeveloperSurvey.csv',usecols=['Salary']).squeeze().dropna()\n",
    "salary.head()"
   ],
   "id": "4d4ecd617ac02984",
   "outputs": [
    {
     "data": {
      "text/plain": [
       "2     113750.0\n",
       "14    100000.0\n",
       "17    130000.0\n",
       "18     82500.0\n",
       "22    100764.0\n",
       "Name: Salary, dtype: float64"
      ]
     },
     "execution_count": 31,
     "metadata": {},
     "output_type": "execute_result"
    }
   ],
   "execution_count": 31
  },
  {
   "metadata": {
    "ExecuteTime": {
     "end_time": "2025-06-20T18:02:20.017039Z",
     "start_time": "2025-06-20T18:02:20.008039Z"
    }
   },
   "cell_type": "code",
   "source": "salary.sort_values(ascending=False).head(5)",
   "id": "4777a601b5ca3e6e",
   "outputs": [
    {
     "data": {
      "text/plain": [
       "31600    197000.0\n",
       "6743     195000.0\n",
       "41398    195000.0\n",
       "18237    195000.0\n",
       "1696     195000.0\n",
       "Name: Salary, dtype: float64"
      ]
     },
     "execution_count": 32,
     "metadata": {},
     "output_type": "execute_result"
    }
   ],
   "execution_count": 32
  },
  {
   "metadata": {
    "ExecuteTime": {
     "end_time": "2025-06-20T18:02:34.712052Z",
     "start_time": "2025-06-20T18:02:34.706541Z"
    }
   },
   "cell_type": "code",
   "source": "salary.sort_values(ascending=True).head(5)",
   "id": "88e000bdd07a6695",
   "outputs": [
    {
     "data": {
      "text/plain": [
       "4517     0.0\n",
       "23953    0.0\n",
       "23907    0.0\n",
       "2951     0.0\n",
       "44841    0.0\n",
       "Name: Salary, dtype: float64"
      ]
     },
     "execution_count": 33,
     "metadata": {},
     "output_type": "execute_result"
    }
   ],
   "execution_count": 33
  },
  {
   "metadata": {
    "ExecuteTime": {
     "end_time": "2025-06-20T18:03:28.284390Z",
     "start_time": "2025-06-20T18:03:28.278407Z"
    }
   },
   "cell_type": "code",
   "source": [
    "salary.sort_values(inplace=True, ascending=False)\n",
    "salary.head()"
   ],
   "id": "c37ed5cdc710035e",
   "outputs": [
    {
     "data": {
      "text/plain": [
       "31600    197000.0\n",
       "6743     195000.0\n",
       "41398    195000.0\n",
       "18237    195000.0\n",
       "1696     195000.0\n",
       "Name: Salary, dtype: float64"
      ]
     },
     "execution_count": 34,
     "metadata": {},
     "output_type": "execute_result"
    }
   ],
   "execution_count": 34
  },
  {
   "metadata": {
    "ExecuteTime": {
     "end_time": "2025-06-20T18:03:43.125524Z",
     "start_time": "2025-06-20T18:03:43.116517Z"
    }
   },
   "cell_type": "code",
   "source": "salary.sort_index(ascending=False)",
   "id": "2cd5e51aa909e2d1",
   "outputs": [
    {
     "data": {
      "text/plain": [
       "51390     40000.000000\n",
       "51387     58000.000000\n",
       "51382     32258.064516\n",
       "51378    107526.881720\n",
       "51371     74193.548387\n",
       "             ...      \n",
       "22       100764.000000\n",
       "18        82500.000000\n",
       "17       130000.000000\n",
       "14       100000.000000\n",
       "2        113750.000000\n",
       "Name: Salary, Length: 12891, dtype: float64"
      ]
     },
     "execution_count": 35,
     "metadata": {},
     "output_type": "execute_result"
    }
   ],
   "execution_count": 35
  },
  {
   "metadata": {
    "ExecuteTime": {
     "end_time": "2025-06-20T18:04:12.083192Z",
     "start_time": "2025-06-20T18:04:12.079890Z"
    }
   },
   "cell_type": "code",
   "source": "maxSalaries = salary.sort_values(ascending=False).head(100)",
   "id": "32e85c47e1376d8",
   "outputs": [],
   "execution_count": 36
  },
  {
   "metadata": {
    "ExecuteTime": {
     "end_time": "2025-06-20T18:04:14.138078Z",
     "start_time": "2025-06-20T18:04:14.131720Z"
    }
   },
   "cell_type": "code",
   "source": "maxSalaries",
   "id": "e9bc5b68737b4e91",
   "outputs": [
    {
     "data": {
      "text/plain": [
       "31600    197000.0\n",
       "6743     195000.0\n",
       "41398    195000.0\n",
       "18237    195000.0\n",
       "1696     195000.0\n",
       "           ...   \n",
       "8144     170000.0\n",
       "26473    170000.0\n",
       "6659     170000.0\n",
       "13235    170000.0\n",
       "21133    170000.0\n",
       "Name: Salary, Length: 100, dtype: float64"
      ]
     },
     "execution_count": 37,
     "metadata": {},
     "output_type": "execute_result"
    }
   ],
   "execution_count": 37
  },
  {
   "metadata": {
    "ExecuteTime": {
     "end_time": "2025-06-20T18:04:30.076677Z",
     "start_time": "2025-06-20T18:04:30.071336Z"
    }
   },
   "cell_type": "code",
   "source": [
    "minSalaries = salary.sort_values(ascending=True).head(100)\n",
    "minSalaries"
   ],
   "id": "10ff78f493fcfb2",
   "outputs": [
    {
     "data": {
      "text/plain": [
       "51144      0.000000\n",
       "4517       0.000000\n",
       "23907      0.000000\n",
       "2951       0.000000\n",
       "23953      0.000000\n",
       "            ...    \n",
       "15179    176.185582\n",
       "33212    178.784267\n",
       "50569    198.208780\n",
       "48674    198.649186\n",
       "1077     200.000000\n",
       "Name: Salary, Length: 100, dtype: float64"
      ]
     },
     "execution_count": 38,
     "metadata": {},
     "output_type": "execute_result"
    }
   ],
   "execution_count": 38
  },
  {
   "metadata": {
    "ExecuteTime": {
     "end_time": "2025-06-20T18:04:51.355507Z",
     "start_time": "2025-06-20T18:04:51.351367Z"
    }
   },
   "cell_type": "code",
   "source": "maxSalaries.mean()\n",
   "id": "6a8c9ae217bf2788",
   "outputs": [
    {
     "data": {
      "text/plain": [
       "np.float64(180198.1045586777)"
      ]
     },
     "execution_count": 40,
     "metadata": {},
     "output_type": "execute_result"
    }
   ],
   "execution_count": 40
  },
  {
   "metadata": {
    "ExecuteTime": {
     "end_time": "2025-06-20T18:04:53.136453Z",
     "start_time": "2025-06-20T18:04:53.131455Z"
    }
   },
   "cell_type": "code",
   "source": "minSalaries.mean()",
   "id": "e2567db3049da5ee",
   "outputs": [
    {
     "data": {
      "text/plain": [
       "np.float64(67.08388907133794)"
      ]
     },
     "execution_count": 41,
     "metadata": {},
     "output_type": "execute_result"
    }
   ],
   "execution_count": 41
  },
  {
   "metadata": {},
   "cell_type": "markdown",
   "source": "# Searching for certain values in Data Series",
   "id": "15a52e4cfbc6a9ca"
  },
  {
   "metadata": {
    "ExecuteTime": {
     "end_time": "2025-06-20T20:04:59.893549Z",
     "start_time": "2025-06-20T20:04:59.247358Z"
    }
   },
   "cell_type": "code",
   "source": [
    "countries = pd.read_csv('data/data/StackOverflowDeveloperSurvey.csv', usecols=['Country']).squeeze().dropna()\n",
    "countries.head()"
   ],
   "id": "a48fd05c8f386351",
   "outputs": [
    {
     "data": {
      "text/plain": [
       "0     United States\n",
       "1    United Kingdom\n",
       "2    United Kingdom\n",
       "3     United States\n",
       "4       Switzerland\n",
       "Name: Country, dtype: object"
      ]
     },
     "execution_count": 42,
     "metadata": {},
     "output_type": "execute_result"
    }
   ],
   "execution_count": 42
  },
  {
   "metadata": {
    "ExecuteTime": {
     "end_time": "2025-06-20T20:06:06.827151Z",
     "start_time": "2025-06-20T20:06:06.823036Z"
    }
   },
   "cell_type": "code",
   "source": [
    "#false because this check if spain is index in countries data series\n",
    "'Spain' in countries"
   ],
   "id": "a2ead70a23445073",
   "outputs": [
    {
     "data": {
      "text/plain": [
       "False"
      ]
     },
     "execution_count": 47,
     "metadata": {},
     "output_type": "execute_result"
    }
   ],
   "execution_count": 47
  },
  {
   "metadata": {
    "ExecuteTime": {
     "end_time": "2025-06-20T20:06:04.015814Z",
     "start_time": "2025-06-20T20:06:04.009803Z"
    }
   },
   "cell_type": "code",
   "source": "'Spain' in countries.values",
   "id": "eeae65cefdfccfb5",
   "outputs": [
    {
     "data": {
      "text/plain": [
       "True"
      ]
     },
     "execution_count": 46,
     "metadata": {},
     "output_type": "execute_result"
    }
   ],
   "execution_count": 46
  },
  {
   "metadata": {
    "ExecuteTime": {
     "end_time": "2025-06-20T20:22:21.356658Z",
     "start_time": "2025-06-20T20:22:21.351546Z"
    }
   },
   "cell_type": "code",
   "source": "'Wonderland' in countries.values",
   "id": "93866dbbe78e5b50",
   "outputs": [
    {
     "data": {
      "text/plain": [
       "False"
      ]
     },
     "execution_count": 74,
     "metadata": {},
     "output_type": "execute_result"
    }
   ],
   "execution_count": 74
  },
  {
   "metadata": {},
   "cell_type": "markdown",
   "source": "# Slicing Data Series and getting values",
   "id": "911b5133d47bd088"
  },
  {
   "metadata": {
    "ExecuteTime": {
     "end_time": "2025-06-20T20:23:24.037614Z",
     "start_time": "2025-06-20T20:23:23.502985Z"
    }
   },
   "cell_type": "code",
   "source": "surveys = pd.read_csv('data/data/StackOverflowDeveloperSurvey.csv', usecols=['CompanySize']).squeeze().dropna()",
   "id": "19509a753c824756",
   "outputs": [],
   "execution_count": 77
  },
  {
   "metadata": {
    "ExecuteTime": {
     "end_time": "2025-06-20T20:18:15.790177Z",
     "start_time": "2025-06-20T20:18:15.785811Z"
    }
   },
   "cell_type": "code",
   "source": "surveys.head()",
   "id": "2585f09a1a145cc1",
   "outputs": [
    {
     "data": {
      "text/plain": [
       "0                         NaN\n",
       "1          20 to 99 employees\n",
       "2    10,000 or more employees\n",
       "3    10,000 or more employees\n",
       "4          10 to 19 employees\n",
       "Name: CompanySize, dtype: object"
      ]
     },
     "execution_count": 61,
     "metadata": {},
     "output_type": "execute_result"
    }
   ],
   "execution_count": 61
  },
  {
   "metadata": {
    "ExecuteTime": {
     "end_time": "2025-06-20T20:18:16.758268Z",
     "start_time": "2025-06-20T20:18:16.754091Z"
    }
   },
   "cell_type": "code",
   "source": "surveys[3]",
   "id": "947002d409c0bf44",
   "outputs": [
    {
     "data": {
      "text/plain": [
       "'10,000 or more employees'"
      ]
     },
     "execution_count": 62,
     "metadata": {},
     "output_type": "execute_result"
    }
   ],
   "execution_count": 62
  },
  {
   "metadata": {
    "ExecuteTime": {
     "end_time": "2025-06-20T20:18:17.811984Z",
     "start_time": "2025-06-20T20:18:17.806827Z"
    }
   },
   "cell_type": "code",
   "source": "surveys[1:11]",
   "id": "91b9ea71fb5b8e35",
   "outputs": [
    {
     "data": {
      "text/plain": [
       "1           20 to 99 employees\n",
       "2     10,000 or more employees\n",
       "3     10,000 or more employees\n",
       "4           10 to 19 employees\n",
       "5                          NaN\n",
       "6           20 to 99 employees\n",
       "7      Fewer than 10 employees\n",
       "8     5,000 to 9,999 employees\n",
       "9                          NaN\n",
       "10        100 to 499 employees\n",
       "Name: CompanySize, dtype: object"
      ]
     },
     "execution_count": 63,
     "metadata": {},
     "output_type": "execute_result"
    }
   ],
   "execution_count": 63
  },
  {
   "metadata": {
    "ExecuteTime": {
     "end_time": "2025-06-20T20:18:19.745566Z",
     "start_time": "2025-06-20T20:18:19.740940Z"
    }
   },
   "cell_type": "code",
   "source": "surveys[12345]",
   "id": "c16d7ce134994b55",
   "outputs": [
    {
     "data": {
      "text/plain": [
       "'20 to 99 employees'"
      ]
     },
     "execution_count": 64,
     "metadata": {},
     "output_type": "execute_result"
    }
   ],
   "execution_count": 64
  },
  {
   "metadata": {
    "ExecuteTime": {
     "end_time": "2025-06-20T20:17:46.768606Z",
     "start_time": "2025-06-20T20:17:46.764210Z"
    }
   },
   "cell_type": "code",
   "source": "surveys[12341:12351]",
   "id": "3b9a89dc4d8325ac",
   "outputs": [
    {
     "data": {
      "text/plain": [
       "15989    1,000 to 4,999 employees\n",
       "15991          20 to 99 employees\n",
       "15992          10 to 19 employees\n",
       "15993    1,000 to 4,999 employees\n",
       "15994          20 to 99 employees\n",
       "15995        100 to 499 employees\n",
       "15996          10 to 19 employees\n",
       "15997                I don't know\n",
       "15998          20 to 99 employees\n",
       "15999        100 to 499 employees\n",
       "Name: CompanySize, dtype: object"
      ]
     },
     "execution_count": 59,
     "metadata": {},
     "output_type": "execute_result"
    }
   ],
   "execution_count": 59
  },
  {
   "metadata": {
    "ExecuteTime": {
     "end_time": "2025-06-20T20:23:26.741567Z",
     "start_time": "2025-06-20T20:23:26.720195Z"
    }
   },
   "cell_type": "code",
   "source": "surveys.sort_values(inplace=True)",
   "id": "9bc6576663726b14",
   "outputs": [],
   "execution_count": 78
  },
  {
   "metadata": {
    "ExecuteTime": {
     "end_time": "2025-06-20T20:23:59.050662Z",
     "start_time": "2025-06-20T20:23:59.045542Z"
    }
   },
   "cell_type": "code",
   "source": "surveys[3]",
   "id": "78bb7e369a470ade",
   "outputs": [
    {
     "data": {
      "text/plain": [
       "'10,000 or more employees'"
      ]
     },
     "execution_count": 79,
     "metadata": {},
     "output_type": "execute_result"
    }
   ],
   "execution_count": 79
  },
  {
   "metadata": {
    "ExecuteTime": {
     "end_time": "2025-06-20T20:24:15.538534Z",
     "start_time": "2025-06-20T20:24:15.534535Z"
    }
   },
   "cell_type": "code",
   "source": "surveys[12345]",
   "id": "281f7f6837ff3492",
   "outputs": [
    {
     "data": {
      "text/plain": [
       "'20 to 99 employees'"
      ]
     },
     "execution_count": 80,
     "metadata": {},
     "output_type": "execute_result"
    }
   ],
   "execution_count": 80
  },
  {
   "metadata": {
    "ExecuteTime": {
     "end_time": "2025-06-20T20:24:22.841007Z",
     "start_time": "2025-06-20T20:24:22.836501Z"
    }
   },
   "cell_type": "code",
   "source": "surveys[12341:12351]",
   "id": "6f647da9a0dd46e0",
   "outputs": [
    {
     "data": {
      "text/plain": [
       "14554    10,000 or more employees\n",
       "9429     10,000 or more employees\n",
       "6384     10,000 or more employees\n",
       "1102     10,000 or more employees\n",
       "14549    10,000 or more employees\n",
       "14547    10,000 or more employees\n",
       "14570    10,000 or more employees\n",
       "14575    10,000 or more employees\n",
       "6410     10,000 or more employees\n",
       "14576    10,000 or more employees\n",
       "Name: CompanySize, dtype: object"
      ]
     },
     "execution_count": 81,
     "metadata": {},
     "output_type": "execute_result"
    }
   ],
   "execution_count": 81
  },
  {
   "metadata": {
    "ExecuteTime": {
     "end_time": "2025-06-20T20:24:59.488808Z",
     "start_time": "2025-06-20T20:24:59.485822Z"
    }
   },
   "cell_type": "code",
   "source": "surveys.reset_index(drop=True,inplace=True)",
   "id": "590824a2eaf2e37b",
   "outputs": [],
   "execution_count": 82
  },
  {
   "metadata": {
    "ExecuteTime": {
     "end_time": "2025-06-20T20:25:03.461261Z",
     "start_time": "2025-06-20T20:25:03.456259Z"
    }
   },
   "cell_type": "code",
   "source": "surveys[3]",
   "id": "fefa446ad7ce5013",
   "outputs": [
    {
     "data": {
      "text/plain": [
       "'1,000 to 4,999 employees'"
      ]
     },
     "execution_count": 83,
     "metadata": {},
     "output_type": "execute_result"
    }
   ],
   "execution_count": 83
  },
  {
   "metadata": {},
   "cell_type": "markdown",
   "source": "# Getting values from Data Series",
   "id": "2bf3f1834a2ace6b"
  },
  {
   "metadata": {
    "ExecuteTime": {
     "end_time": "2025-06-20T20:38:22.748411Z",
     "start_time": "2025-06-20T20:38:22.722868Z"
    }
   },
   "cell_type": "code",
   "source": [
    "countries = pd.read_csv(\"data/data/countries.csv\", usecols=['Symbol','Name'],index_col='Symbol').squeeze()\n",
    "countries.head(20)"
   ],
   "id": "69dea5521b84f0c",
   "outputs": [
    {
     "data": {
      "text/plain": [
       "Symbol\n",
       "AF            Afghanistan\n",
       "AL                Albania\n",
       "DZ                Algeria\n",
       "AD                Andorra\n",
       "AO                 Angola\n",
       "AI               Anguilla\n",
       "AQ             Antarctica\n",
       "AG    Antigua and Barbuda\n",
       "SA           Saudi Arabia\n",
       "AR              Argentina\n",
       "AM                Armenia\n",
       "AW                  Aruba\n",
       "AU              Australia\n",
       "AT                Austria\n",
       "AZ             Azerbaijan\n",
       "BS                Bahamas\n",
       "BH                Bahrain\n",
       "BD             Bangladesh\n",
       "BB               Barbados\n",
       "BE                Belgium\n",
       "Name: Name, dtype: object"
      ]
     },
     "execution_count": 86,
     "metadata": {},
     "output_type": "execute_result"
    }
   ],
   "execution_count": 86
  },
  {
   "metadata": {
    "ExecuteTime": {
     "end_time": "2025-06-20T20:39:23.883921Z",
     "start_time": "2025-06-20T20:39:23.878362Z"
    }
   },
   "cell_type": "code",
   "source": "countries.loc['FR']",
   "id": "81ac595a62be4b6f",
   "outputs": [
    {
     "data": {
      "text/plain": [
       "'France'"
      ]
     },
     "execution_count": 88,
     "metadata": {},
     "output_type": "execute_result"
    }
   ],
   "execution_count": 88
  },
  {
   "metadata": {
    "ExecuteTime": {
     "end_time": "2025-06-20T20:39:35.064620Z",
     "start_time": "2025-06-20T20:39:35.059557Z"
    }
   },
   "cell_type": "code",
   "source": "countries.iloc[13]",
   "id": "c78cdb107cbd0eb",
   "outputs": [
    {
     "data": {
      "text/plain": [
       "'Austria'"
      ]
     },
     "execution_count": 89,
     "metadata": {},
     "output_type": "execute_result"
    }
   ],
   "execution_count": 89
  },
  {
   "metadata": {
    "ExecuteTime": {
     "end_time": "2025-06-20T20:40:08.559980Z",
     "start_time": "2025-06-20T20:40:08.556542Z"
    }
   },
   "cell_type": "code",
   "source": "nordic = ['FI','SE','NO']",
   "id": "b638e47049e98b80",
   "outputs": [],
   "execution_count": 90
  },
  {
   "metadata": {
    "ExecuteTime": {
     "end_time": "2025-06-20T20:40:26.160877Z",
     "start_time": "2025-06-20T20:40:26.155266Z"
    }
   },
   "cell_type": "code",
   "source": "countries.loc[nordic]",
   "id": "34ec6a25a3eb0897",
   "outputs": [
    {
     "data": {
      "text/plain": [
       "Symbol\n",
       "FI    Finland\n",
       "SE     Sweden\n",
       "NO     Norway\n",
       "Name: Name, dtype: object"
      ]
     },
     "execution_count": 91,
     "metadata": {},
     "output_type": "execute_result"
    }
   ],
   "execution_count": 91
  },
  {
   "metadata": {
    "ExecuteTime": {
     "end_time": "2025-06-20T20:40:36.464549Z",
     "start_time": "2025-06-20T20:40:36.460109Z"
    }
   },
   "cell_type": "code",
   "source": "countries[nordic]",
   "id": "55b4d1220f056ee9",
   "outputs": [
    {
     "data": {
      "text/plain": [
       "Symbol\n",
       "FI    Finland\n",
       "SE     Sweden\n",
       "NO     Norway\n",
       "Name: Name, dtype: object"
      ]
     },
     "execution_count": 92,
     "metadata": {},
     "output_type": "execute_result"
    }
   ],
   "execution_count": 92
  },
  {
   "metadata": {},
   "cell_type": "markdown",
   "source": "# Reindex and intersection of Data Series",
   "id": "58b58cc6f07dc944"
  },
  {
   "metadata": {
    "ExecuteTime": {
     "end_time": "2025-06-20T21:05:46.608542Z",
     "start_time": "2025-06-20T21:05:46.600037Z"
    }
   },
   "cell_type": "code",
   "source": [
    "countries=pd.read_csv('data/data/countries.csv',usecols=['Symbol','Name'], index_col='Symbol').squeeze()\n",
    "countries.dropna(inplace=True)\n",
    "countries.head(20)"
   ],
   "id": "da1183eed0b7074a",
   "outputs": [
    {
     "data": {
      "text/plain": [
       "Symbol\n",
       "AF            Afghanistan\n",
       "AL                Albania\n",
       "DZ                Algeria\n",
       "AD                Andorra\n",
       "AO                 Angola\n",
       "AI               Anguilla\n",
       "AQ             Antarctica\n",
       "AG    Antigua and Barbuda\n",
       "SA           Saudi Arabia\n",
       "AR              Argentina\n",
       "AM                Armenia\n",
       "AW                  Aruba\n",
       "AU              Australia\n",
       "AT                Austria\n",
       "AZ             Azerbaijan\n",
       "BS                Bahamas\n",
       "BH                Bahrain\n",
       "BD             Bangladesh\n",
       "BB               Barbados\n",
       "BE                Belgium\n",
       "Name: Name, dtype: object"
      ]
     },
     "execution_count": 113,
     "metadata": {},
     "output_type": "execute_result"
    }
   ],
   "execution_count": 113
  },
  {
   "metadata": {
    "ExecuteTime": {
     "end_time": "2025-06-20T20:49:45.500109Z",
     "start_time": "2025-06-20T20:49:45.497252Z"
    }
   },
   "cell_type": "code",
   "source": "toFind = ['BB','AA','BS']",
   "id": "5cbf8fdc822f093c",
   "outputs": [],
   "execution_count": 96
  },
  {
   "metadata": {
    "ExecuteTime": {
     "end_time": "2025-06-20T20:50:22.496950Z",
     "start_time": "2025-06-20T20:50:22.491442Z"
    }
   },
   "cell_type": "code",
   "source": "countries.reindex(toFind)",
   "id": "2205f0883ffa5fbb",
   "outputs": [
    {
     "data": {
      "text/plain": [
       "Symbol\n",
       "BB    Barbados\n",
       "AA         NaN\n",
       "BS     Bahamas\n",
       "Name: Name, dtype: object"
      ]
     },
     "execution_count": 98,
     "metadata": {},
     "output_type": "execute_result"
    }
   ],
   "execution_count": 98
  },
  {
   "metadata": {
    "ExecuteTime": {
     "end_time": "2025-06-20T20:51:18.746013Z",
     "start_time": "2025-06-20T20:51:18.738928Z"
    }
   },
   "cell_type": "code",
   "source": "countries.index.intersection(toFind)",
   "id": "1cc278a9ec7e15d2",
   "outputs": [
    {
     "data": {
      "text/plain": [
       "Index(['BS', 'BB'], dtype='object', name='Symbol')"
      ]
     },
     "execution_count": 99,
     "metadata": {},
     "output_type": "execute_result"
    }
   ],
   "execution_count": 99
  },
  {
   "metadata": {
    "ExecuteTime": {
     "end_time": "2025-06-20T20:51:50.299822Z",
     "start_time": "2025-06-20T20:51:50.294768Z"
    }
   },
   "cell_type": "code",
   "source": "countries.loc[countries.index.intersection(toFind)]",
   "id": "e620964b6596c6a3",
   "outputs": [
    {
     "data": {
      "text/plain": [
       "Symbol\n",
       "BS     Bahamas\n",
       "BB    Barbados\n",
       "Name: Name, dtype: object"
      ]
     },
     "execution_count": 101,
     "metadata": {},
     "output_type": "execute_result"
    }
   ],
   "execution_count": 101
  },
  {
   "metadata": {},
   "cell_type": "markdown",
   "source": "  # Defining Data Series index while importing data",
   "id": "af8b1de838233d01"
  },
  {
   "metadata": {
    "ExecuteTime": {
     "end_time": "2025-06-20T20:59:08.483133Z",
     "start_time": "2025-06-20T20:59:08.474629Z"
    }
   },
   "cell_type": "code",
   "source": [
    "fortune = pd.read_csv('data/data/Fortune_500_2017.csv',usecols=['Rank','Title'],index_col='Rank').squeeze()\n",
    "fortune.head()"
   ],
   "id": "a787037742358243",
   "outputs": [
    {
     "data": {
      "text/plain": [
       "Rank\n",
       "1               Walmart\n",
       "2    Berkshire Hathaway\n",
       "3                 Apple\n",
       "4           Exxon Mobil\n",
       "5              McKesson\n",
       "Name: Title, dtype: object"
      ]
     },
     "execution_count": 103,
     "metadata": {},
     "output_type": "execute_result"
    }
   ],
   "execution_count": 103
  },
  {
   "metadata": {
    "ExecuteTime": {
     "end_time": "2025-06-20T21:00:28.051421Z",
     "start_time": "2025-06-20T21:00:28.047057Z"
    }
   },
   "cell_type": "code",
   "source": "fortune.head(10)",
   "id": "9512ba227d406707",
   "outputs": [
    {
     "data": {
      "text/plain": [
       "Rank\n",
       "1                Walmart\n",
       "2     Berkshire Hathaway\n",
       "3                  Apple\n",
       "4            Exxon Mobil\n",
       "5               McKesson\n",
       "6     UnitedHealth Group\n",
       "7             CVS Health\n",
       "8         General Motors\n",
       "9                   AT&T\n",
       "10            Ford Motor\n",
       "Name: Title, dtype: object"
      ]
     },
     "execution_count": 104,
     "metadata": {},
     "output_type": "execute_result"
    }
   ],
   "execution_count": 104
  },
  {
   "metadata": {
    "ExecuteTime": {
     "end_time": "2025-06-20T21:00:35.595169Z",
     "start_time": "2025-06-20T21:00:35.589834Z"
    }
   },
   "cell_type": "code",
   "source": "fortune.tail(20)",
   "id": "db2c98b9315ffa56",
   "outputs": [
    {
     "data": {
      "text/plain": [
       "Rank\n",
       "481           Booz Allen Hamilton Holding\n",
       "482                              Chemours\n",
       "483    Western & Southern Financial Group\n",
       "484                              Celanese\n",
       "485                   Windstream Holdings\n",
       "486                              Seaboard\n",
       "487                             Essendant\n",
       "488                                Apache\n",
       "489                                Airgas\n",
       "490                        Kelly Services\n",
       "491                         Liberty Media\n",
       "492                      Rockwell Collins\n",
       "493             Robert Half International\n",
       "494                             CH2M Hill\n",
       "495                              Big Lots\n",
       "496                         Michaels Cos.\n",
       "497                         Toll Brothers\n",
       "498                                 Yahoo\n",
       "499                         Vistra Energy\n",
       "500                        ABM Industries\n",
       "Name: Title, dtype: object"
      ]
     },
     "execution_count": 105,
     "metadata": {},
     "output_type": "execute_result"
    }
   ],
   "execution_count": 105
  },
  {
   "metadata": {
    "ExecuteTime": {
     "end_time": "2025-06-20T21:01:15.261566Z",
     "start_time": "2025-06-20T21:01:15.254558Z"
    }
   },
   "cell_type": "code",
   "source": "fortune = pd.read_csv('data/data/Fortune_500_2017.csv',usecols=['Employees','Title'],index_col='Title').squeeze()",
   "id": "cf6fc22c57fcc637",
   "outputs": [],
   "execution_count": 107
  },
  {
   "metadata": {
    "ExecuteTime": {
     "end_time": "2025-06-20T21:02:05.138971Z",
     "start_time": "2025-06-20T21:02:05.132953Z"
    }
   },
   "cell_type": "code",
   "source": [
    "searchingData= ['IBM','Alphabet','Apple','Facebook']\n",
    "fortune.loc[searchingData]"
   ],
   "id": "422d66247cd1694",
   "outputs": [
    {
     "data": {
      "text/plain": [
       "Title\n",
       "IBM         414400\n",
       "Alphabet     72053\n",
       "Apple       116000\n",
       "Facebook     17048\n",
       "Name: Employees, dtype: int64"
      ]
     },
     "execution_count": 108,
     "metadata": {},
     "output_type": "execute_result"
    }
   ],
   "execution_count": 108
  },
  {
   "metadata": {
    "ExecuteTime": {
     "end_time": "2025-06-20T21:02:24.583606Z",
     "start_time": "2025-06-20T21:02:24.575089Z"
    }
   },
   "cell_type": "code",
   "source": "fortune.loc['IBM':'Intel']",
   "id": "2e0c86c130f339ca",
   "outputs": [
    {
     "data": {
      "text/plain": [
       "Title\n",
       "IBM                          414400\n",
       "State Farm Insurance Cos.     68234\n",
       "Phillips 66                   14800\n",
       "Johnson & Johnson            126400\n",
       "Procter & Gamble             105000\n",
       "Valero Energy                  9996\n",
       "Target                       323000\n",
       "Freddie Mac                    5982\n",
       "Lowe’s                       240000\n",
       "Dell Technologies            138000\n",
       "MetLife                       58000\n",
       "Aetna                         49500\n",
       "PepsiCo                      264000\n",
       "Archer Daniels Midland        31800\n",
       "UPS                          335520\n",
       "Intel                        106000\n",
       "Name: Employees, dtype: int64"
      ]
     },
     "execution_count": 109,
     "metadata": {},
     "output_type": "execute_result"
    }
   ],
   "execution_count": 109
  },
  {
   "metadata": {},
   "cell_type": "markdown",
   "source": "# More Data Series methods",
   "id": "8cb87eb522af725a"
  },
  {
   "metadata": {
    "ExecuteTime": {
     "end_time": "2025-06-21T12:30:38.043497Z",
     "start_time": "2025-06-21T12:30:36.171063Z"
    }
   },
   "cell_type": "code",
   "source": "programmers = pd.read_csv('data/data/StackOverflowDeveloperSurvey2018.csv',low_memory=False, usecols=['ConvertedSalary']).squeeze().dropna()",
   "id": "13f509f2f07f06f7",
   "outputs": [],
   "execution_count": 2
  },
  {
   "metadata": {
    "ExecuteTime": {
     "end_time": "2025-06-21T12:30:49.308181Z",
     "start_time": "2025-06-21T12:30:49.295438Z"
    }
   },
   "cell_type": "code",
   "source": "programmers.mean()",
   "id": "1061d166a929897d",
   "outputs": [
    {
     "data": {
      "text/plain": [
       "np.float64(95780.86178776571)"
      ]
     },
     "execution_count": 3,
     "metadata": {},
     "output_type": "execute_result"
    }
   ],
   "execution_count": 3
  },
  {
   "metadata": {
    "ExecuteTime": {
     "end_time": "2025-06-21T12:31:09.297133Z",
     "start_time": "2025-06-21T12:31:09.291165Z"
    }
   },
   "cell_type": "code",
   "source": "programmers.median()",
   "id": "486e1fd4b50fe32d",
   "outputs": [
    {
     "data": {
      "text/plain": [
       "np.float64(55075.0)"
      ]
     },
     "execution_count": 6,
     "metadata": {},
     "output_type": "execute_result"
    }
   ],
   "execution_count": 6
  },
  {
   "metadata": {
    "ExecuteTime": {
     "end_time": "2025-06-21T12:31:10.600532Z",
     "start_time": "2025-06-21T12:31:10.594771Z"
    }
   },
   "cell_type": "code",
   "source": "programmers.std()",
   "id": "3a09bd3147bcb178",
   "outputs": [
    {
     "data": {
      "text/plain": [
       "np.float64(202348.21562529122)"
      ]
     },
     "execution_count": 7,
     "metadata": {},
     "output_type": "execute_result"
    }
   ],
   "execution_count": 7
  },
  {
   "metadata": {
    "ExecuteTime": {
     "end_time": "2025-06-21T12:35:58.271698Z",
     "start_time": "2025-06-21T12:35:58.266694Z"
    }
   },
   "cell_type": "code",
   "source": "programmers.max()",
   "id": "81eaacd1f5267592",
   "outputs": [
    {
     "data": {
      "text/plain": [
       "np.float64(2000000.0)"
      ]
     },
     "execution_count": 17,
     "metadata": {},
     "output_type": "execute_result"
    }
   ],
   "execution_count": 17
  },
  {
   "metadata": {
    "ExecuteTime": {
     "end_time": "2025-06-21T12:33:09.029230Z",
     "start_time": "2025-06-21T12:33:09.001826Z"
    }
   },
   "cell_type": "code",
   "source": [
    "fortune500 = pd.read_csv('data/data/Fortune_500_2017.csv', usecols=['Title','Employees'], index_col='Title').squeeze()\n",
    "fortune500.head()"
   ],
   "id": "b8ac3ddbc327ae7a",
   "outputs": [
    {
     "data": {
      "text/plain": [
       "Title\n",
       "Walmart               2300000\n",
       "Berkshire Hathaway     367700\n",
       "Apple                  116000\n",
       "Exxon Mobil             72700\n",
       "McKesson                68000\n",
       "Name: Employees, dtype: int64"
      ]
     },
     "execution_count": 8,
     "metadata": {},
     "output_type": "execute_result"
    }
   ],
   "execution_count": 8
  },
  {
   "metadata": {
    "ExecuteTime": {
     "end_time": "2025-06-21T12:33:34.620178Z",
     "start_time": "2025-06-21T12:33:34.615168Z"
    }
   },
   "cell_type": "code",
   "source": "fortune500.idxmax()",
   "id": "38a43a4655f4fed3",
   "outputs": [
    {
     "data": {
      "text/plain": [
       "'Walmart'"
      ]
     },
     "execution_count": 9,
     "metadata": {},
     "output_type": "execute_result"
    }
   ],
   "execution_count": 9
  },
  {
   "metadata": {
    "ExecuteTime": {
     "end_time": "2025-06-21T12:35:13.774872Z",
     "start_time": "2025-06-21T12:35:13.769851Z"
    }
   },
   "cell_type": "code",
   "source": "fortune500.loc[fortune500.idxmax()]",
   "id": "c98363f7781f1390",
   "outputs": [
    {
     "data": {
      "text/plain": [
       "np.int64(2300000)"
      ]
     },
     "execution_count": 16,
     "metadata": {},
     "output_type": "execute_result"
    }
   ],
   "execution_count": 16
  },
  {
   "metadata": {
    "ExecuteTime": {
     "end_time": "2025-06-21T12:34:45.874597Z",
     "start_time": "2025-06-21T12:34:45.870621Z"
    }
   },
   "cell_type": "code",
   "source": [
    "minEployees = fortune500.idxmin()\n",
    "minEployees"
   ],
   "id": "f6d23c1b70f368e9",
   "outputs": [
    {
     "data": {
      "text/plain": [
       "'A-Mark Precious Metals'"
      ]
     },
     "execution_count": 13,
     "metadata": {},
     "output_type": "execute_result"
    }
   ],
   "execution_count": 13
  },
  {
   "metadata": {
    "ExecuteTime": {
     "end_time": "2025-06-21T12:35:01.888111Z",
     "start_time": "2025-06-21T12:35:01.883006Z"
    }
   },
   "cell_type": "code",
   "source": "fortune500.loc[minEployees]",
   "id": "99ca6eebfbd8e332",
   "outputs": [
    {
     "data": {
      "text/plain": [
       "np.int64(83)"
      ]
     },
     "execution_count": 14,
     "metadata": {},
     "output_type": "execute_result"
    }
   ],
   "execution_count": 14
  },
  {
   "metadata": {},
   "cell_type": "markdown",
   "source": "# Modifying Data Series",
   "id": "8fbb47c1c95e6bbf"
  },
  {
   "metadata": {
    "ExecuteTime": {
     "end_time": "2025-06-21T12:47:18.681955Z",
     "start_time": "2025-06-21T12:47:17.868581Z"
    }
   },
   "cell_type": "code",
   "source": [
    "surveys = pd.read_csv('data/data/StackOverflowDeveloperSurvey.csv', usecols=['Salary']).squeeze().dropna()\n",
    "surveys.head()"
   ],
   "id": "2c9f7db957af459a",
   "outputs": [
    {
     "data": {
      "text/plain": [
       "2     113750.0\n",
       "14    100000.0\n",
       "17    130000.0\n",
       "18     82500.0\n",
       "22    100764.0\n",
       "Name: Salary, dtype: float64"
      ]
     },
     "execution_count": 18,
     "metadata": {},
     "output_type": "execute_result"
    }
   ],
   "execution_count": 18
  },
  {
   "metadata": {
    "ExecuteTime": {
     "end_time": "2025-06-21T12:48:19.009089Z",
     "start_time": "2025-06-21T12:48:19.005078Z"
    }
   },
   "cell_type": "code",
   "source": [
    "surveys.count()\n",
    "len(surveys)"
   ],
   "id": "92c6b883f38691d",
   "outputs": [
    {
     "data": {
      "text/plain": [
       "12891"
      ]
     },
     "execution_count": 20,
     "metadata": {},
     "output_type": "execute_result"
    }
   ],
   "execution_count": 20
  },
  {
   "metadata": {
    "ExecuteTime": {
     "end_time": "2025-06-21T12:49:03.240443Z",
     "start_time": "2025-06-21T12:49:03.235442Z"
    }
   },
   "cell_type": "code",
   "source": [
    "surveysIncrease = surveys* 1.03\n",
    "surveysIncrease.head()"
   ],
   "id": "d3f8dcf4a57a1c45",
   "outputs": [
    {
     "data": {
      "text/plain": [
       "2     117162.50\n",
       "14    103000.00\n",
       "17    133900.00\n",
       "18     84975.00\n",
       "22    103786.92\n",
       "Name: Salary, dtype: float64"
      ]
     },
     "execution_count": 22,
     "metadata": {},
     "output_type": "execute_result"
    }
   ],
   "execution_count": 22
  },
  {
   "metadata": {
    "ExecuteTime": {
     "end_time": "2025-06-21T12:51:28.148260Z",
     "start_time": "2025-06-21T12:51:26.662112Z"
    }
   },
   "cell_type": "code",
   "source": [
    "surveysTime = pd.read_csv('data/data/StackOverflowDeveloperSurvey2018.csv', low_memory=False,\n",
    "                              usecols=['HoursOutside']).squeeze().dropna()\n",
    "surveysTime.head()"
   ],
   "id": "224887e06e6f03da",
   "outputs": [
    {
     "data": {
      "text/plain": [
       "0             1 - 2 hours\n",
       "1         30 - 59 minutes\n",
       "3    Less than 30 minutes\n",
       "4             1 - 2 hours\n",
       "5         30 - 59 minutes\n",
       "Name: HoursOutside, dtype: object"
      ]
     },
     "execution_count": 27,
     "metadata": {},
     "output_type": "execute_result"
    }
   ],
   "execution_count": 27
  },
  {
   "metadata": {
    "ExecuteTime": {
     "end_time": "2025-06-21T12:56:18.289649Z",
     "start_time": "2025-06-21T12:56:18.261644Z"
    }
   },
   "cell_type": "code",
   "source": "surveysTime.value_counts()",
   "id": "7f7b334ce0be25c2",
   "outputs": [
    {
     "data": {
      "text/plain": [
       "HoursOutside\n",
       "1 - 2 HOURS             27788\n",
       "30 - 59 MINUTES         24002\n",
       "LESS THAN 30 MINUTES    11223\n",
       "3 - 4 HOURS              7186\n",
       "OVER 4 HOURS             1825\n",
       "Name: count, dtype: int64"
      ]
     },
     "execution_count": 39,
     "metadata": {},
     "output_type": "execute_result"
    }
   ],
   "execution_count": 39
  },
  {
   "metadata": {
    "ExecuteTime": {
     "end_time": "2025-06-21T12:52:07.075867Z",
     "start_time": "2025-06-21T12:52:07.064910Z"
    }
   },
   "cell_type": "code",
   "source": [
    "surveysTime = surveysTime.str.lower()\n",
    "surveysTime.head()"
   ],
   "id": "216988646451172b",
   "outputs": [
    {
     "data": {
      "text/plain": [
       "0             1 - 2 hours\n",
       "1         30 - 59 minutes\n",
       "3    less than 30 minutes\n",
       "4             1 - 2 hours\n",
       "5         30 - 59 minutes\n",
       "Name: HoursOutside, dtype: object"
      ]
     },
     "execution_count": 29,
     "metadata": {},
     "output_type": "execute_result"
    }
   ],
   "execution_count": 29
  },
  {
   "metadata": {
    "ExecuteTime": {
     "end_time": "2025-06-21T12:57:28.504811Z",
     "start_time": "2025-06-21T12:57:28.488801Z"
    }
   },
   "cell_type": "code",
   "source": [
    "surveysTime = surveysTime.apply(lambda time: time.upper())\n",
    "surveysTime.head()"
   ],
   "id": "56d5088d20b61a64",
   "outputs": [
    {
     "data": {
      "text/plain": [
       "0            1 - 2 HOURS\n",
       "1        30 - 59 MINUTES\n",
       "3    LESS THAN HALF HOUR\n",
       "4            1 - 2 HOURS\n",
       "5        30 - 59 MINUTES\n",
       "Name: HoursOutside, dtype: object"
      ]
     },
     "execution_count": 51,
     "metadata": {},
     "output_type": "execute_result"
    }
   ],
   "execution_count": 51
  },
  {
   "metadata": {
    "ExecuteTime": {
     "end_time": "2025-06-21T12:56:51.960289Z",
     "start_time": "2025-06-21T12:56:51.946916Z"
    }
   },
   "cell_type": "code",
   "source": [
    "def change_description(text: str):\n",
    "    if text=='LESS THAN 30 MINUTES':\n",
    "        return 'LESS THAN HALF HOUR'\n",
    "    else:\n",
    "        return text\n",
    "surveysTime = surveysTime.apply(change_description)\n",
    "surveysTime.head()"
   ],
   "id": "e38040314fe754da",
   "outputs": [
    {
     "data": {
      "text/plain": [
       "0            1 - 2 HOURS\n",
       "1        30 - 59 MINUTES\n",
       "3    LESS THAN HALF HOUR\n",
       "4            1 - 2 HOURS\n",
       "5        30 - 59 MINUTES\n",
       "Name: HoursOutside, dtype: object"
      ]
     },
     "execution_count": 40,
     "metadata": {},
     "output_type": "execute_result"
    }
   ],
   "execution_count": 40
  },
  {
   "metadata": {},
   "cell_type": "markdown",
   "source": "# Map method on Data Series",
   "id": "8a371ba74396a3f4"
  },
  {
   "metadata": {
    "ExecuteTime": {
     "end_time": "2025-06-21T13:04:41.620974Z",
     "start_time": "2025-06-21T13:04:41.615153Z"
    }
   },
   "cell_type": "code",
   "source": [
    "training_dict = {\n",
    "    'PYT001': 'Airbus 320',\n",
    "    'PYT002': 'Boeing 737',\n",
    "    'PYT003': 'Airbus 321',\n",
    "}\n",
    "airCrafts = pd.Series(training_dict)\n",
    "airCrafts"
   ],
   "id": "6ec7d284579736bb",
   "outputs": [
    {
     "data": {
      "text/plain": [
       "PYT001    Airbus 320\n",
       "PYT002    Boeing 737\n",
       "PYT003    Airbus 321\n",
       "dtype: object"
      ]
     },
     "execution_count": 54,
     "metadata": {},
     "output_type": "execute_result"
    }
   ],
   "execution_count": 54
  },
  {
   "metadata": {
    "ExecuteTime": {
     "end_time": "2025-06-21T13:04:43.735236Z",
     "start_time": "2025-06-21T13:04:43.731721Z"
    }
   },
   "cell_type": "code",
   "source": "flightsList = [rnd.choice(airCrafts.index) for _ in range(100)]",
   "id": "bff07337e246857c",
   "outputs": [],
   "execution_count": 55
  },
  {
   "metadata": {
    "ExecuteTime": {
     "end_time": "2025-06-21T13:04:55.210939Z",
     "start_time": "2025-06-21T13:04:55.206938Z"
    }
   },
   "cell_type": "code",
   "source": "flightsList[:5]",
   "id": "96b1b857fc6d8b29",
   "outputs": [
    {
     "data": {
      "text/plain": [
       "['PYT002', 'PYT003', 'PYT003', 'PYT001', 'PYT003']"
      ]
     },
     "execution_count": 56,
     "metadata": {},
     "output_type": "execute_result"
    }
   ],
   "execution_count": 56
  },
  {
   "metadata": {
    "ExecuteTime": {
     "end_time": "2025-06-21T13:05:21.600371Z",
     "start_time": "2025-06-21T13:05:21.594972Z"
    }
   },
   "cell_type": "code",
   "source": [
    "flights = pd.Series(flightsList)\n",
    "flights.head()"
   ],
   "id": "5847ea1b857a0519",
   "outputs": [
    {
     "data": {
      "text/plain": [
       "0    PYT002\n",
       "1    PYT003\n",
       "2    PYT003\n",
       "3    PYT001\n",
       "4    PYT003\n",
       "dtype: object"
      ]
     },
     "execution_count": 58,
     "metadata": {},
     "output_type": "execute_result"
    }
   ],
   "execution_count": 58
  },
  {
   "metadata": {
    "ExecuteTime": {
     "end_time": "2025-06-22T19:34:11.931134Z",
     "start_time": "2025-06-22T19:34:11.900564Z"
    }
   },
   "cell_type": "code",
   "source": [
    "flightsAirCrafts =flights.map(airCrafts)\n",
    "flightsAirCrafts.head()"
   ],
   "id": "8529babf416b03d",
   "outputs": [
    {
     "ename": "NameError",
     "evalue": "name 'flights' is not defined",
     "output_type": "error",
     "traceback": [
      "\u001B[31m---------------------------------------------------------------------------\u001B[39m",
      "\u001B[31mNameError\u001B[39m                                 Traceback (most recent call last)",
      "\u001B[36mCell\u001B[39m\u001B[36m \u001B[39m\u001B[32mIn[2]\u001B[39m\u001B[32m, line 1\u001B[39m\n\u001B[32m----> \u001B[39m\u001B[32m1\u001B[39m flightsAirCrafts =\u001B[43mflights\u001B[49m.map(airCrafts)\n\u001B[32m      2\u001B[39m flightsAirCrafts.head()\n",
      "\u001B[31mNameError\u001B[39m: name 'flights' is not defined"
     ]
    }
   ],
   "execution_count": 2
  },
  {
   "metadata": {
    "ExecuteTime": {
     "end_time": "2025-06-21T13:07:29.470730Z",
     "start_time": "2025-06-21T13:07:29.465216Z"
    }
   },
   "cell_type": "code",
   "source": "flightsAirCrafts.value_counts()",
   "id": "db2e24feb79317ea",
   "outputs": [
    {
     "data": {
      "text/plain": [
       "Airbus 320    38\n",
       "Boeing 737    31\n",
       "Airbus 321    31\n",
       "Name: count, dtype: int64"
      ]
     },
     "execution_count": 60,
     "metadata": {},
     "output_type": "execute_result"
    }
   ],
   "execution_count": 60
  }
 ],
 "metadata": {
  "kernelspec": {
   "display_name": "Python 3",
   "language": "python",
   "name": "python3"
  },
  "language_info": {
   "codemirror_mode": {
    "name": "ipython",
    "version": 2
   },
   "file_extension": ".py",
   "mimetype": "text/x-python",
   "name": "python",
   "nbconvert_exporter": "python",
   "pygments_lexer": "ipython2",
   "version": "2.7.6"
  }
 },
 "nbformat": 4,
 "nbformat_minor": 5
}
